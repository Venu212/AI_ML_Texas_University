{
  "cells": [
    {
      "cell_type": "markdown",
      "metadata": {
        "id": "view-in-github",
        "colab_type": "text"
      },
      "source": [
        "<a href=\"https://colab.research.google.com/github/Venu212/AI_ML_Texas_University/blob/main/Default_on_Loan_Payement_Prediction.ipynb\" target=\"_parent\"><img src=\"https://colab.research.google.com/assets/colab-badge.svg\" alt=\"Open In Colab\"/></a>"
      ]
    },
    {
      "cell_type": "code",
      "source": [],
      "metadata": {
        "id": "tDLs2xg124vj"
      },
      "execution_count": null,
      "outputs": []
    },
    {
      "cell_type": "markdown",
      "metadata": {
        "id": "rAb81Xxm4VUz"
      },
      "source": [
        "## Default on Loan payment"
      ]
    },
    {
      "cell_type": "markdown",
      "metadata": {
        "id": "GrrF0x7p4J8J"
      },
      "source": [
        "## Default on Loan payment"
      ]
    },
    {
      "cell_type": "markdown",
      "metadata": {
        "id": "por0mEw_Qs9T"
      },
      "source": [
        "## Default on Loan payment"
      ]
    },
    {
      "cell_type": "markdown",
      "metadata": {
        "id": "ir1iglg4S69B"
      },
      "source": [
        "* The company aims to determine the relative importance of each parameter with regards to their contribution as to whether a loan is going to default or not.\n",
        "* Provided is a sample that contains the data of 90,000 + clients\n",
        "* Bank needa to come up with a classification model that will help the bank improve its services so that customers do not churn"
      ]
    },
    {
      "cell_type": "code",
      "execution_count": null,
      "metadata": {
        "id": "2IRxIgqxJpiM"
      },
      "outputs": [],
      "source": [
        "import pandas as pd\n",
        "import numpy as np\n",
        "import matplotlib.pyplot as plt\n",
        "import seaborn as sns\n",
        "%matplotlib inline\n",
        "\n",
        "import warnings\n",
        "warnings.filterwarnings('ignore')\n",
        "\n",
        "#pd.set_option('display.max_columns', None)\n",
        "#pd.set_option('display.max_rows', None)\n",
        "\n",
        "import pickle\n",
        "import joblib"
      ]
    },
    {
      "cell_type": "code",
      "execution_count": null,
      "metadata": {
        "id": "IvINCNoonJ0T"
      },
      "outputs": [],
      "source": [
        "# To be used for missing value imputation\n",
        "from sklearn.impute import SimpleImputer\n",
        "\n",
        "# To help with model building\n",
        "from sklearn.linear_model import LogisticRegression\n",
        "from sklearn.tree import DecisionTreeClassifier\n",
        "from sklearn.ensemble import (\n",
        "    AdaBoostClassifier,\n",
        "    GradientBoostingClassifier,\n",
        "    RandomForestClassifier,\n",
        "    BaggingClassifier,\n",
        ")\n",
        "from xgboost import XGBClassifier\n",
        "\n",
        "# To get different metric scores, and split data\n",
        "from sklearn import metrics\n",
        "from sklearn.model_selection import train_test_split, StratifiedKFold, cross_val_score\n",
        "from sklearn.metrics import (\n",
        "    f1_score,\n",
        "    accuracy_score,\n",
        "    recall_score,\n",
        "    precision_score,\n",
        "    confusion_matrix,\n",
        "    roc_auc_score,\n",
        "    ConfusionMatrixDisplay,\n",
        ")\n",
        "\n",
        "# To be used for data scaling and one hot encoding\n",
        "from sklearn.preprocessing import StandardScaler, MinMaxScaler, OneHotEncoder\n",
        "\n",
        "# To be used for tuning the model\n",
        "from sklearn.model_selection import GridSearchCV, RandomizedSearchCV\n",
        "\n",
        "\n"
      ]
    },
    {
      "cell_type": "code",
      "execution_count": null,
      "metadata": {
        "id": "isoak0gsm1NW"
      },
      "outputs": [],
      "source": [
        "import xgboost as xgb\n",
        "import lightgbm as lgb\n",
        "#import catboost as cb\n",
        "import time\n",
        "import warnings\n",
        "warnings.filterwarnings('ignore')\n"
      ]
    },
    {
      "cell_type": "code",
      "execution_count": null,
      "metadata": {
        "colab": {
          "base_uri": "https://localhost:8080/"
        },
        "id": "4IaXKI6FThgD",
        "outputId": "3c11b050-9718-40fb-9974-f66a2130729c"
      },
      "outputs": [
        {
          "output_type": "stream",
          "name": "stdout",
          "text": [
            "Drive already mounted at /content/drive; to attempt to forcibly remount, call drive.mount(\"/content/drive\", force_remount=True).\n"
          ]
        }
      ],
      "source": [
        "# load data\n",
        "# mount drive\n",
        "from google.colab import drive\n",
        "drive.mount('/content/drive')\n"
      ]
    },
    {
      "cell_type": "code",
      "execution_count": null,
      "metadata": {
        "id": "NNfiDVVnW1rb"
      },
      "outputs": [],
      "source": []
    },
    {
      "cell_type": "code",
      "execution_count": null,
      "metadata": {
        "id": "u5prUhT5Va6L"
      },
      "outputs": [],
      "source": [
        "# load data from drive\n",
        "df = pd.read_csv('/content/drive/MyDrive/AI_ML_Texas/Hackathon/data/Train_set_(1)_(2).csv')\n"
      ]
    },
    {
      "cell_type": "code",
      "execution_count": null,
      "metadata": {
        "id": "dPwk2DbkToC-"
      },
      "outputs": [],
      "source": [
        "# load data from drive\n",
        "df_test = pd.read_csv('/content/drive/MyDrive/AI_ML_Texas/Hackathon/data/Test_set_(1)_(1).csv')"
      ]
    },
    {
      "cell_type": "code",
      "execution_count": null,
      "metadata": {
        "id": "RLSjZrgvUBGW"
      },
      "outputs": [],
      "source": []
    },
    {
      "cell_type": "code",
      "execution_count": null,
      "metadata": {
        "colab": {
          "base_uri": "https://localhost:8080/",
          "height": 255
        },
        "id": "cdZ5T00KV2LL",
        "outputId": "a2c859b4-018e-4f9c-d688-11ead7a422ad"
      },
      "outputs": [
        {
          "output_type": "execute_result",
          "data": {
            "text/plain": [
              "         ID  loan_amnt loan_term  interest_rate loan_grade loan_subgrade  \\\n",
              "0  72199369       9000   3 years           9.17          B            B2   \n",
              "1  14257956      18000   3 years          13.65          C            C1   \n",
              "2  66216451      16000   3 years           7.26          A            A4   \n",
              "3  46974169      25000   3 years          13.99          C            C4   \n",
              "4  46725961      17000   3 years           6.39          A            A2   \n",
              "\n",
              "  job_experience home_ownership  annual_income income_verification_status  \\\n",
              "0       <5 Years            OWN        85000.0               Not Verified   \n",
              "1       <5 Years            OWN        64000.0                   Verified   \n",
              "2       <5 Years       MORTGAGE       150000.0            Source Verified   \n",
              "3            NaN       MORTGAGE        59800.0                   Verified   \n",
              "4      10+ years       MORTGAGE        72000.0            Source Verified   \n",
              "\n",
              "   ... delinq_2yrs public_records  revolving_balance  total_acc  \\\n",
              "0  ...         0.0            0.0              39519       20.0   \n",
              "1  ...         0.0            1.0               9783       24.0   \n",
              "2  ...         2.0            0.0              13641       27.0   \n",
              "3  ...         0.0            0.0              35020       35.0   \n",
              "4  ...         0.0            0.0              23990       26.0   \n",
              "\n",
              "   interest_receive  application_type  last_week_pay  total_current_balance  \\\n",
              "0             59.60        INDIVIDUAL            4.0                95493.0   \n",
              "1           3348.25        INDIVIDUAL           95.0               185433.0   \n",
              "2            276.69        INDIVIDUAL           13.0               180519.0   \n",
              "3           1106.72        INDIVIDUAL           17.0               183208.0   \n",
              "4            725.29        INDIVIDUAL           39.0                23990.0   \n",
              "\n",
              "  total_revolving_limit  default  \n",
              "0               84100.0        0  \n",
              "1               13500.0        0  \n",
              "2               19300.0        0  \n",
              "3               55400.0        0  \n",
              "4               81300.0        0  \n",
              "\n",
              "[5 rows x 23 columns]"
            ],
            "text/html": [
              "\n",
              "  <div id=\"df-bcf3b3a7-a8ee-4383-8168-2a9ad8084d9c\" class=\"colab-df-container\">\n",
              "    <div>\n",
              "<style scoped>\n",
              "    .dataframe tbody tr th:only-of-type {\n",
              "        vertical-align: middle;\n",
              "    }\n",
              "\n",
              "    .dataframe tbody tr th {\n",
              "        vertical-align: top;\n",
              "    }\n",
              "\n",
              "    .dataframe thead th {\n",
              "        text-align: right;\n",
              "    }\n",
              "</style>\n",
              "<table border=\"1\" class=\"dataframe\">\n",
              "  <thead>\n",
              "    <tr style=\"text-align: right;\">\n",
              "      <th></th>\n",
              "      <th>ID</th>\n",
              "      <th>loan_amnt</th>\n",
              "      <th>loan_term</th>\n",
              "      <th>interest_rate</th>\n",
              "      <th>loan_grade</th>\n",
              "      <th>loan_subgrade</th>\n",
              "      <th>job_experience</th>\n",
              "      <th>home_ownership</th>\n",
              "      <th>annual_income</th>\n",
              "      <th>income_verification_status</th>\n",
              "      <th>...</th>\n",
              "      <th>delinq_2yrs</th>\n",
              "      <th>public_records</th>\n",
              "      <th>revolving_balance</th>\n",
              "      <th>total_acc</th>\n",
              "      <th>interest_receive</th>\n",
              "      <th>application_type</th>\n",
              "      <th>last_week_pay</th>\n",
              "      <th>total_current_balance</th>\n",
              "      <th>total_revolving_limit</th>\n",
              "      <th>default</th>\n",
              "    </tr>\n",
              "  </thead>\n",
              "  <tbody>\n",
              "    <tr>\n",
              "      <th>0</th>\n",
              "      <td>72199369</td>\n",
              "      <td>9000</td>\n",
              "      <td>3 years</td>\n",
              "      <td>9.17</td>\n",
              "      <td>B</td>\n",
              "      <td>B2</td>\n",
              "      <td>&lt;5 Years</td>\n",
              "      <td>OWN</td>\n",
              "      <td>85000.0</td>\n",
              "      <td>Not Verified</td>\n",
              "      <td>...</td>\n",
              "      <td>0.0</td>\n",
              "      <td>0.0</td>\n",
              "      <td>39519</td>\n",
              "      <td>20.0</td>\n",
              "      <td>59.60</td>\n",
              "      <td>INDIVIDUAL</td>\n",
              "      <td>4.0</td>\n",
              "      <td>95493.0</td>\n",
              "      <td>84100.0</td>\n",
              "      <td>0</td>\n",
              "    </tr>\n",
              "    <tr>\n",
              "      <th>1</th>\n",
              "      <td>14257956</td>\n",
              "      <td>18000</td>\n",
              "      <td>3 years</td>\n",
              "      <td>13.65</td>\n",
              "      <td>C</td>\n",
              "      <td>C1</td>\n",
              "      <td>&lt;5 Years</td>\n",
              "      <td>OWN</td>\n",
              "      <td>64000.0</td>\n",
              "      <td>Verified</td>\n",
              "      <td>...</td>\n",
              "      <td>0.0</td>\n",
              "      <td>1.0</td>\n",
              "      <td>9783</td>\n",
              "      <td>24.0</td>\n",
              "      <td>3348.25</td>\n",
              "      <td>INDIVIDUAL</td>\n",
              "      <td>95.0</td>\n",
              "      <td>185433.0</td>\n",
              "      <td>13500.0</td>\n",
              "      <td>0</td>\n",
              "    </tr>\n",
              "    <tr>\n",
              "      <th>2</th>\n",
              "      <td>66216451</td>\n",
              "      <td>16000</td>\n",
              "      <td>3 years</td>\n",
              "      <td>7.26</td>\n",
              "      <td>A</td>\n",
              "      <td>A4</td>\n",
              "      <td>&lt;5 Years</td>\n",
              "      <td>MORTGAGE</td>\n",
              "      <td>150000.0</td>\n",
              "      <td>Source Verified</td>\n",
              "      <td>...</td>\n",
              "      <td>2.0</td>\n",
              "      <td>0.0</td>\n",
              "      <td>13641</td>\n",
              "      <td>27.0</td>\n",
              "      <td>276.69</td>\n",
              "      <td>INDIVIDUAL</td>\n",
              "      <td>13.0</td>\n",
              "      <td>180519.0</td>\n",
              "      <td>19300.0</td>\n",
              "      <td>0</td>\n",
              "    </tr>\n",
              "    <tr>\n",
              "      <th>3</th>\n",
              "      <td>46974169</td>\n",
              "      <td>25000</td>\n",
              "      <td>3 years</td>\n",
              "      <td>13.99</td>\n",
              "      <td>C</td>\n",
              "      <td>C4</td>\n",
              "      <td>NaN</td>\n",
              "      <td>MORTGAGE</td>\n",
              "      <td>59800.0</td>\n",
              "      <td>Verified</td>\n",
              "      <td>...</td>\n",
              "      <td>0.0</td>\n",
              "      <td>0.0</td>\n",
              "      <td>35020</td>\n",
              "      <td>35.0</td>\n",
              "      <td>1106.72</td>\n",
              "      <td>INDIVIDUAL</td>\n",
              "      <td>17.0</td>\n",
              "      <td>183208.0</td>\n",
              "      <td>55400.0</td>\n",
              "      <td>0</td>\n",
              "    </tr>\n",
              "    <tr>\n",
              "      <th>4</th>\n",
              "      <td>46725961</td>\n",
              "      <td>17000</td>\n",
              "      <td>3 years</td>\n",
              "      <td>6.39</td>\n",
              "      <td>A</td>\n",
              "      <td>A2</td>\n",
              "      <td>10+ years</td>\n",
              "      <td>MORTGAGE</td>\n",
              "      <td>72000.0</td>\n",
              "      <td>Source Verified</td>\n",
              "      <td>...</td>\n",
              "      <td>0.0</td>\n",
              "      <td>0.0</td>\n",
              "      <td>23990</td>\n",
              "      <td>26.0</td>\n",
              "      <td>725.29</td>\n",
              "      <td>INDIVIDUAL</td>\n",
              "      <td>39.0</td>\n",
              "      <td>23990.0</td>\n",
              "      <td>81300.0</td>\n",
              "      <td>0</td>\n",
              "    </tr>\n",
              "  </tbody>\n",
              "</table>\n",
              "<p>5 rows × 23 columns</p>\n",
              "</div>\n",
              "    <div class=\"colab-df-buttons\">\n",
              "\n",
              "  <div class=\"colab-df-container\">\n",
              "    <button class=\"colab-df-convert\" onclick=\"convertToInteractive('df-bcf3b3a7-a8ee-4383-8168-2a9ad8084d9c')\"\n",
              "            title=\"Convert this dataframe to an interactive table.\"\n",
              "            style=\"display:none;\">\n",
              "\n",
              "  <svg xmlns=\"http://www.w3.org/2000/svg\" height=\"24px\" viewBox=\"0 -960 960 960\">\n",
              "    <path d=\"M120-120v-720h720v720H120Zm60-500h600v-160H180v160Zm220 220h160v-160H400v160Zm0 220h160v-160H400v160ZM180-400h160v-160H180v160Zm440 0h160v-160H620v160ZM180-180h160v-160H180v160Zm440 0h160v-160H620v160Z\"/>\n",
              "  </svg>\n",
              "    </button>\n",
              "\n",
              "  <style>\n",
              "    .colab-df-container {\n",
              "      display:flex;\n",
              "      gap: 12px;\n",
              "    }\n",
              "\n",
              "    .colab-df-convert {\n",
              "      background-color: #E8F0FE;\n",
              "      border: none;\n",
              "      border-radius: 50%;\n",
              "      cursor: pointer;\n",
              "      display: none;\n",
              "      fill: #1967D2;\n",
              "      height: 32px;\n",
              "      padding: 0 0 0 0;\n",
              "      width: 32px;\n",
              "    }\n",
              "\n",
              "    .colab-df-convert:hover {\n",
              "      background-color: #E2EBFA;\n",
              "      box-shadow: 0px 1px 2px rgba(60, 64, 67, 0.3), 0px 1px 3px 1px rgba(60, 64, 67, 0.15);\n",
              "      fill: #174EA6;\n",
              "    }\n",
              "\n",
              "    .colab-df-buttons div {\n",
              "      margin-bottom: 4px;\n",
              "    }\n",
              "\n",
              "    [theme=dark] .colab-df-convert {\n",
              "      background-color: #3B4455;\n",
              "      fill: #D2E3FC;\n",
              "    }\n",
              "\n",
              "    [theme=dark] .colab-df-convert:hover {\n",
              "      background-color: #434B5C;\n",
              "      box-shadow: 0px 1px 3px 1px rgba(0, 0, 0, 0.15);\n",
              "      filter: drop-shadow(0px 1px 2px rgba(0, 0, 0, 0.3));\n",
              "      fill: #FFFFFF;\n",
              "    }\n",
              "  </style>\n",
              "\n",
              "    <script>\n",
              "      const buttonEl =\n",
              "        document.querySelector('#df-bcf3b3a7-a8ee-4383-8168-2a9ad8084d9c button.colab-df-convert');\n",
              "      buttonEl.style.display =\n",
              "        google.colab.kernel.accessAllowed ? 'block' : 'none';\n",
              "\n",
              "      async function convertToInteractive(key) {\n",
              "        const element = document.querySelector('#df-bcf3b3a7-a8ee-4383-8168-2a9ad8084d9c');\n",
              "        const dataTable =\n",
              "          await google.colab.kernel.invokeFunction('convertToInteractive',\n",
              "                                                    [key], {});\n",
              "        if (!dataTable) return;\n",
              "\n",
              "        const docLinkHtml = 'Like what you see? Visit the ' +\n",
              "          '<a target=\"_blank\" href=https://colab.research.google.com/notebooks/data_table.ipynb>data table notebook</a>'\n",
              "          + ' to learn more about interactive tables.';\n",
              "        element.innerHTML = '';\n",
              "        dataTable['output_type'] = 'display_data';\n",
              "        await google.colab.output.renderOutput(dataTable, element);\n",
              "        const docLink = document.createElement('div');\n",
              "        docLink.innerHTML = docLinkHtml;\n",
              "        element.appendChild(docLink);\n",
              "      }\n",
              "    </script>\n",
              "  </div>\n",
              "\n",
              "\n",
              "<div id=\"df-d82d1197-6a53-4f8b-9737-c5f90aae792c\">\n",
              "  <button class=\"colab-df-quickchart\" onclick=\"quickchart('df-d82d1197-6a53-4f8b-9737-c5f90aae792c')\"\n",
              "            title=\"Suggest charts\"\n",
              "            style=\"display:none;\">\n",
              "\n",
              "<svg xmlns=\"http://www.w3.org/2000/svg\" height=\"24px\"viewBox=\"0 0 24 24\"\n",
              "     width=\"24px\">\n",
              "    <g>\n",
              "        <path d=\"M19 3H5c-1.1 0-2 .9-2 2v14c0 1.1.9 2 2 2h14c1.1 0 2-.9 2-2V5c0-1.1-.9-2-2-2zM9 17H7v-7h2v7zm4 0h-2V7h2v10zm4 0h-2v-4h2v4z\"/>\n",
              "    </g>\n",
              "</svg>\n",
              "  </button>\n",
              "\n",
              "<style>\n",
              "  .colab-df-quickchart {\n",
              "      --bg-color: #E8F0FE;\n",
              "      --fill-color: #1967D2;\n",
              "      --hover-bg-color: #E2EBFA;\n",
              "      --hover-fill-color: #174EA6;\n",
              "      --disabled-fill-color: #AAA;\n",
              "      --disabled-bg-color: #DDD;\n",
              "  }\n",
              "\n",
              "  [theme=dark] .colab-df-quickchart {\n",
              "      --bg-color: #3B4455;\n",
              "      --fill-color: #D2E3FC;\n",
              "      --hover-bg-color: #434B5C;\n",
              "      --hover-fill-color: #FFFFFF;\n",
              "      --disabled-bg-color: #3B4455;\n",
              "      --disabled-fill-color: #666;\n",
              "  }\n",
              "\n",
              "  .colab-df-quickchart {\n",
              "    background-color: var(--bg-color);\n",
              "    border: none;\n",
              "    border-radius: 50%;\n",
              "    cursor: pointer;\n",
              "    display: none;\n",
              "    fill: var(--fill-color);\n",
              "    height: 32px;\n",
              "    padding: 0;\n",
              "    width: 32px;\n",
              "  }\n",
              "\n",
              "  .colab-df-quickchart:hover {\n",
              "    background-color: var(--hover-bg-color);\n",
              "    box-shadow: 0 1px 2px rgba(60, 64, 67, 0.3), 0 1px 3px 1px rgba(60, 64, 67, 0.15);\n",
              "    fill: var(--button-hover-fill-color);\n",
              "  }\n",
              "\n",
              "  .colab-df-quickchart-complete:disabled,\n",
              "  .colab-df-quickchart-complete:disabled:hover {\n",
              "    background-color: var(--disabled-bg-color);\n",
              "    fill: var(--disabled-fill-color);\n",
              "    box-shadow: none;\n",
              "  }\n",
              "\n",
              "  .colab-df-spinner {\n",
              "    border: 2px solid var(--fill-color);\n",
              "    border-color: transparent;\n",
              "    border-bottom-color: var(--fill-color);\n",
              "    animation:\n",
              "      spin 1s steps(1) infinite;\n",
              "  }\n",
              "\n",
              "  @keyframes spin {\n",
              "    0% {\n",
              "      border-color: transparent;\n",
              "      border-bottom-color: var(--fill-color);\n",
              "      border-left-color: var(--fill-color);\n",
              "    }\n",
              "    20% {\n",
              "      border-color: transparent;\n",
              "      border-left-color: var(--fill-color);\n",
              "      border-top-color: var(--fill-color);\n",
              "    }\n",
              "    30% {\n",
              "      border-color: transparent;\n",
              "      border-left-color: var(--fill-color);\n",
              "      border-top-color: var(--fill-color);\n",
              "      border-right-color: var(--fill-color);\n",
              "    }\n",
              "    40% {\n",
              "      border-color: transparent;\n",
              "      border-right-color: var(--fill-color);\n",
              "      border-top-color: var(--fill-color);\n",
              "    }\n",
              "    60% {\n",
              "      border-color: transparent;\n",
              "      border-right-color: var(--fill-color);\n",
              "    }\n",
              "    80% {\n",
              "      border-color: transparent;\n",
              "      border-right-color: var(--fill-color);\n",
              "      border-bottom-color: var(--fill-color);\n",
              "    }\n",
              "    90% {\n",
              "      border-color: transparent;\n",
              "      border-bottom-color: var(--fill-color);\n",
              "    }\n",
              "  }\n",
              "</style>\n",
              "\n",
              "  <script>\n",
              "    async function quickchart(key) {\n",
              "      const quickchartButtonEl =\n",
              "        document.querySelector('#' + key + ' button');\n",
              "      quickchartButtonEl.disabled = true;  // To prevent multiple clicks.\n",
              "      quickchartButtonEl.classList.add('colab-df-spinner');\n",
              "      try {\n",
              "        const charts = await google.colab.kernel.invokeFunction(\n",
              "            'suggestCharts', [key], {});\n",
              "      } catch (error) {\n",
              "        console.error('Error during call to suggestCharts:', error);\n",
              "      }\n",
              "      quickchartButtonEl.classList.remove('colab-df-spinner');\n",
              "      quickchartButtonEl.classList.add('colab-df-quickchart-complete');\n",
              "    }\n",
              "    (() => {\n",
              "      let quickchartButtonEl =\n",
              "        document.querySelector('#df-d82d1197-6a53-4f8b-9737-c5f90aae792c button');\n",
              "      quickchartButtonEl.style.display =\n",
              "        google.colab.kernel.accessAllowed ? 'block' : 'none';\n",
              "    })();\n",
              "  </script>\n",
              "</div>\n",
              "\n",
              "    </div>\n",
              "  </div>\n"
            ],
            "application/vnd.google.colaboratory.intrinsic+json": {
              "type": "dataframe",
              "variable_name": "df"
            }
          },
          "metadata": {},
          "execution_count": 60
        }
      ],
      "source": [
        "df.head()"
      ]
    },
    {
      "cell_type": "code",
      "execution_count": null,
      "metadata": {
        "colab": {
          "base_uri": "https://localhost:8080/",
          "height": 255
        },
        "id": "s7IAJCYzY9sV",
        "outputId": "bb7da72a-0830-4b4d-9569-6e77abc14809"
      },
      "outputs": [
        {
          "output_type": "execute_result",
          "data": {
            "text/plain": [
              "             ID  loan_amnt loan_term  interest_rate loan_grade loan_subgrade  \\\n",
              "93169  65577252       3200   3 years           7.26          A            A4   \n",
              "93170    836021       3500   3 years           5.42          A            A1   \n",
              "93171  33058720       8000   3 years          13.98          C            C3   \n",
              "93172   4060472      35000   3 years          17.77          D            D1   \n",
              "93173   3628127      10000   3 years          15.80          C            C3   \n",
              "\n",
              "      job_experience home_ownership  annual_income income_verification_status  \\\n",
              "93169       <5 Years           RENT        85000.0               Not Verified   \n",
              "93170            NaN       MORTGAGE        57550.0               Not Verified   \n",
              "93171      10+ years           RENT       148531.5            Source Verified   \n",
              "93172       <5 Years           RENT       100000.0                   Verified   \n",
              "93173       <5 Years           RENT        60000.0                   Verified   \n",
              "\n",
              "       ... delinq_2yrs public_records  revolving_balance  total_acc  \\\n",
              "93169  ...         0.0            0.0               7924       38.0   \n",
              "93170  ...         0.0            0.0              10174       24.0   \n",
              "93171  ...         1.0            0.0               5391       25.0   \n",
              "93172  ...         0.0            0.0              24609       45.0   \n",
              "93173  ...         0.0            0.0              11285        7.0   \n",
              "\n",
              "       interest_receive  application_type  last_week_pay  \\\n",
              "93169             55.34        INDIVIDUAL           13.0   \n",
              "93170            299.67        INDIVIDUAL          161.0   \n",
              "93171           1150.58        INDIVIDUAL           65.0   \n",
              "93172           5764.58        INDIVIDUAL           56.0   \n",
              "93173           2279.36        INDIVIDUAL          104.0   \n",
              "\n",
              "       total_current_balance total_revolving_limit  default  \n",
              "93169                64635.0               47600.0        0  \n",
              "93170                    NaN                   NaN        1  \n",
              "93171                94596.0                6500.0        0  \n",
              "93172                33759.0               34900.0        1  \n",
              "93173                25594.0               12300.0        0  \n",
              "\n",
              "[5 rows x 23 columns]"
            ],
            "text/html": [
              "\n",
              "  <div id=\"df-6cae54a3-1f93-400c-96a6-a432a6d54073\" class=\"colab-df-container\">\n",
              "    <div>\n",
              "<style scoped>\n",
              "    .dataframe tbody tr th:only-of-type {\n",
              "        vertical-align: middle;\n",
              "    }\n",
              "\n",
              "    .dataframe tbody tr th {\n",
              "        vertical-align: top;\n",
              "    }\n",
              "\n",
              "    .dataframe thead th {\n",
              "        text-align: right;\n",
              "    }\n",
              "</style>\n",
              "<table border=\"1\" class=\"dataframe\">\n",
              "  <thead>\n",
              "    <tr style=\"text-align: right;\">\n",
              "      <th></th>\n",
              "      <th>ID</th>\n",
              "      <th>loan_amnt</th>\n",
              "      <th>loan_term</th>\n",
              "      <th>interest_rate</th>\n",
              "      <th>loan_grade</th>\n",
              "      <th>loan_subgrade</th>\n",
              "      <th>job_experience</th>\n",
              "      <th>home_ownership</th>\n",
              "      <th>annual_income</th>\n",
              "      <th>income_verification_status</th>\n",
              "      <th>...</th>\n",
              "      <th>delinq_2yrs</th>\n",
              "      <th>public_records</th>\n",
              "      <th>revolving_balance</th>\n",
              "      <th>total_acc</th>\n",
              "      <th>interest_receive</th>\n",
              "      <th>application_type</th>\n",
              "      <th>last_week_pay</th>\n",
              "      <th>total_current_balance</th>\n",
              "      <th>total_revolving_limit</th>\n",
              "      <th>default</th>\n",
              "    </tr>\n",
              "  </thead>\n",
              "  <tbody>\n",
              "    <tr>\n",
              "      <th>93169</th>\n",
              "      <td>65577252</td>\n",
              "      <td>3200</td>\n",
              "      <td>3 years</td>\n",
              "      <td>7.26</td>\n",
              "      <td>A</td>\n",
              "      <td>A4</td>\n",
              "      <td>&lt;5 Years</td>\n",
              "      <td>RENT</td>\n",
              "      <td>85000.0</td>\n",
              "      <td>Not Verified</td>\n",
              "      <td>...</td>\n",
              "      <td>0.0</td>\n",
              "      <td>0.0</td>\n",
              "      <td>7924</td>\n",
              "      <td>38.0</td>\n",
              "      <td>55.34</td>\n",
              "      <td>INDIVIDUAL</td>\n",
              "      <td>13.0</td>\n",
              "      <td>64635.0</td>\n",
              "      <td>47600.0</td>\n",
              "      <td>0</td>\n",
              "    </tr>\n",
              "    <tr>\n",
              "      <th>93170</th>\n",
              "      <td>836021</td>\n",
              "      <td>3500</td>\n",
              "      <td>3 years</td>\n",
              "      <td>5.42</td>\n",
              "      <td>A</td>\n",
              "      <td>A1</td>\n",
              "      <td>NaN</td>\n",
              "      <td>MORTGAGE</td>\n",
              "      <td>57550.0</td>\n",
              "      <td>Not Verified</td>\n",
              "      <td>...</td>\n",
              "      <td>0.0</td>\n",
              "      <td>0.0</td>\n",
              "      <td>10174</td>\n",
              "      <td>24.0</td>\n",
              "      <td>299.67</td>\n",
              "      <td>INDIVIDUAL</td>\n",
              "      <td>161.0</td>\n",
              "      <td>NaN</td>\n",
              "      <td>NaN</td>\n",
              "      <td>1</td>\n",
              "    </tr>\n",
              "    <tr>\n",
              "      <th>93171</th>\n",
              "      <td>33058720</td>\n",
              "      <td>8000</td>\n",
              "      <td>3 years</td>\n",
              "      <td>13.98</td>\n",
              "      <td>C</td>\n",
              "      <td>C3</td>\n",
              "      <td>10+ years</td>\n",
              "      <td>RENT</td>\n",
              "      <td>148531.5</td>\n",
              "      <td>Source Verified</td>\n",
              "      <td>...</td>\n",
              "      <td>1.0</td>\n",
              "      <td>0.0</td>\n",
              "      <td>5391</td>\n",
              "      <td>25.0</td>\n",
              "      <td>1150.58</td>\n",
              "      <td>INDIVIDUAL</td>\n",
              "      <td>65.0</td>\n",
              "      <td>94596.0</td>\n",
              "      <td>6500.0</td>\n",
              "      <td>0</td>\n",
              "    </tr>\n",
              "    <tr>\n",
              "      <th>93172</th>\n",
              "      <td>4060472</td>\n",
              "      <td>35000</td>\n",
              "      <td>3 years</td>\n",
              "      <td>17.77</td>\n",
              "      <td>D</td>\n",
              "      <td>D1</td>\n",
              "      <td>&lt;5 Years</td>\n",
              "      <td>RENT</td>\n",
              "      <td>100000.0</td>\n",
              "      <td>Verified</td>\n",
              "      <td>...</td>\n",
              "      <td>0.0</td>\n",
              "      <td>0.0</td>\n",
              "      <td>24609</td>\n",
              "      <td>45.0</td>\n",
              "      <td>5764.58</td>\n",
              "      <td>INDIVIDUAL</td>\n",
              "      <td>56.0</td>\n",
              "      <td>33759.0</td>\n",
              "      <td>34900.0</td>\n",
              "      <td>1</td>\n",
              "    </tr>\n",
              "    <tr>\n",
              "      <th>93173</th>\n",
              "      <td>3628127</td>\n",
              "      <td>10000</td>\n",
              "      <td>3 years</td>\n",
              "      <td>15.80</td>\n",
              "      <td>C</td>\n",
              "      <td>C3</td>\n",
              "      <td>&lt;5 Years</td>\n",
              "      <td>RENT</td>\n",
              "      <td>60000.0</td>\n",
              "      <td>Verified</td>\n",
              "      <td>...</td>\n",
              "      <td>0.0</td>\n",
              "      <td>0.0</td>\n",
              "      <td>11285</td>\n",
              "      <td>7.0</td>\n",
              "      <td>2279.36</td>\n",
              "      <td>INDIVIDUAL</td>\n",
              "      <td>104.0</td>\n",
              "      <td>25594.0</td>\n",
              "      <td>12300.0</td>\n",
              "      <td>0</td>\n",
              "    </tr>\n",
              "  </tbody>\n",
              "</table>\n",
              "<p>5 rows × 23 columns</p>\n",
              "</div>\n",
              "    <div class=\"colab-df-buttons\">\n",
              "\n",
              "  <div class=\"colab-df-container\">\n",
              "    <button class=\"colab-df-convert\" onclick=\"convertToInteractive('df-6cae54a3-1f93-400c-96a6-a432a6d54073')\"\n",
              "            title=\"Convert this dataframe to an interactive table.\"\n",
              "            style=\"display:none;\">\n",
              "\n",
              "  <svg xmlns=\"http://www.w3.org/2000/svg\" height=\"24px\" viewBox=\"0 -960 960 960\">\n",
              "    <path d=\"M120-120v-720h720v720H120Zm60-500h600v-160H180v160Zm220 220h160v-160H400v160Zm0 220h160v-160H400v160ZM180-400h160v-160H180v160Zm440 0h160v-160H620v160ZM180-180h160v-160H180v160Zm440 0h160v-160H620v160Z\"/>\n",
              "  </svg>\n",
              "    </button>\n",
              "\n",
              "  <style>\n",
              "    .colab-df-container {\n",
              "      display:flex;\n",
              "      gap: 12px;\n",
              "    }\n",
              "\n",
              "    .colab-df-convert {\n",
              "      background-color: #E8F0FE;\n",
              "      border: none;\n",
              "      border-radius: 50%;\n",
              "      cursor: pointer;\n",
              "      display: none;\n",
              "      fill: #1967D2;\n",
              "      height: 32px;\n",
              "      padding: 0 0 0 0;\n",
              "      width: 32px;\n",
              "    }\n",
              "\n",
              "    .colab-df-convert:hover {\n",
              "      background-color: #E2EBFA;\n",
              "      box-shadow: 0px 1px 2px rgba(60, 64, 67, 0.3), 0px 1px 3px 1px rgba(60, 64, 67, 0.15);\n",
              "      fill: #174EA6;\n",
              "    }\n",
              "\n",
              "    .colab-df-buttons div {\n",
              "      margin-bottom: 4px;\n",
              "    }\n",
              "\n",
              "    [theme=dark] .colab-df-convert {\n",
              "      background-color: #3B4455;\n",
              "      fill: #D2E3FC;\n",
              "    }\n",
              "\n",
              "    [theme=dark] .colab-df-convert:hover {\n",
              "      background-color: #434B5C;\n",
              "      box-shadow: 0px 1px 3px 1px rgba(0, 0, 0, 0.15);\n",
              "      filter: drop-shadow(0px 1px 2px rgba(0, 0, 0, 0.3));\n",
              "      fill: #FFFFFF;\n",
              "    }\n",
              "  </style>\n",
              "\n",
              "    <script>\n",
              "      const buttonEl =\n",
              "        document.querySelector('#df-6cae54a3-1f93-400c-96a6-a432a6d54073 button.colab-df-convert');\n",
              "      buttonEl.style.display =\n",
              "        google.colab.kernel.accessAllowed ? 'block' : 'none';\n",
              "\n",
              "      async function convertToInteractive(key) {\n",
              "        const element = document.querySelector('#df-6cae54a3-1f93-400c-96a6-a432a6d54073');\n",
              "        const dataTable =\n",
              "          await google.colab.kernel.invokeFunction('convertToInteractive',\n",
              "                                                    [key], {});\n",
              "        if (!dataTable) return;\n",
              "\n",
              "        const docLinkHtml = 'Like what you see? Visit the ' +\n",
              "          '<a target=\"_blank\" href=https://colab.research.google.com/notebooks/data_table.ipynb>data table notebook</a>'\n",
              "          + ' to learn more about interactive tables.';\n",
              "        element.innerHTML = '';\n",
              "        dataTable['output_type'] = 'display_data';\n",
              "        await google.colab.output.renderOutput(dataTable, element);\n",
              "        const docLink = document.createElement('div');\n",
              "        docLink.innerHTML = docLinkHtml;\n",
              "        element.appendChild(docLink);\n",
              "      }\n",
              "    </script>\n",
              "  </div>\n",
              "\n",
              "\n",
              "<div id=\"df-bee4c83b-44a7-49d8-984c-c6b84e29cd2e\">\n",
              "  <button class=\"colab-df-quickchart\" onclick=\"quickchart('df-bee4c83b-44a7-49d8-984c-c6b84e29cd2e')\"\n",
              "            title=\"Suggest charts\"\n",
              "            style=\"display:none;\">\n",
              "\n",
              "<svg xmlns=\"http://www.w3.org/2000/svg\" height=\"24px\"viewBox=\"0 0 24 24\"\n",
              "     width=\"24px\">\n",
              "    <g>\n",
              "        <path d=\"M19 3H5c-1.1 0-2 .9-2 2v14c0 1.1.9 2 2 2h14c1.1 0 2-.9 2-2V5c0-1.1-.9-2-2-2zM9 17H7v-7h2v7zm4 0h-2V7h2v10zm4 0h-2v-4h2v4z\"/>\n",
              "    </g>\n",
              "</svg>\n",
              "  </button>\n",
              "\n",
              "<style>\n",
              "  .colab-df-quickchart {\n",
              "      --bg-color: #E8F0FE;\n",
              "      --fill-color: #1967D2;\n",
              "      --hover-bg-color: #E2EBFA;\n",
              "      --hover-fill-color: #174EA6;\n",
              "      --disabled-fill-color: #AAA;\n",
              "      --disabled-bg-color: #DDD;\n",
              "  }\n",
              "\n",
              "  [theme=dark] .colab-df-quickchart {\n",
              "      --bg-color: #3B4455;\n",
              "      --fill-color: #D2E3FC;\n",
              "      --hover-bg-color: #434B5C;\n",
              "      --hover-fill-color: #FFFFFF;\n",
              "      --disabled-bg-color: #3B4455;\n",
              "      --disabled-fill-color: #666;\n",
              "  }\n",
              "\n",
              "  .colab-df-quickchart {\n",
              "    background-color: var(--bg-color);\n",
              "    border: none;\n",
              "    border-radius: 50%;\n",
              "    cursor: pointer;\n",
              "    display: none;\n",
              "    fill: var(--fill-color);\n",
              "    height: 32px;\n",
              "    padding: 0;\n",
              "    width: 32px;\n",
              "  }\n",
              "\n",
              "  .colab-df-quickchart:hover {\n",
              "    background-color: var(--hover-bg-color);\n",
              "    box-shadow: 0 1px 2px rgba(60, 64, 67, 0.3), 0 1px 3px 1px rgba(60, 64, 67, 0.15);\n",
              "    fill: var(--button-hover-fill-color);\n",
              "  }\n",
              "\n",
              "  .colab-df-quickchart-complete:disabled,\n",
              "  .colab-df-quickchart-complete:disabled:hover {\n",
              "    background-color: var(--disabled-bg-color);\n",
              "    fill: var(--disabled-fill-color);\n",
              "    box-shadow: none;\n",
              "  }\n",
              "\n",
              "  .colab-df-spinner {\n",
              "    border: 2px solid var(--fill-color);\n",
              "    border-color: transparent;\n",
              "    border-bottom-color: var(--fill-color);\n",
              "    animation:\n",
              "      spin 1s steps(1) infinite;\n",
              "  }\n",
              "\n",
              "  @keyframes spin {\n",
              "    0% {\n",
              "      border-color: transparent;\n",
              "      border-bottom-color: var(--fill-color);\n",
              "      border-left-color: var(--fill-color);\n",
              "    }\n",
              "    20% {\n",
              "      border-color: transparent;\n",
              "      border-left-color: var(--fill-color);\n",
              "      border-top-color: var(--fill-color);\n",
              "    }\n",
              "    30% {\n",
              "      border-color: transparent;\n",
              "      border-left-color: var(--fill-color);\n",
              "      border-top-color: var(--fill-color);\n",
              "      border-right-color: var(--fill-color);\n",
              "    }\n",
              "    40% {\n",
              "      border-color: transparent;\n",
              "      border-right-color: var(--fill-color);\n",
              "      border-top-color: var(--fill-color);\n",
              "    }\n",
              "    60% {\n",
              "      border-color: transparent;\n",
              "      border-right-color: var(--fill-color);\n",
              "    }\n",
              "    80% {\n",
              "      border-color: transparent;\n",
              "      border-right-color: var(--fill-color);\n",
              "      border-bottom-color: var(--fill-color);\n",
              "    }\n",
              "    90% {\n",
              "      border-color: transparent;\n",
              "      border-bottom-color: var(--fill-color);\n",
              "    }\n",
              "  }\n",
              "</style>\n",
              "\n",
              "  <script>\n",
              "    async function quickchart(key) {\n",
              "      const quickchartButtonEl =\n",
              "        document.querySelector('#' + key + ' button');\n",
              "      quickchartButtonEl.disabled = true;  // To prevent multiple clicks.\n",
              "      quickchartButtonEl.classList.add('colab-df-spinner');\n",
              "      try {\n",
              "        const charts = await google.colab.kernel.invokeFunction(\n",
              "            'suggestCharts', [key], {});\n",
              "      } catch (error) {\n",
              "        console.error('Error during call to suggestCharts:', error);\n",
              "      }\n",
              "      quickchartButtonEl.classList.remove('colab-df-spinner');\n",
              "      quickchartButtonEl.classList.add('colab-df-quickchart-complete');\n",
              "    }\n",
              "    (() => {\n",
              "      let quickchartButtonEl =\n",
              "        document.querySelector('#df-bee4c83b-44a7-49d8-984c-c6b84e29cd2e button');\n",
              "      quickchartButtonEl.style.display =\n",
              "        google.colab.kernel.accessAllowed ? 'block' : 'none';\n",
              "    })();\n",
              "  </script>\n",
              "</div>\n",
              "\n",
              "    </div>\n",
              "  </div>\n"
            ],
            "application/vnd.google.colaboratory.intrinsic+json": {
              "type": "dataframe"
            }
          },
          "metadata": {},
          "execution_count": 61
        }
      ],
      "source": [
        "df.tail()"
      ]
    },
    {
      "cell_type": "code",
      "execution_count": null,
      "metadata": {
        "colab": {
          "base_uri": "https://localhost:8080/"
        },
        "id": "pNlbWYaBaFTZ",
        "outputId": "361c8caf-2c45-4d05-dac1-b29f784a95db"
      },
      "outputs": [
        {
          "output_type": "stream",
          "name": "stdout",
          "text": [
            "(93174, 23)\n",
            "<class 'pandas.core.frame.DataFrame'>\n",
            "RangeIndex: 93174 entries, 0 to 93173\n",
            "Data columns (total 23 columns):\n",
            " #   Column                      Non-Null Count  Dtype  \n",
            "---  ------                      --------------  -----  \n",
            " 0   ID                          93174 non-null  int64  \n",
            " 1   loan_amnt                   93174 non-null  int64  \n",
            " 2   loan_term                   93174 non-null  object \n",
            " 3   interest_rate               93174 non-null  float64\n",
            " 4   loan_grade                  93174 non-null  object \n",
            " 5   loan_subgrade               93174 non-null  object \n",
            " 6   job_experience              88472 non-null  object \n",
            " 7   home_ownership              93174 non-null  object \n",
            " 8   annual_income               93173 non-null  float64\n",
            " 9   income_verification_status  93174 non-null  object \n",
            " 10  loan_purpose                93174 non-null  object \n",
            " 11  state_code                  93174 non-null  object \n",
            " 12  debt_to_income              93174 non-null  float64\n",
            " 13  delinq_2yrs                 93172 non-null  float64\n",
            " 14  public_records              93172 non-null  float64\n",
            " 15  revolving_balance           93174 non-null  int64  \n",
            " 16  total_acc                   93172 non-null  float64\n",
            " 17  interest_receive            93174 non-null  float64\n",
            " 18  application_type            93174 non-null  object \n",
            " 19  last_week_pay               91250 non-null  float64\n",
            " 20  total_current_balance       85788 non-null  float64\n",
            " 21  total_revolving_limit       85788 non-null  float64\n",
            " 22  default                     93174 non-null  int64  \n",
            "dtypes: float64(10), int64(4), object(9)\n",
            "memory usage: 16.3+ MB\n",
            "None\n",
            "                 ID     loan_amnt  interest_rate  annual_income  \\\n",
            "count  9.317400e+04  93174.000000   93174.000000   9.317300e+04   \n",
            "mean   3.505021e+07  14733.861378      13.233433   7.502826e+04   \n",
            "std    2.414926e+07   8428.184858       4.368728   6.945478e+04   \n",
            "min    7.073500e+04    500.000000       5.320000   1.200000e+03   \n",
            "25%    1.085983e+07   8000.000000       9.990000   4.500000e+04   \n",
            "50%    3.710751e+07  13000.000000      12.990000   6.400000e+04   \n",
            "75%    5.859895e+07  20000.000000      16.200000   9.000000e+04   \n",
            "max    7.351975e+07  35000.000000      28.990000   9.500000e+06   \n",
            "\n",
            "       debt_to_income   delinq_2yrs  public_records  revolving_balance  \\\n",
            "count    93174.000000  93172.000000    93172.000000       9.317400e+04   \n",
            "mean        18.127623      0.316994        0.196121       1.685447e+04   \n",
            "std          8.563084      0.880859        0.581188       2.368907e+04   \n",
            "min          0.000000      0.000000        0.000000       0.000000e+00   \n",
            "25%         11.930000      0.000000        0.000000       6.433000e+03   \n",
            "50%         17.640000      0.000000        0.000000       1.185600e+04   \n",
            "75%         23.890000      0.000000        0.000000       2.074500e+04   \n",
            "max        672.520000     22.000000       49.000000       2.560703e+06   \n",
            "\n",
            "          total_acc  interest_receive  last_week_pay  total_current_balance  \\\n",
            "count  93172.000000      93174.000000   91250.000000           8.578800e+04   \n",
            "mean      25.248905       1747.263530      58.154882           1.392529e+05   \n",
            "std       11.855061       2088.236141      44.326560           1.576868e+05   \n",
            "min        1.000000          0.000000       0.000000           0.000000e+00   \n",
            "25%       17.000000        439.880000      22.000000           2.964200e+04   \n",
            "50%       24.000000       1070.755000      48.000000           7.936350e+04   \n",
            "75%       32.000000       2219.612500      83.000000           2.071600e+05   \n",
            "max      119.000000      23172.310000     291.000000           8.000078e+06   \n",
            "\n",
            "       total_revolving_limit       default  \n",
            "count           8.578800e+04  93174.000000  \n",
            "mean            3.208590e+04      0.237502  \n",
            "std             4.705251e+04      0.425555  \n",
            "min             0.000000e+00      0.000000  \n",
            "25%             1.400000e+04      0.000000  \n",
            "50%             2.370000e+04      0.000000  \n",
            "75%             3.970000e+04      0.000000  \n",
            "max             9.999999e+06      1.000000  \n"
          ]
        }
      ],
      "source": [
        "\n",
        "print(df.shape)\n",
        "print(df.info())\n",
        "print(df.describe())\n"
      ]
    },
    {
      "cell_type": "code",
      "execution_count": null,
      "metadata": {
        "colab": {
          "base_uri": "https://localhost:8080/"
        },
        "id": "aP1VS5CO07Hg",
        "outputId": "30bfe306-a42f-4101-d433-8ea032d4fa8f"
      },
      "outputs": [
        {
          "output_type": "stream",
          "name": "stdout",
          "text": [
            "ID                               0\n",
            "loan_amnt                        0\n",
            "loan_term                        0\n",
            "interest_rate                    0\n",
            "loan_grade                       0\n",
            "loan_subgrade                    0\n",
            "job_experience                4702\n",
            "home_ownership                   0\n",
            "annual_income                    1\n",
            "income_verification_status       0\n",
            "loan_purpose                     0\n",
            "state_code                       0\n",
            "debt_to_income                   0\n",
            "delinq_2yrs                      2\n",
            "public_records                   2\n",
            "revolving_balance                0\n",
            "total_acc                        2\n",
            "interest_receive                 0\n",
            "application_type                 0\n",
            "last_week_pay                 1924\n",
            "total_current_balance         7386\n",
            "total_revolving_limit         7386\n",
            "default                          0\n",
            "dtype: int64\n"
          ]
        }
      ],
      "source": [
        "print(df.isna().sum())"
      ]
    },
    {
      "cell_type": "code",
      "execution_count": null,
      "metadata": {
        "colab": {
          "base_uri": "https://localhost:8080/"
        },
        "id": "c54JrLiQb3oq",
        "outputId": "549efda6-6c32-4e35-87db-59db3c471f2f"
      },
      "outputs": [
        {
          "output_type": "stream",
          "name": "stdout",
          "text": [
            "ID                               0\n",
            "loan_amnt                        0\n",
            "loan_term                        0\n",
            "interest_rate                    0\n",
            "loan_grade                       0\n",
            "loan_subgrade                    0\n",
            "job_experience                4702\n",
            "home_ownership                   0\n",
            "annual_income                    1\n",
            "income_verification_status       0\n",
            "loan_purpose                     0\n",
            "state_code                       0\n",
            "debt_to_income                   0\n",
            "delinq_2yrs                      2\n",
            "public_records                   2\n",
            "revolving_balance                0\n",
            "total_acc                        2\n",
            "interest_receive                 0\n",
            "application_type                 0\n",
            "last_week_pay                 1924\n",
            "total_current_balance         7386\n",
            "total_revolving_limit         7386\n",
            "default                          0\n",
            "dtype: int64\n",
            "is NA\n",
            "ID                               0\n",
            "loan_amnt                        0\n",
            "loan_term                        0\n",
            "interest_rate                    0\n",
            "loan_grade                       0\n",
            "loan_subgrade                    0\n",
            "job_experience                4702\n",
            "home_ownership                   0\n",
            "annual_income                    1\n",
            "income_verification_status       0\n",
            "loan_purpose                     0\n",
            "state_code                       0\n",
            "debt_to_income                   0\n",
            "delinq_2yrs                      2\n",
            "public_records                   2\n",
            "revolving_balance                0\n",
            "total_acc                        2\n",
            "interest_receive                 0\n",
            "application_type                 0\n",
            "last_week_pay                 1924\n",
            "total_current_balance         7386\n",
            "total_revolving_limit         7386\n",
            "default                          0\n",
            "dtype: int64\n"
          ]
        }
      ],
      "source": [
        "# check if NULL or NaN\n",
        "print(df.isnull().sum())\n",
        "print(\"is NA\")\n",
        "print(df.isna().sum())\n",
        "\n"
      ]
    },
    {
      "cell_type": "code",
      "execution_count": null,
      "metadata": {
        "colab": {
          "base_uri": "https://localhost:8080/"
        },
        "id": "vSxIPspSf3cR",
        "outputId": "aacf0362-c313-4c58-cf0f-49142c937334"
      },
      "outputs": [
        {
          "output_type": "execute_result",
          "data": {
            "text/plain": [
              "default\n",
              "0    71045\n",
              "1    22129\n",
              "Name: count, dtype: int64"
            ]
          },
          "metadata": {},
          "execution_count": 65
        }
      ],
      "source": [
        "df['default'].value_counts()"
      ]
    },
    {
      "cell_type": "markdown",
      "metadata": {
        "id": "3Gu33YpnkCDi"
      },
      "source": [
        "Data set is unbalanced"
      ]
    },
    {
      "cell_type": "code",
      "execution_count": null,
      "metadata": {
        "colab": {
          "base_uri": "https://localhost:8080/"
        },
        "id": "-ZF8j9ukj3k3",
        "outputId": "69727218-a31e-4ebb-a28e-6efe2561bf20"
      },
      "outputs": [
        {
          "output_type": "execute_result",
          "data": {
            "text/plain": [
              "annual_income               1\n",
              "total_current_balance    7386\n",
              "total_revolving_limit    7386\n",
              "last_week_pay            1924\n",
              "job_experience           4702\n",
              "dtype: int64"
            ]
          },
          "metadata": {},
          "execution_count": 66
        }
      ],
      "source": [
        "df[['annual_income','total_current_balance','total_revolving_limit','last_week_pay','job_experience']].isna().sum()"
      ]
    },
    {
      "cell_type": "code",
      "execution_count": null,
      "metadata": {
        "id": "z7hlKaH1U1FJ"
      },
      "outputs": [],
      "source": []
    },
    {
      "cell_type": "code",
      "execution_count": null,
      "metadata": {
        "colab": {
          "base_uri": "https://localhost:8080/"
        },
        "id": "tqV2hsxCLAAE",
        "outputId": "dae71d08-f8a1-4815-cb3e-ea7ca4174ea6"
      },
      "outputs": [
        {
          "output_type": "execute_result",
          "data": {
            "text/plain": [
              "job_experience\n",
              "<5 Years      40610\n",
              "10+ years     30362\n",
              "6-10 years    17500\n",
              "Name: count, dtype: int64"
            ]
          },
          "metadata": {},
          "execution_count": 67
        }
      ],
      "source": [
        "df['job_experience'].value_counts()"
      ]
    },
    {
      "cell_type": "code",
      "execution_count": null,
      "metadata": {
        "colab": {
          "base_uri": "https://localhost:8080/",
          "height": 331
        },
        "id": "XzwOyD6WU2ZW",
        "outputId": "fe7a2b6c-08c6-4295-aae5-ba3c61f10786"
      },
      "outputs": [
        {
          "output_type": "execute_result",
          "data": {
            "text/plain": [
              "                            count unique                 top   freq\n",
              "loan_term                   93174      2             3 years  65211\n",
              "loan_grade                  93174      7                   B  26865\n",
              "loan_subgrade               93174     35                  B3   5879\n",
              "job_experience              88472      3            <5 Years  40610\n",
              "home_ownership              93174      5            MORTGAGE  46445\n",
              "income_verification_status  93174      3     Source Verified  34487\n",
              "loan_purpose                93174      4  debt_consolidation  55241\n",
              "state_code                  93174     50                  CA  13744\n",
              "application_type            93174      2          INDIVIDUAL  93118"
            ],
            "text/html": [
              "\n",
              "  <div id=\"df-f2fdf9b1-a952-45b5-9e33-13234a651c36\" class=\"colab-df-container\">\n",
              "    <div>\n",
              "<style scoped>\n",
              "    .dataframe tbody tr th:only-of-type {\n",
              "        vertical-align: middle;\n",
              "    }\n",
              "\n",
              "    .dataframe tbody tr th {\n",
              "        vertical-align: top;\n",
              "    }\n",
              "\n",
              "    .dataframe thead th {\n",
              "        text-align: right;\n",
              "    }\n",
              "</style>\n",
              "<table border=\"1\" class=\"dataframe\">\n",
              "  <thead>\n",
              "    <tr style=\"text-align: right;\">\n",
              "      <th></th>\n",
              "      <th>count</th>\n",
              "      <th>unique</th>\n",
              "      <th>top</th>\n",
              "      <th>freq</th>\n",
              "    </tr>\n",
              "  </thead>\n",
              "  <tbody>\n",
              "    <tr>\n",
              "      <th>loan_term</th>\n",
              "      <td>93174</td>\n",
              "      <td>2</td>\n",
              "      <td>3 years</td>\n",
              "      <td>65211</td>\n",
              "    </tr>\n",
              "    <tr>\n",
              "      <th>loan_grade</th>\n",
              "      <td>93174</td>\n",
              "      <td>7</td>\n",
              "      <td>B</td>\n",
              "      <td>26865</td>\n",
              "    </tr>\n",
              "    <tr>\n",
              "      <th>loan_subgrade</th>\n",
              "      <td>93174</td>\n",
              "      <td>35</td>\n",
              "      <td>B3</td>\n",
              "      <td>5879</td>\n",
              "    </tr>\n",
              "    <tr>\n",
              "      <th>job_experience</th>\n",
              "      <td>88472</td>\n",
              "      <td>3</td>\n",
              "      <td>&lt;5 Years</td>\n",
              "      <td>40610</td>\n",
              "    </tr>\n",
              "    <tr>\n",
              "      <th>home_ownership</th>\n",
              "      <td>93174</td>\n",
              "      <td>5</td>\n",
              "      <td>MORTGAGE</td>\n",
              "      <td>46445</td>\n",
              "    </tr>\n",
              "    <tr>\n",
              "      <th>income_verification_status</th>\n",
              "      <td>93174</td>\n",
              "      <td>3</td>\n",
              "      <td>Source Verified</td>\n",
              "      <td>34487</td>\n",
              "    </tr>\n",
              "    <tr>\n",
              "      <th>loan_purpose</th>\n",
              "      <td>93174</td>\n",
              "      <td>4</td>\n",
              "      <td>debt_consolidation</td>\n",
              "      <td>55241</td>\n",
              "    </tr>\n",
              "    <tr>\n",
              "      <th>state_code</th>\n",
              "      <td>93174</td>\n",
              "      <td>50</td>\n",
              "      <td>CA</td>\n",
              "      <td>13744</td>\n",
              "    </tr>\n",
              "    <tr>\n",
              "      <th>application_type</th>\n",
              "      <td>93174</td>\n",
              "      <td>2</td>\n",
              "      <td>INDIVIDUAL</td>\n",
              "      <td>93118</td>\n",
              "    </tr>\n",
              "  </tbody>\n",
              "</table>\n",
              "</div>\n",
              "    <div class=\"colab-df-buttons\">\n",
              "\n",
              "  <div class=\"colab-df-container\">\n",
              "    <button class=\"colab-df-convert\" onclick=\"convertToInteractive('df-f2fdf9b1-a952-45b5-9e33-13234a651c36')\"\n",
              "            title=\"Convert this dataframe to an interactive table.\"\n",
              "            style=\"display:none;\">\n",
              "\n",
              "  <svg xmlns=\"http://www.w3.org/2000/svg\" height=\"24px\" viewBox=\"0 -960 960 960\">\n",
              "    <path d=\"M120-120v-720h720v720H120Zm60-500h600v-160H180v160Zm220 220h160v-160H400v160Zm0 220h160v-160H400v160ZM180-400h160v-160H180v160Zm440 0h160v-160H620v160ZM180-180h160v-160H180v160Zm440 0h160v-160H620v160Z\"/>\n",
              "  </svg>\n",
              "    </button>\n",
              "\n",
              "  <style>\n",
              "    .colab-df-container {\n",
              "      display:flex;\n",
              "      gap: 12px;\n",
              "    }\n",
              "\n",
              "    .colab-df-convert {\n",
              "      background-color: #E8F0FE;\n",
              "      border: none;\n",
              "      border-radius: 50%;\n",
              "      cursor: pointer;\n",
              "      display: none;\n",
              "      fill: #1967D2;\n",
              "      height: 32px;\n",
              "      padding: 0 0 0 0;\n",
              "      width: 32px;\n",
              "    }\n",
              "\n",
              "    .colab-df-convert:hover {\n",
              "      background-color: #E2EBFA;\n",
              "      box-shadow: 0px 1px 2px rgba(60, 64, 67, 0.3), 0px 1px 3px 1px rgba(60, 64, 67, 0.15);\n",
              "      fill: #174EA6;\n",
              "    }\n",
              "\n",
              "    .colab-df-buttons div {\n",
              "      margin-bottom: 4px;\n",
              "    }\n",
              "\n",
              "    [theme=dark] .colab-df-convert {\n",
              "      background-color: #3B4455;\n",
              "      fill: #D2E3FC;\n",
              "    }\n",
              "\n",
              "    [theme=dark] .colab-df-convert:hover {\n",
              "      background-color: #434B5C;\n",
              "      box-shadow: 0px 1px 3px 1px rgba(0, 0, 0, 0.15);\n",
              "      filter: drop-shadow(0px 1px 2px rgba(0, 0, 0, 0.3));\n",
              "      fill: #FFFFFF;\n",
              "    }\n",
              "  </style>\n",
              "\n",
              "    <script>\n",
              "      const buttonEl =\n",
              "        document.querySelector('#df-f2fdf9b1-a952-45b5-9e33-13234a651c36 button.colab-df-convert');\n",
              "      buttonEl.style.display =\n",
              "        google.colab.kernel.accessAllowed ? 'block' : 'none';\n",
              "\n",
              "      async function convertToInteractive(key) {\n",
              "        const element = document.querySelector('#df-f2fdf9b1-a952-45b5-9e33-13234a651c36');\n",
              "        const dataTable =\n",
              "          await google.colab.kernel.invokeFunction('convertToInteractive',\n",
              "                                                    [key], {});\n",
              "        if (!dataTable) return;\n",
              "\n",
              "        const docLinkHtml = 'Like what you see? Visit the ' +\n",
              "          '<a target=\"_blank\" href=https://colab.research.google.com/notebooks/data_table.ipynb>data table notebook</a>'\n",
              "          + ' to learn more about interactive tables.';\n",
              "        element.innerHTML = '';\n",
              "        dataTable['output_type'] = 'display_data';\n",
              "        await google.colab.output.renderOutput(dataTable, element);\n",
              "        const docLink = document.createElement('div');\n",
              "        docLink.innerHTML = docLinkHtml;\n",
              "        element.appendChild(docLink);\n",
              "      }\n",
              "    </script>\n",
              "  </div>\n",
              "\n",
              "\n",
              "<div id=\"df-1e544bdf-f1c0-4872-be81-4b148dcba0b0\">\n",
              "  <button class=\"colab-df-quickchart\" onclick=\"quickchart('df-1e544bdf-f1c0-4872-be81-4b148dcba0b0')\"\n",
              "            title=\"Suggest charts\"\n",
              "            style=\"display:none;\">\n",
              "\n",
              "<svg xmlns=\"http://www.w3.org/2000/svg\" height=\"24px\"viewBox=\"0 0 24 24\"\n",
              "     width=\"24px\">\n",
              "    <g>\n",
              "        <path d=\"M19 3H5c-1.1 0-2 .9-2 2v14c0 1.1.9 2 2 2h14c1.1 0 2-.9 2-2V5c0-1.1-.9-2-2-2zM9 17H7v-7h2v7zm4 0h-2V7h2v10zm4 0h-2v-4h2v4z\"/>\n",
              "    </g>\n",
              "</svg>\n",
              "  </button>\n",
              "\n",
              "<style>\n",
              "  .colab-df-quickchart {\n",
              "      --bg-color: #E8F0FE;\n",
              "      --fill-color: #1967D2;\n",
              "      --hover-bg-color: #E2EBFA;\n",
              "      --hover-fill-color: #174EA6;\n",
              "      --disabled-fill-color: #AAA;\n",
              "      --disabled-bg-color: #DDD;\n",
              "  }\n",
              "\n",
              "  [theme=dark] .colab-df-quickchart {\n",
              "      --bg-color: #3B4455;\n",
              "      --fill-color: #D2E3FC;\n",
              "      --hover-bg-color: #434B5C;\n",
              "      --hover-fill-color: #FFFFFF;\n",
              "      --disabled-bg-color: #3B4455;\n",
              "      --disabled-fill-color: #666;\n",
              "  }\n",
              "\n",
              "  .colab-df-quickchart {\n",
              "    background-color: var(--bg-color);\n",
              "    border: none;\n",
              "    border-radius: 50%;\n",
              "    cursor: pointer;\n",
              "    display: none;\n",
              "    fill: var(--fill-color);\n",
              "    height: 32px;\n",
              "    padding: 0;\n",
              "    width: 32px;\n",
              "  }\n",
              "\n",
              "  .colab-df-quickchart:hover {\n",
              "    background-color: var(--hover-bg-color);\n",
              "    box-shadow: 0 1px 2px rgba(60, 64, 67, 0.3), 0 1px 3px 1px rgba(60, 64, 67, 0.15);\n",
              "    fill: var(--button-hover-fill-color);\n",
              "  }\n",
              "\n",
              "  .colab-df-quickchart-complete:disabled,\n",
              "  .colab-df-quickchart-complete:disabled:hover {\n",
              "    background-color: var(--disabled-bg-color);\n",
              "    fill: var(--disabled-fill-color);\n",
              "    box-shadow: none;\n",
              "  }\n",
              "\n",
              "  .colab-df-spinner {\n",
              "    border: 2px solid var(--fill-color);\n",
              "    border-color: transparent;\n",
              "    border-bottom-color: var(--fill-color);\n",
              "    animation:\n",
              "      spin 1s steps(1) infinite;\n",
              "  }\n",
              "\n",
              "  @keyframes spin {\n",
              "    0% {\n",
              "      border-color: transparent;\n",
              "      border-bottom-color: var(--fill-color);\n",
              "      border-left-color: var(--fill-color);\n",
              "    }\n",
              "    20% {\n",
              "      border-color: transparent;\n",
              "      border-left-color: var(--fill-color);\n",
              "      border-top-color: var(--fill-color);\n",
              "    }\n",
              "    30% {\n",
              "      border-color: transparent;\n",
              "      border-left-color: var(--fill-color);\n",
              "      border-top-color: var(--fill-color);\n",
              "      border-right-color: var(--fill-color);\n",
              "    }\n",
              "    40% {\n",
              "      border-color: transparent;\n",
              "      border-right-color: var(--fill-color);\n",
              "      border-top-color: var(--fill-color);\n",
              "    }\n",
              "    60% {\n",
              "      border-color: transparent;\n",
              "      border-right-color: var(--fill-color);\n",
              "    }\n",
              "    80% {\n",
              "      border-color: transparent;\n",
              "      border-right-color: var(--fill-color);\n",
              "      border-bottom-color: var(--fill-color);\n",
              "    }\n",
              "    90% {\n",
              "      border-color: transparent;\n",
              "      border-bottom-color: var(--fill-color);\n",
              "    }\n",
              "  }\n",
              "</style>\n",
              "\n",
              "  <script>\n",
              "    async function quickchart(key) {\n",
              "      const quickchartButtonEl =\n",
              "        document.querySelector('#' + key + ' button');\n",
              "      quickchartButtonEl.disabled = true;  // To prevent multiple clicks.\n",
              "      quickchartButtonEl.classList.add('colab-df-spinner');\n",
              "      try {\n",
              "        const charts = await google.colab.kernel.invokeFunction(\n",
              "            'suggestCharts', [key], {});\n",
              "      } catch (error) {\n",
              "        console.error('Error during call to suggestCharts:', error);\n",
              "      }\n",
              "      quickchartButtonEl.classList.remove('colab-df-spinner');\n",
              "      quickchartButtonEl.classList.add('colab-df-quickchart-complete');\n",
              "    }\n",
              "    (() => {\n",
              "      let quickchartButtonEl =\n",
              "        document.querySelector('#df-1e544bdf-f1c0-4872-be81-4b148dcba0b0 button');\n",
              "      quickchartButtonEl.style.display =\n",
              "        google.colab.kernel.accessAllowed ? 'block' : 'none';\n",
              "    })();\n",
              "  </script>\n",
              "</div>\n",
              "\n",
              "    </div>\n",
              "  </div>\n"
            ],
            "application/vnd.google.colaboratory.intrinsic+json": {
              "type": "dataframe",
              "summary": "{\n  \"name\": \"df\",\n  \"rows\": 9,\n  \"fields\": [\n    {\n      \"column\": \"count\",\n      \"properties\": {\n        \"dtype\": \"date\",\n        \"min\": \"88472\",\n        \"max\": \"93174\",\n        \"num_unique_values\": 2,\n        \"samples\": [\n          \"88472\",\n          \"93174\"\n        ],\n        \"semantic_type\": \"\",\n        \"description\": \"\"\n      }\n    },\n    {\n      \"column\": \"unique\",\n      \"properties\": {\n        \"dtype\": \"date\",\n        \"min\": 2,\n        \"max\": 50,\n        \"num_unique_values\": 7,\n        \"samples\": [\n          2,\n          7\n        ],\n        \"semantic_type\": \"\",\n        \"description\": \"\"\n      }\n    },\n    {\n      \"column\": \"top\",\n      \"properties\": {\n        \"dtype\": \"string\",\n        \"num_unique_values\": 9,\n        \"samples\": [\n          \"CA\",\n          \"B\"\n        ],\n        \"semantic_type\": \"\",\n        \"description\": \"\"\n      }\n    },\n    {\n      \"column\": \"freq\",\n      \"properties\": {\n        \"dtype\": \"date\",\n        \"min\": \"5879\",\n        \"max\": \"93118\",\n        \"num_unique_values\": 9,\n        \"samples\": [\n          \"13744\",\n          \"26865\"\n        ],\n        \"semantic_type\": \"\",\n        \"description\": \"\"\n      }\n    }\n  ]\n}"
            }
          },
          "metadata": {},
          "execution_count": 68
        }
      ],
      "source": [
        "# Check category columns\n",
        "df.describe(include='object').T"
      ]
    },
    {
      "cell_type": "markdown",
      "metadata": {
        "id": "4jruYk_aUUT5"
      },
      "source": [
        "# Any outliers"
      ]
    },
    {
      "cell_type": "code",
      "execution_count": null,
      "metadata": {
        "id": "5kEkJULXUFo7"
      },
      "outputs": [],
      "source": []
    },
    {
      "cell_type": "code",
      "execution_count": null,
      "metadata": {
        "id": "7y9v-z9pOsM6"
      },
      "outputs": [],
      "source": [
        "\n",
        "\n",
        "\n"
      ]
    },
    {
      "cell_type": "code",
      "execution_count": null,
      "metadata": {
        "id": "wmPhPSBE_yO1"
      },
      "outputs": [],
      "source": [
        "def univariate_analysis(df):\n",
        "  # univariate analysis\n",
        "  fig, axes = plt.subplots(2, 4, figsize=(16, 8))  # Create a 2x4 grid of subplots\n",
        "  axes = axes.flatten()  # Flatten the axes array for easier iteration\n",
        "  i = 0\n",
        "  for column in df.select_dtypes(include=['number']):  # Select only numeric columns\n",
        "      if i < 8:  # Ensure the subplot index is within the valid range\n",
        "          sns.histplot(df[column], ax=axes[i])  # Use Seaborn's histplot\n",
        "          axes[i].set_xlabel(column)\n",
        "          i += 1\n",
        "      else:\n",
        "          break  # Stop adding subplots if we reach the limit\n",
        "\n",
        "  plt.tight_layout()  # Adjust subplot parameters for better fit\n",
        "  plt.show()"
      ]
    },
    {
      "cell_type": "code",
      "execution_count": null,
      "metadata": {
        "colab": {
          "base_uri": "https://localhost:8080/",
          "height": 557
        },
        "id": "ln03Liap_zju",
        "outputId": "2fbee733-a8f0-4d68-d5c7-26740435c438"
      },
      "outputs": [
        {
          "output_type": "display_data",
          "data": {
            "text/plain": [
              "<Figure size 1600x800 with 8 Axes>"
            ],
            "image/png": "[encoded data removed]"
          },
          "metadata": {}
        }
      ],
      "source": [
        "univariate_analysis(df)"
      ]
    },
    {
      "cell_type": "code",
      "execution_count": null,
      "metadata": {
        "id": "Gjv_UVBINJIB"
      },
      "outputs": [],
      "source": [
        "# function to create labeled barplots\n",
        "\n",
        "\n",
        "def labeled_barplot(data, feature, perc=False, n=None):\n",
        "    \"\"\"\n",
        "    Barplot with percentage at the top\n",
        "\n",
        "    data: dataframe\n",
        "    feature: dataframe column\n",
        "    perc: whether to display percentages instead of count (default is False)\n",
        "    n: displays the top n category levels (default is None, i.e., display all levels)\n",
        "    \"\"\"\n",
        "\n",
        "    total = len(data[feature])  # length of the column\n",
        "    count = data[feature].nunique()\n",
        "    if n is None:\n",
        "        plt.figure(figsize=(count + 1, 5))\n",
        "    else:\n",
        "        plt.figure(figsize=(n + 1, 5))\n",
        "\n",
        "    plt.xticks(rotation=90, fontsize=15)\n",
        "    ax = sns.countplot(\n",
        "        data=data,\n",
        "        x=feature,\n",
        "        palette=\"Paired\",\n",
        "        order=data[feature].value_counts().index[:n].sort_values(),\n",
        "    )\n",
        "\n",
        "    for p in ax.patches:\n",
        "        if perc == True:\n",
        "            label = \"{:.1f}%\".format(\n",
        "                100 * p.get_height() / total\n",
        "            )  # percentage of each class of the category\n",
        "        else:\n",
        "            label = p.get_height()  # count of each level of the category\n",
        "\n",
        "        x = p.get_x() + p.get_width() / 2  # width of the plot\n",
        "        y = p.get_height()  # height of the plot\n",
        "\n",
        "        ax.annotate(\n",
        "            label,\n",
        "            (x, y),\n",
        "            ha=\"center\",\n",
        "            va=\"center\",\n",
        "            size=12,\n",
        "            xytext=(0, 5),\n",
        "            textcoords=\"offset points\",\n",
        "        )  # annotate the percentage\n",
        "\n",
        "    plt.show()  # show the plot"
      ]
    },
    {
      "cell_type": "code",
      "execution_count": null,
      "metadata": {
        "colab": {
          "base_uri": "https://localhost:8080/",
          "height": 572
        },
        "id": "AiG4oqQ2k1Qz",
        "outputId": "1c10de60-febe-4635-e0e4-b9e4eea4da04"
      },
      "outputs": [
        {
          "output_type": "display_data",
          "data": {
            "text/plain": [
              "<Figure size 300x500 with 1 Axes>"
            ],
            "image/png": "[encoded data removed]"
          },
          "metadata": {}
        }
      ],
      "source": [
        "labeled_barplot(df, 'application_type', perc=True)"
      ]
    },
    {
      "cell_type": "code",
      "execution_count": null,
      "metadata": {
        "colab": {
          "base_uri": "https://localhost:8080/",
          "height": 660
        },
        "id": "uT3lJsbAdK5g",
        "outputId": "bb69687c-61db-47d1-c865-056b88efd735"
      },
      "outputs": [
        {
          "output_type": "display_data",
          "data": {
            "text/plain": [
              "<Figure size 500x500 with 1 Axes>"
            ],
            "image/png": "[encoded data removed]"
          },
          "metadata": {}
        }
      ],
      "source": [
        "labeled_barplot(df, 'loan_purpose', perc=True)"
      ]
    },
    {
      "cell_type": "code",
      "execution_count": null,
      "metadata": {
        "colab": {
          "base_uri": "https://localhost:8080/",
          "height": 609
        },
        "id": "MhX-Pmg8d1pc",
        "outputId": "19edc3f3-c1fa-4328-ac37-b82453895cf7"
      },
      "outputs": [
        {
          "output_type": "display_data",
          "data": {
            "text/plain": [
              "<Figure size 400x500 with 1 Axes>"
            ],
            "image/png": "[encoded data removed]"
          },
          "metadata": {}
        }
      ],
      "source": [
        "labeled_barplot(df, 'income_verification_status', perc=True)"
      ]
    },
    {
      "cell_type": "code",
      "execution_count": null,
      "metadata": {
        "colab": {
          "base_uri": "https://localhost:8080/",
          "height": 570
        },
        "id": "XNoobFdpeJiw",
        "outputId": "4188f802-1967-43b1-a9d8-444fd09beaf0"
      },
      "outputs": [
        {
          "output_type": "display_data",
          "data": {
            "text/plain": [
              "<Figure size 600x500 with 1 Axes>"
            ],
            "image/png": "[encoded data removed]"
          },
          "metadata": {}
        }
      ],
      "source": [
        "labeled_barplot(df, 'home_ownership', perc=True)"
      ]
    },
    {
      "cell_type": "code",
      "execution_count": null,
      "metadata": {
        "colab": {
          "base_uri": "https://localhost:8080/",
          "height": 562
        },
        "id": "UG4ljmOAeXi0",
        "outputId": "3d75661e-422e-4c6e-e7a4-97809339e4eb"
      },
      "outputs": [
        {
          "output_type": "display_data",
          "data": {
            "text/plain": [
              "<Figure size 400x500 with 1 Axes>"
            ],
            "image/png": "[encoded data removed]"
          },
          "metadata": {}
        }
      ],
      "source": [
        "labeled_barplot(df, 'job_experience', perc=True)"
      ]
    },
    {
      "cell_type": "code",
      "execution_count": null,
      "metadata": {
        "colab": {
          "base_uri": "https://localhost:8080/",
          "height": 467
        },
        "id": "0dCHFaLzg-Dz",
        "outputId": "60c6064f-962b-4f84-fd32-a071b1905ffd"
      },
      "outputs": [
        {
          "output_type": "display_data",
          "data": {
            "text/plain": [
              "<Figure size 800x500 with 1 Axes>"
            ],
            "image/png": "[encoded data removed]"
          },
          "metadata": {}
        }
      ],
      "source": [
        "labeled_barplot(df, 'loan_grade', perc=True)"
      ]
    },
    {
      "cell_type": "code",
      "execution_count": null,
      "metadata": {
        "colab": {
          "base_uri": "https://localhost:8080/",
          "height": 528
        },
        "id": "92N8Pu5dhlko",
        "outputId": "d06df00e-5f78-4540-9ad0-3319f2d3368a"
      },
      "outputs": [
        {
          "output_type": "display_data",
          "data": {
            "text/plain": [
              "<Figure size 300x500 with 1 Axes>"
            ],
            "image/png": "[encoded data removed]"
          },
          "metadata": {}
        }
      ],
      "source": [
        "labeled_barplot(df, 'loan_term', perc=True)"
      ]
    },
    {
      "cell_type": "code",
      "execution_count": null,
      "metadata": {
        "id": "ZqH6mxv9AGGa"
      },
      "outputs": [],
      "source": [
        "# check the skewness\n",
        "## check the skewness\n",
        "def measure_skewness(df,skew_limit = 0.7):\n",
        "    skewness = {}\n",
        "    for col in df.select_dtypes(include=['number']).columns: # Select only numeric columns\n",
        "        skewness[col] = df[col].skew()\n",
        "        # Use skewness[col] to access the skewness value for the current column\n",
        "        if skewness[col] + skew_limit < 0:\n",
        "          print(col, \": left skewed\", str(skewness[col]))\n",
        "        elif skewness[col] > skew_limit:\n",
        "          print(col, \": right skewed\", str(skewness[col]))\n",
        "        else:\n",
        "          print(col, \": not skewed\", str(skewness[col]))\n",
        "    return skewness"
      ]
    },
    {
      "cell_type": "code",
      "execution_count": null,
      "metadata": {
        "colab": {
          "base_uri": "https://localhost:8080/"
        },
        "id": "HjXHEIMrAK4T",
        "outputId": "f4a83252-c09a-43f2-8e44-70bf84aa9b6c"
      },
      "outputs": [
        {
          "output_type": "stream",
          "name": "stdout",
          "text": [
            "ID : not skewed 0.017670290727488994\n",
            "loan_amnt : not skewed 0.6865897289841321\n",
            "interest_rate : not skewed 0.4260243845932469\n",
            "annual_income : right skewed 56.67084259234959\n",
            "debt_to_income : right skewed 5.005686475425659\n",
            "delinq_2yrs : right skewed 5.6590501169832255\n",
            "public_records : right skewed 10.940286697293667\n",
            "revolving_balance : right skewed 24.717051530988908\n",
            "total_acc : right skewed 0.8927615518520063\n",
            "interest_receive : right skewed 2.8350850429445345\n",
            "last_week_pay : right skewed 1.0122497321817774\n",
            "total_current_balance : right skewed 4.365655429247777\n",
            "total_revolving_limit : right skewed 113.43066110990338\n",
            "default : right skewed 1.233702015920811\n"
          ]
        },
        {
          "output_type": "execute_result",
          "data": {
            "text/plain": [
              "{'ID': 0.017670290727488994,\n",
              " 'loan_amnt': 0.6865897289841321,\n",
              " 'interest_rate': 0.4260243845932469,\n",
              " 'annual_income': 56.67084259234959,\n",
              " 'debt_to_income': 5.005686475425659,\n",
              " 'delinq_2yrs': 5.6590501169832255,\n",
              " 'public_records': 10.940286697293667,\n",
              " 'revolving_balance': 24.717051530988908,\n",
              " 'total_acc': 0.8927615518520063,\n",
              " 'interest_receive': 2.8350850429445345,\n",
              " 'last_week_pay': 1.0122497321817774,\n",
              " 'total_current_balance': 4.365655429247777,\n",
              " 'total_revolving_limit': 113.43066110990338,\n",
              " 'default': 1.233702015920811}"
            ]
          },
          "metadata": {},
          "execution_count": 80
        }
      ],
      "source": [
        "measure_skewness(df)"
      ]
    },
    {
      "cell_type": "code",
      "execution_count": null,
      "metadata": {
        "id": "GpbznFNSA7lR"
      },
      "outputs": [],
      "source": [
        "# function to plot a boxplot and a histogram along the same scale.\n",
        "\n",
        "\n",
        "def histogram_boxplot(data, feature, figsize=(12, 7), kde=False, bins=None):\n",
        "    \"\"\"\n",
        "    Boxplot and histogram combined\n",
        "\n",
        "    data: dataframe\n",
        "    feature: dataframe column\n",
        "    figsize: size of figure (default (12,7))\n",
        "    kde: whether to the show density curve (default False)\n",
        "    bins: number of bins for histogram (default None)\n",
        "    \"\"\"\n",
        "    f2, (ax_box2, ax_hist2) = plt.subplots(\n",
        "        nrows=2,  # Number of rows of the subplot grid= 2\n",
        "        sharex=True,  # x-axis will be shared among all subplots\n",
        "        gridspec_kw={\"height_ratios\": (0.25, 0.75)},\n",
        "        figsize=figsize,\n",
        "    )  # creating the 2 subplots\n",
        "    sns.boxplot(\n",
        "        data=data, x=feature, ax=ax_box2, showmeans=True, color=\"violet\"\n",
        "    )  # boxplot will be created and a triangle will indicate the mean value of the column\n",
        "    sns.histplot(\n",
        "        data=data, x=feature, kde=kde, ax=ax_hist2, bins=bins, palette=\"winter\"\n",
        "    ) if bins else sns.histplot(\n",
        "        data=data, x=feature, kde=kde, ax=ax_hist2\n",
        "    )  # For histogram\n",
        "    ax_hist2.axvline(\n",
        "        data[feature].mean(), color=\"green\", linestyle=\"--\"\n",
        "    )  # Add mean to the histogram\n",
        "    ax_hist2.axvline(\n",
        "        data[feature].median(), color=\"black\", linestyle=\"-\"\n",
        "    )  # Add median to the histogram"
      ]
    },
    {
      "cell_type": "code",
      "execution_count": null,
      "metadata": {
        "colab": {
          "base_uri": "https://localhost:8080/"
        },
        "id": "kHmXDMATBCu_",
        "outputId": "69c065ba-2ca7-48db-8f41-c92dc3f03d92"
      },
      "outputs": [
        {
          "output_type": "execute_result",
          "data": {
            "text/plain": [
              "Index(['ID', 'loan_amnt', 'interest_rate', 'annual_income', 'debt_to_income',\n",
              "       'delinq_2yrs', 'public_records', 'revolving_balance', 'total_acc',\n",
              "       'interest_receive', 'last_week_pay', 'total_current_balance',\n",
              "       'total_revolving_limit', 'default'],\n",
              "      dtype='object')"
            ]
          },
          "metadata": {},
          "execution_count": 82
        }
      ],
      "source": [
        "# get all numeric columns\n",
        "df_numeric = df.select_dtypes(include=['number'])\n",
        "df_numeric.columns"
      ]
    },
    {
      "cell_type": "code",
      "execution_count": null,
      "metadata": {
        "colab": {
          "base_uri": "https://localhost:8080/",
          "height": 619
        },
        "id": "Mi6GwngxBROU",
        "outputId": "aab630cc-df65-4595-88fa-8c2cbffac7ec"
      },
      "outputs": [
        {
          "output_type": "display_data",
          "data": {
            "text/plain": [
              "<Figure size 1200x700 with 2 Axes>"
            ],
            "image/png": "[encoded data removed]"
          },
          "metadata": {}
        }
      ],
      "source": [
        "histogram_boxplot(df, 'annual_income')"
      ]
    },
    {
      "cell_type": "code",
      "execution_count": null,
      "metadata": {
        "colab": {
          "base_uri": "https://localhost:8080/"
        },
        "id": "hV1X_opRLUrQ",
        "outputId": "e0fadacf-900e-4b8b-ee2b-b430f7f3845d"
      },
      "outputs": [
        {
          "output_type": "execute_result",
          "data": {
            "text/plain": [
              "41669    9500000.0\n",
              "26367    8900060.0\n",
              "26494    5000000.0\n",
              "53014    3000000.0\n",
              "17201    2854800.0\n",
              "31267    2000000.0\n",
              "74903    1782000.0\n",
              "1538     1650000.0\n",
              "27998    1500000.0\n",
              "3319     1500000.0\n",
              "Name: annual_income, dtype: float64"
            ]
          },
          "metadata": {},
          "execution_count": 84
        }
      ],
      "source": [
        "df['annual_income'].sort_values(ascending=False).head(10)"
      ]
    },
    {
      "cell_type": "code",
      "execution_count": null,
      "metadata": {
        "colab": {
          "base_uri": "https://localhost:8080/",
          "height": 349
        },
        "id": "-hoSA5OhMCMM",
        "outputId": "0f927837-d7b0-4de1-893c-c1cf506ffdb6"
      },
      "outputs": [
        {
          "output_type": "execute_result",
          "data": {
            "text/plain": [
              "             ID  loan_amnt loan_term  interest_rate loan_grade loan_subgrade  \\\n",
              "1538   60889252      35000   5 years          10.99          B            B4   \n",
              "17201  59680322      10000   3 years          10.99          B            B4   \n",
              "26367  58711625      10550   3 years          15.61          D            D1   \n",
              "26494   2839463      35000   3 years          15.31          C            C2   \n",
              "31267   8548808      35000   3 years           8.90          A            A5   \n",
              "41669  57607924      24000   5 years           7.89          A            A5   \n",
              "53014  70370337      21000   5 years          17.57          D            D4   \n",
              "74903   1100269      12025   3 years          14.27          C            C2   \n",
              "\n",
              "      job_experience home_ownership  annual_income income_verification_status  \\\n",
              "1538        <5 Years       MORTGAGE      1650000.0            Source Verified   \n",
              "17201            NaN            OWN      2854800.0            Source Verified   \n",
              "26367      10+ years           RENT      8900060.0            Source Verified   \n",
              "26494      10+ years       MORTGAGE      5000000.0                   Verified   \n",
              "31267      10+ years       MORTGAGE      2000000.0                   Verified   \n",
              "41669      10+ years       MORTGAGE      9500000.0            Source Verified   \n",
              "53014       <5 Years           RENT      3000000.0            Source Verified   \n",
              "74903      10+ years           RENT      1782000.0               Not Verified   \n",
              "\n",
              "       ... delinq_2yrs public_records  revolving_balance  total_acc  \\\n",
              "1538   ...         1.0            0.0              26700       48.0   \n",
              "17201  ...         0.0            0.0               7071       22.0   \n",
              "26367  ...         0.0            0.0               5311       11.0   \n",
              "26494  ...         1.0            0.0             975800       36.0   \n",
              "31267  ...         0.0            0.0               2458       23.0   \n",
              "41669  ...         0.0            0.0              16854       31.0   \n",
              "53014  ...         0.0            0.0               9136       42.0   \n",
              "74903  ...         0.0            0.0              49208       30.0   \n",
              "\n",
              "       interest_receive  application_type  last_week_pay  \\\n",
              "1538             906.75        INDIVIDUAL           13.0   \n",
              "17201            430.02        INDIVIDUAL           22.0   \n",
              "26367            637.36        INDIVIDUAL           26.0   \n",
              "26494           8114.63        INDIVIDUAL          117.0   \n",
              "31267           4481.05        INDIVIDUAL          113.0   \n",
              "41669            903.69        INDIVIDUAL           26.0   \n",
              "53014            266.48        INDIVIDUAL            4.0   \n",
              "74903           2815.61        INDIVIDUAL          157.0   \n",
              "\n",
              "       total_current_balance total_revolving_limit  default  \n",
              "1538                 76026.0               70900.0        0  \n",
              "17201                20447.0               34000.0        0  \n",
              "26367                21988.0                5200.0        0  \n",
              "26494              8000078.0              988000.0        1  \n",
              "31267              1772233.0               90600.0        0  \n",
              "41669               256653.0               84200.0        0  \n",
              "53014                54497.0               19800.0        0  \n",
              "74903                    NaN                   NaN        1  \n",
              "\n",
              "[8 rows x 23 columns]"
            ],
            "text/html": [
              "\n",
              "  <div id=\"df-b551e1a4-f974-4596-8526-13431a66dd92\" class=\"colab-df-container\">\n",
              "    <div>\n",
              "<style scoped>\n",
              "    .dataframe tbody tr th:only-of-type {\n",
              "        vertical-align: middle;\n",
              "    }\n",
              "\n",
              "    .dataframe tbody tr th {\n",
              "        vertical-align: top;\n",
              "    }\n",
              "\n",
              "    .dataframe thead th {\n",
              "        text-align: right;\n",
              "    }\n",
              "</style>\n",
              "<table border=\"1\" class=\"dataframe\">\n",
              "  <thead>\n",
              "    <tr style=\"text-align: right;\">\n",
              "      <th></th>\n",
              "      <th>ID</th>\n",
              "      <th>loan_amnt</th>\n",
              "      <th>loan_term</th>\n",
              "      <th>interest_rate</th>\n",
              "      <th>loan_grade</th>\n",
              "      <th>loan_subgrade</th>\n",
              "      <th>job_experience</th>\n",
              "      <th>home_ownership</th>\n",
              "      <th>annual_income</th>\n",
              "      <th>income_verification_status</th>\n",
              "      <th>...</th>\n",
              "      <th>delinq_2yrs</th>\n",
              "      <th>public_records</th>\n",
              "      <th>revolving_balance</th>\n",
              "      <th>total_acc</th>\n",
              "      <th>interest_receive</th>\n",
              "      <th>application_type</th>\n",
              "      <th>last_week_pay</th>\n",
              "      <th>total_current_balance</th>\n",
              "      <th>total_revolving_limit</th>\n",
              "      <th>default</th>\n",
              "    </tr>\n",
              "  </thead>\n",
              "  <tbody>\n",
              "    <tr>\n",
              "      <th>1538</th>\n",
              "      <td>60889252</td>\n",
              "      <td>35000</td>\n",
              "      <td>5 years</td>\n",
              "      <td>10.99</td>\n",
              "      <td>B</td>\n",
              "      <td>B4</td>\n",
              "      <td>&lt;5 Years</td>\n",
              "      <td>MORTGAGE</td>\n",
              "      <td>1650000.0</td>\n",
              "      <td>Source Verified</td>\n",
              "      <td>...</td>\n",
              "      <td>1.0</td>\n",
              "      <td>0.0</td>\n",
              "      <td>26700</td>\n",
              "      <td>48.0</td>\n",
              "      <td>906.75</td>\n",
              "      <td>INDIVIDUAL</td>\n",
              "      <td>13.0</td>\n",
              "      <td>76026.0</td>\n",
              "      <td>70900.0</td>\n",
              "      <td>0</td>\n",
              "    </tr>\n",
              "    <tr>\n",
              "      <th>17201</th>\n",
              "      <td>59680322</td>\n",
              "      <td>10000</td>\n",
              "      <td>3 years</td>\n",
              "      <td>10.99</td>\n",
              "      <td>B</td>\n",
              "      <td>B4</td>\n",
              "      <td>NaN</td>\n",
              "      <td>OWN</td>\n",
              "      <td>2854800.0</td>\n",
              "      <td>Source Verified</td>\n",
              "      <td>...</td>\n",
              "      <td>0.0</td>\n",
              "      <td>0.0</td>\n",
              "      <td>7071</td>\n",
              "      <td>22.0</td>\n",
              "      <td>430.02</td>\n",
              "      <td>INDIVIDUAL</td>\n",
              "      <td>22.0</td>\n",
              "      <td>20447.0</td>\n",
              "      <td>34000.0</td>\n",
              "      <td>0</td>\n",
              "    </tr>\n",
              "    <tr>\n",
              "      <th>26367</th>\n",
              "      <td>58711625</td>\n",
              "      <td>10550</td>\n",
              "      <td>3 years</td>\n",
              "      <td>15.61</td>\n",
              "      <td>D</td>\n",
              "      <td>D1</td>\n",
              "      <td>10+ years</td>\n",
              "      <td>RENT</td>\n",
              "      <td>8900060.0</td>\n",
              "      <td>Source Verified</td>\n",
              "      <td>...</td>\n",
              "      <td>0.0</td>\n",
              "      <td>0.0</td>\n",
              "      <td>5311</td>\n",
              "      <td>11.0</td>\n",
              "      <td>637.36</td>\n",
              "      <td>INDIVIDUAL</td>\n",
              "      <td>26.0</td>\n",
              "      <td>21988.0</td>\n",
              "      <td>5200.0</td>\n",
              "      <td>0</td>\n",
              "    </tr>\n",
              "    <tr>\n",
              "      <th>26494</th>\n",
              "      <td>2839463</td>\n",
              "      <td>35000</td>\n",
              "      <td>3 years</td>\n",
              "      <td>15.31</td>\n",
              "      <td>C</td>\n",
              "      <td>C2</td>\n",
              "      <td>10+ years</td>\n",
              "      <td>MORTGAGE</td>\n",
              "      <td>5000000.0</td>\n",
              "      <td>Verified</td>\n",
              "      <td>...</td>\n",
              "      <td>1.0</td>\n",
              "      <td>0.0</td>\n",
              "      <td>975800</td>\n",
              "      <td>36.0</td>\n",
              "      <td>8114.63</td>\n",
              "      <td>INDIVIDUAL</td>\n",
              "      <td>117.0</td>\n",
              "      <td>8000078.0</td>\n",
              "      <td>988000.0</td>\n",
              "      <td>1</td>\n",
              "    </tr>\n",
              "    <tr>\n",
              "      <th>31267</th>\n",
              "      <td>8548808</td>\n",
              "      <td>35000</td>\n",
              "      <td>3 years</td>\n",
              "      <td>8.90</td>\n",
              "      <td>A</td>\n",
              "      <td>A5</td>\n",
              "      <td>10+ years</td>\n",
              "      <td>MORTGAGE</td>\n",
              "      <td>2000000.0</td>\n",
              "      <td>Verified</td>\n",
              "      <td>...</td>\n",
              "      <td>0.0</td>\n",
              "      <td>0.0</td>\n",
              "      <td>2458</td>\n",
              "      <td>23.0</td>\n",
              "      <td>4481.05</td>\n",
              "      <td>INDIVIDUAL</td>\n",
              "      <td>113.0</td>\n",
              "      <td>1772233.0</td>\n",
              "      <td>90600.0</td>\n",
              "      <td>0</td>\n",
              "    </tr>\n",
              "    <tr>\n",
              "      <th>41669</th>\n",
              "      <td>57607924</td>\n",
              "      <td>24000</td>\n",
              "      <td>5 years</td>\n",
              "      <td>7.89</td>\n",
              "      <td>A</td>\n",
              "      <td>A5</td>\n",
              "      <td>10+ years</td>\n",
              "      <td>MORTGAGE</td>\n",
              "      <td>9500000.0</td>\n",
              "      <td>Source Verified</td>\n",
              "      <td>...</td>\n",
              "      <td>0.0</td>\n",
              "      <td>0.0</td>\n",
              "      <td>16854</td>\n",
              "      <td>31.0</td>\n",
              "      <td>903.69</td>\n",
              "      <td>INDIVIDUAL</td>\n",
              "      <td>26.0</td>\n",
              "      <td>256653.0</td>\n",
              "      <td>84200.0</td>\n",
              "      <td>0</td>\n",
              "    </tr>\n",
              "    <tr>\n",
              "      <th>53014</th>\n",
              "      <td>70370337</td>\n",
              "      <td>21000</td>\n",
              "      <td>5 years</td>\n",
              "      <td>17.57</td>\n",
              "      <td>D</td>\n",
              "      <td>D4</td>\n",
              "      <td>&lt;5 Years</td>\n",
              "      <td>RENT</td>\n",
              "      <td>3000000.0</td>\n",
              "      <td>Source Verified</td>\n",
              "      <td>...</td>\n",
              "      <td>0.0</td>\n",
              "      <td>0.0</td>\n",
              "      <td>9136</td>\n",
              "      <td>42.0</td>\n",
              "      <td>266.48</td>\n",
              "      <td>INDIVIDUAL</td>\n",
              "      <td>4.0</td>\n",
              "      <td>54497.0</td>\n",
              "      <td>19800.0</td>\n",
              "      <td>0</td>\n",
              "    </tr>\n",
              "    <tr>\n",
              "      <th>74903</th>\n",
              "      <td>1100269</td>\n",
              "      <td>12025</td>\n",
              "      <td>3 years</td>\n",
              "      <td>14.27</td>\n",
              "      <td>C</td>\n",
              "      <td>C2</td>\n",
              "      <td>10+ years</td>\n",
              "      <td>RENT</td>\n",
              "      <td>1782000.0</td>\n",
              "      <td>Not Verified</td>\n",
              "      <td>...</td>\n",
              "      <td>0.0</td>\n",
              "      <td>0.0</td>\n",
              "      <td>49208</td>\n",
              "      <td>30.0</td>\n",
              "      <td>2815.61</td>\n",
              "      <td>INDIVIDUAL</td>\n",
              "      <td>157.0</td>\n",
              "      <td>NaN</td>\n",
              "      <td>NaN</td>\n",
              "      <td>1</td>\n",
              "    </tr>\n",
              "  </tbody>\n",
              "</table>\n",
              "<p>8 rows × 23 columns</p>\n",
              "</div>\n",
              "    <div class=\"colab-df-buttons\">\n",
              "\n",
              "  <div class=\"colab-df-container\">\n",
              "    <button class=\"colab-df-convert\" onclick=\"convertToInteractive('df-b551e1a4-f974-4596-8526-13431a66dd92')\"\n",
              "            title=\"Convert this dataframe to an interactive table.\"\n",
              "            style=\"display:none;\">\n",
              "\n",
              "  <svg xmlns=\"http://www.w3.org/2000/svg\" height=\"24px\" viewBox=\"0 -960 960 960\">\n",
              "    <path d=\"M120-120v-720h720v720H120Zm60-500h600v-160H180v160Zm220 220h160v-160H400v160Zm0 220h160v-160H400v160ZM180-400h160v-160H180v160Zm440 0h160v-160H620v160ZM180-180h160v-160H180v160Zm440 0h160v-160H620v160Z\"/>\n",
              "  </svg>\n",
              "    </button>\n",
              "\n",
              "  <style>\n",
              "    .colab-df-container {\n",
              "      display:flex;\n",
              "      gap: 12px;\n",
              "    }\n",
              "\n",
              "    .colab-df-convert {\n",
              "      background-color: #E8F0FE;\n",
              "      border: none;\n",
              "      border-radius: 50%;\n",
              "      cursor: pointer;\n",
              "      display: none;\n",
              "      fill: #1967D2;\n",
              "      height: 32px;\n",
              "      padding: 0 0 0 0;\n",
              "      width: 32px;\n",
              "    }\n",
              "\n",
              "    .colab-df-convert:hover {\n",
              "      background-color: #E2EBFA;\n",
              "      box-shadow: 0px 1px 2px rgba(60, 64, 67, 0.3), 0px 1px 3px 1px rgba(60, 64, 67, 0.15);\n",
              "      fill: #174EA6;\n",
              "    }\n",
              "\n",
              "    .colab-df-buttons div {\n",
              "      margin-bottom: 4px;\n",
              "    }\n",
              "\n",
              "    [theme=dark] .colab-df-convert {\n",
              "      background-color: #3B4455;\n",
              "      fill: #D2E3FC;\n",
              "    }\n",
              "\n",
              "    [theme=dark] .colab-df-convert:hover {\n",
              "      background-color: #434B5C;\n",
              "      box-shadow: 0px 1px 3px 1px rgba(0, 0, 0, 0.15);\n",
              "      filter: drop-shadow(0px 1px 2px rgba(0, 0, 0, 0.3));\n",
              "      fill: #FFFFFF;\n",
              "    }\n",
              "  </style>\n",
              "\n",
              "    <script>\n",
              "      const buttonEl =\n",
              "        document.querySelector('#df-b551e1a4-f974-4596-8526-13431a66dd92 button.colab-df-convert');\n",
              "      buttonEl.style.display =\n",
              "        google.colab.kernel.accessAllowed ? 'block' : 'none';\n",
              "\n",
              "      async function convertToInteractive(key) {\n",
              "        const element = document.querySelector('#df-b551e1a4-f974-4596-8526-13431a66dd92');\n",
              "        const dataTable =\n",
              "          await google.colab.kernel.invokeFunction('convertToInteractive',\n",
              "                                                    [key], {});\n",
              "        if (!dataTable) return;\n",
              "\n",
              "        const docLinkHtml = 'Like what you see? Visit the ' +\n",
              "          '<a target=\"_blank\" href=https://colab.research.google.com/notebooks/data_table.ipynb>data table notebook</a>'\n",
              "          + ' to learn more about interactive tables.';\n",
              "        element.innerHTML = '';\n",
              "        dataTable['output_type'] = 'display_data';\n",
              "        await google.colab.output.renderOutput(dataTable, element);\n",
              "        const docLink = document.createElement('div');\n",
              "        docLink.innerHTML = docLinkHtml;\n",
              "        element.appendChild(docLink);\n",
              "      }\n",
              "    </script>\n",
              "  </div>\n",
              "\n",
              "\n",
              "<div id=\"df-9c176e30-bb89-4593-a82c-6df4efb075df\">\n",
              "  <button class=\"colab-df-quickchart\" onclick=\"quickchart('df-9c176e30-bb89-4593-a82c-6df4efb075df')\"\n",
              "            title=\"Suggest charts\"\n",
              "            style=\"display:none;\">\n",
              "\n",
              "<svg xmlns=\"http://www.w3.org/2000/svg\" height=\"24px\"viewBox=\"0 0 24 24\"\n",
              "     width=\"24px\">\n",
              "    <g>\n",
              "        <path d=\"M19 3H5c-1.1 0-2 .9-2 2v14c0 1.1.9 2 2 2h14c1.1 0 2-.9 2-2V5c0-1.1-.9-2-2-2zM9 17H7v-7h2v7zm4 0h-2V7h2v10zm4 0h-2v-4h2v4z\"/>\n",
              "    </g>\n",
              "</svg>\n",
              "  </button>\n",
              "\n",
              "<style>\n",
              "  .colab-df-quickchart {\n",
              "      --bg-color: #E8F0FE;\n",
              "      --fill-color: #1967D2;\n",
              "      --hover-bg-color: #E2EBFA;\n",
              "      --hover-fill-color: #174EA6;\n",
              "      --disabled-fill-color: #AAA;\n",
              "      --disabled-bg-color: #DDD;\n",
              "  }\n",
              "\n",
              "  [theme=dark] .colab-df-quickchart {\n",
              "      --bg-color: #3B4455;\n",
              "      --fill-color: #D2E3FC;\n",
              "      --hover-bg-color: #434B5C;\n",
              "      --hover-fill-color: #FFFFFF;\n",
              "      --disabled-bg-color: #3B4455;\n",
              "      --disabled-fill-color: #666;\n",
              "  }\n",
              "\n",
              "  .colab-df-quickchart {\n",
              "    background-color: var(--bg-color);\n",
              "    border: none;\n",
              "    border-radius: 50%;\n",
              "    cursor: pointer;\n",
              "    display: none;\n",
              "    fill: var(--fill-color);\n",
              "    height: 32px;\n",
              "    padding: 0;\n",
              "    width: 32px;\n",
              "  }\n",
              "\n",
              "  .colab-df-quickchart:hover {\n",
              "    background-color: var(--hover-bg-color);\n",
              "    box-shadow: 0 1px 2px rgba(60, 64, 67, 0.3), 0 1px 3px 1px rgba(60, 64, 67, 0.15);\n",
              "    fill: var(--button-hover-fill-color);\n",
              "  }\n",
              "\n",
              "  .colab-df-quickchart-complete:disabled,\n",
              "  .colab-df-quickchart-complete:disabled:hover {\n",
              "    background-color: var(--disabled-bg-color);\n",
              "    fill: var(--disabled-fill-color);\n",
              "    box-shadow: none;\n",
              "  }\n",
              "\n",
              "  .colab-df-spinner {\n",
              "    border: 2px solid var(--fill-color);\n",
              "    border-color: transparent;\n",
              "    border-bottom-color: var(--fill-color);\n",
              "    animation:\n",
              "      spin 1s steps(1) infinite;\n",
              "  }\n",
              "\n",
              "  @keyframes spin {\n",
              "    0% {\n",
              "      border-color: transparent;\n",
              "      border-bottom-color: var(--fill-color);\n",
              "      border-left-color: var(--fill-color);\n",
              "    }\n",
              "    20% {\n",
              "      border-color: transparent;\n",
              "      border-left-color: var(--fill-color);\n",
              "      border-top-color: var(--fill-color);\n",
              "    }\n",
              "    30% {\n",
              "      border-color: transparent;\n",
              "      border-left-color: var(--fill-color);\n",
              "      border-top-color: var(--fill-color);\n",
              "      border-right-color: var(--fill-color);\n",
              "    }\n",
              "    40% {\n",
              "      border-color: transparent;\n",
              "      border-right-color: var(--fill-color);\n",
              "      border-top-color: var(--fill-color);\n",
              "    }\n",
              "    60% {\n",
              "      border-color: transparent;\n",
              "      border-right-color: var(--fill-color);\n",
              "    }\n",
              "    80% {\n",
              "      border-color: transparent;\n",
              "      border-right-color: var(--fill-color);\n",
              "      border-bottom-color: var(--fill-color);\n",
              "    }\n",
              "    90% {\n",
              "      border-color: transparent;\n",
              "      border-bottom-color: var(--fill-color);\n",
              "    }\n",
              "  }\n",
              "</style>\n",
              "\n",
              "  <script>\n",
              "    async function quickchart(key) {\n",
              "      const quickchartButtonEl =\n",
              "        document.querySelector('#' + key + ' button');\n",
              "      quickchartButtonEl.disabled = true;  // To prevent multiple clicks.\n",
              "      quickchartButtonEl.classList.add('colab-df-spinner');\n",
              "      try {\n",
              "        const charts = await google.colab.kernel.invokeFunction(\n",
              "            'suggestCharts', [key], {});\n",
              "      } catch (error) {\n",
              "        console.error('Error during call to suggestCharts:', error);\n",
              "      }\n",
              "      quickchartButtonEl.classList.remove('colab-df-spinner');\n",
              "      quickchartButtonEl.classList.add('colab-df-quickchart-complete');\n",
              "    }\n",
              "    (() => {\n",
              "      let quickchartButtonEl =\n",
              "        document.querySelector('#df-9c176e30-bb89-4593-a82c-6df4efb075df button');\n",
              "      quickchartButtonEl.style.display =\n",
              "        google.colab.kernel.accessAllowed ? 'block' : 'none';\n",
              "    })();\n",
              "  </script>\n",
              "</div>\n",
              "\n",
              "    </div>\n",
              "  </div>\n"
            ],
            "application/vnd.google.colaboratory.intrinsic+json": {
              "type": "dataframe"
            }
          },
          "metadata": {},
          "execution_count": 85
        }
      ],
      "source": [
        "df.loc[df['annual_income'] >  1500000.0]"
      ]
    },
    {
      "cell_type": "code",
      "source": [
        "df_loan['loan_subgrade'].value_counts()"
      ],
      "metadata": {
        "colab": {
          "base_uri": "https://localhost:8080/"
        },
        "id": "qVY945jRHman",
        "outputId": "5a7c9106-5584-41a2-efc7-875b2177b476"
      },
      "execution_count": null,
      "outputs": [
        {
          "output_type": "execute_result",
          "data": {
            "text/plain": [
              "loan_subgrade\n",
              "B3    5879\n",
              "B4    5879\n",
              "C2    5479\n",
              "C1    5443\n",
              "C3    5270\n",
              "C4    5182\n",
              "B2    5169\n",
              "B5    5095\n",
              "B1    4843\n",
              "A5    4723\n",
              "C5    4413\n",
              "D1    3716\n",
              "A4    3631\n",
              "D2    3239\n",
              "D3    2759\n",
              "D4    2717\n",
              "A3    2450\n",
              "A1    2377\n",
              "A2    2353\n",
              "D5    2284\n",
              "E1    1924\n",
              "E2    1736\n",
              "E3    1513\n",
              "E4    1228\n",
              "E5     977\n",
              "F1     745\n",
              "F2     545\n",
              "F3     465\n",
              "F4     355\n",
              "F5     234\n",
              "G1     174\n",
              "G2     146\n",
              "G3     105\n",
              "G5      66\n",
              "G4      60\n",
              "Name: count, dtype: int64"
            ]
          },
          "metadata": {},
          "execution_count": 86
        }
      ]
    },
    {
      "cell_type": "markdown",
      "metadata": {
        "id": "4CjFI6ylPToJ"
      },
      "source": [
        "##### Interestingky high income group also are in defaulters group"
      ]
    },
    {
      "cell_type": "code",
      "execution_count": null,
      "metadata": {
        "id": "QAhKwLasMajx"
      },
      "outputs": [],
      "source": []
    },
    {
      "cell_type": "code",
      "execution_count": null,
      "metadata": {
        "colab": {
          "base_uri": "https://localhost:8080/",
          "height": 619
        },
        "id": "axsO_5p0Bkwd",
        "outputId": "0c80cdb9-dbdd-476b-a3f0-77388ccb6b83"
      },
      "outputs": [
        {
          "output_type": "display_data",
          "data": {
            "text/plain": [
              "<Figure size 1200x700 with 2 Axes>"
            ],
            "image/png": "[encoded data removed]"
          },
          "metadata": {}
        }
      ],
      "source": [
        "histogram_boxplot(df, 'debt_to_income')\n"
      ]
    },
    {
      "cell_type": "code",
      "execution_count": null,
      "metadata": {
        "colab": {
          "base_uri": "https://localhost:8080/"
        },
        "id": "sSn37nqtB8YP",
        "outputId": "c6242433-719f-4687-8993-02dc3f6f9061"
      },
      "outputs": [
        {
          "output_type": "execute_result",
          "data": {
            "text/plain": [
              "47302    G\n",
              "21911    G\n",
              "61533    G\n",
              "11959    G\n",
              "17589    G\n",
              "46649    G\n",
              "42828    G\n",
              "69699    G\n",
              "73454    G\n",
              "79141    G\n",
              "Name: loan_grade, dtype: object"
            ]
          },
          "metadata": {},
          "execution_count": 88
        }
      ],
      "source": [
        "df['loan_grade'].sort_values(ascending=False).head(10)"
      ]
    },
    {
      "cell_type": "code",
      "execution_count": null,
      "metadata": {
        "colab": {
          "base_uri": "https://localhost:8080/",
          "height": 130
        },
        "id": "35kSr4VCDpW-",
        "outputId": "0f27cc65-9e38-4820-9ec3-f9b9402d6c68"
      },
      "outputs": [
        {
          "output_type": "execute_result",
          "data": {
            "text/plain": [
              "             ID  loan_amnt loan_term  interest_rate loan_grade loan_subgrade  \\\n",
              "12309  68509498      12000   3 years          19.99          E            E4   \n",
              "\n",
              "      job_experience home_ownership  annual_income income_verification_status  \\\n",
              "12309            NaN           RENT         1200.0                   Verified   \n",
              "\n",
              "       ... delinq_2yrs public_records  revolving_balance  total_acc  \\\n",
              "12309  ...         0.0            0.0               1661       13.0   \n",
              "\n",
              "       interest_receive  application_type  last_week_pay  \\\n",
              "12309            369.05             JOINT            9.0   \n",
              "\n",
              "       total_current_balance total_revolving_limit  default  \n",
              "12309                21380.0                2300.0        0  \n",
              "\n",
              "[1 rows x 23 columns]"
            ],
            "text/html": [
              "\n",
              "  <div id=\"df-cdef7f3b-055d-471f-8ef9-633bd013f88f\" class=\"colab-df-container\">\n",
              "    <div>\n",
              "<style scoped>\n",
              "    .dataframe tbody tr th:only-of-type {\n",
              "        vertical-align: middle;\n",
              "    }\n",
              "\n",
              "    .dataframe tbody tr th {\n",
              "        vertical-align: top;\n",
              "    }\n",
              "\n",
              "    .dataframe thead th {\n",
              "        text-align: right;\n",
              "    }\n",
              "</style>\n",
              "<table border=\"1\" class=\"dataframe\">\n",
              "  <thead>\n",
              "    <tr style=\"text-align: right;\">\n",
              "      <th></th>\n",
              "      <th>ID</th>\n",
              "      <th>loan_amnt</th>\n",
              "      <th>loan_term</th>\n",
              "      <th>interest_rate</th>\n",
              "      <th>loan_grade</th>\n",
              "      <th>loan_subgrade</th>\n",
              "      <th>job_experience</th>\n",
              "      <th>home_ownership</th>\n",
              "      <th>annual_income</th>\n",
              "      <th>income_verification_status</th>\n",
              "      <th>...</th>\n",
              "      <th>delinq_2yrs</th>\n",
              "      <th>public_records</th>\n",
              "      <th>revolving_balance</th>\n",
              "      <th>total_acc</th>\n",
              "      <th>interest_receive</th>\n",
              "      <th>application_type</th>\n",
              "      <th>last_week_pay</th>\n",
              "      <th>total_current_balance</th>\n",
              "      <th>total_revolving_limit</th>\n",
              "      <th>default</th>\n",
              "    </tr>\n",
              "  </thead>\n",
              "  <tbody>\n",
              "    <tr>\n",
              "      <th>12309</th>\n",
              "      <td>68509498</td>\n",
              "      <td>12000</td>\n",
              "      <td>3 years</td>\n",
              "      <td>19.99</td>\n",
              "      <td>E</td>\n",
              "      <td>E4</td>\n",
              "      <td>NaN</td>\n",
              "      <td>RENT</td>\n",
              "      <td>1200.0</td>\n",
              "      <td>Verified</td>\n",
              "      <td>...</td>\n",
              "      <td>0.0</td>\n",
              "      <td>0.0</td>\n",
              "      <td>1661</td>\n",
              "      <td>13.0</td>\n",
              "      <td>369.05</td>\n",
              "      <td>JOINT</td>\n",
              "      <td>9.0</td>\n",
              "      <td>21380.0</td>\n",
              "      <td>2300.0</td>\n",
              "      <td>0</td>\n",
              "    </tr>\n",
              "  </tbody>\n",
              "</table>\n",
              "<p>1 rows × 23 columns</p>\n",
              "</div>\n",
              "    <div class=\"colab-df-buttons\">\n",
              "\n",
              "  <div class=\"colab-df-container\">\n",
              "    <button class=\"colab-df-convert\" onclick=\"convertToInteractive('df-cdef7f3b-055d-471f-8ef9-633bd013f88f')\"\n",
              "            title=\"Convert this dataframe to an interactive table.\"\n",
              "            style=\"display:none;\">\n",
              "\n",
              "  <svg xmlns=\"http://www.w3.org/2000/svg\" height=\"24px\" viewBox=\"0 -960 960 960\">\n",
              "    <path d=\"M120-120v-720h720v720H120Zm60-500h600v-160H180v160Zm220 220h160v-160H400v160Zm0 220h160v-160H400v160ZM180-400h160v-160H180v160Zm440 0h160v-160H620v160ZM180-180h160v-160H180v160Zm440 0h160v-160H620v160Z\"/>\n",
              "  </svg>\n",
              "    </button>\n",
              "\n",
              "  <style>\n",
              "    .colab-df-container {\n",
              "      display:flex;\n",
              "      gap: 12px;\n",
              "    }\n",
              "\n",
              "    .colab-df-convert {\n",
              "      background-color: #E8F0FE;\n",
              "      border: none;\n",
              "      border-radius: 50%;\n",
              "      cursor: pointer;\n",
              "      display: none;\n",
              "      fill: #1967D2;\n",
              "      height: 32px;\n",
              "      padding: 0 0 0 0;\n",
              "      width: 32px;\n",
              "    }\n",
              "\n",
              "    .colab-df-convert:hover {\n",
              "      background-color: #E2EBFA;\n",
              "      box-shadow: 0px 1px 2px rgba(60, 64, 67, 0.3), 0px 1px 3px 1px rgba(60, 64, 67, 0.15);\n",
              "      fill: #174EA6;\n",
              "    }\n",
              "\n",
              "    .colab-df-buttons div {\n",
              "      margin-bottom: 4px;\n",
              "    }\n",
              "\n",
              "    [theme=dark] .colab-df-convert {\n",
              "      background-color: #3B4455;\n",
              "      fill: #D2E3FC;\n",
              "    }\n",
              "\n",
              "    [theme=dark] .colab-df-convert:hover {\n",
              "      background-color: #434B5C;\n",
              "      box-shadow: 0px 1px 3px 1px rgba(0, 0, 0, 0.15);\n",
              "      filter: drop-shadow(0px 1px 2px rgba(0, 0, 0, 0.3));\n",
              "      fill: #FFFFFF;\n",
              "    }\n",
              "  </style>\n",
              "\n",
              "    <script>\n",
              "      const buttonEl =\n",
              "        document.querySelector('#df-cdef7f3b-055d-471f-8ef9-633bd013f88f button.colab-df-convert');\n",
              "      buttonEl.style.display =\n",
              "        google.colab.kernel.accessAllowed ? 'block' : 'none';\n",
              "\n",
              "      async function convertToInteractive(key) {\n",
              "        const element = document.querySelector('#df-cdef7f3b-055d-471f-8ef9-633bd013f88f');\n",
              "        const dataTable =\n",
              "          await google.colab.kernel.invokeFunction('convertToInteractive',\n",
              "                                                    [key], {});\n",
              "        if (!dataTable) return;\n",
              "\n",
              "        const docLinkHtml = 'Like what you see? Visit the ' +\n",
              "          '<a target=\"_blank\" href=https://colab.research.google.com/notebooks/data_table.ipynb>data table notebook</a>'\n",
              "          + ' to learn more about interactive tables.';\n",
              "        element.innerHTML = '';\n",
              "        dataTable['output_type'] = 'display_data';\n",
              "        await google.colab.output.renderOutput(dataTable, element);\n",
              "        const docLink = document.createElement('div');\n",
              "        docLink.innerHTML = docLinkHtml;\n",
              "        element.appendChild(docLink);\n",
              "      }\n",
              "    </script>\n",
              "  </div>\n",
              "\n",
              "\n",
              "    </div>\n",
              "  </div>\n"
            ],
            "application/vnd.google.colaboratory.intrinsic+json": {
              "type": "dataframe"
            }
          },
          "metadata": {},
          "execution_count": 89
        }
      ],
      "source": [
        "df.loc[df['debt_to_income'] ==  672.52]"
      ]
    },
    {
      "cell_type": "code",
      "execution_count": null,
      "metadata": {
        "id": "MMQXavnNh3_p"
      },
      "outputs": [],
      "source": [
        "#df['loan_subgrade'].value_counts()"
      ]
    },
    {
      "cell_type": "code",
      "execution_count": null,
      "metadata": {
        "id": "ZITmOIQFiILK"
      },
      "outputs": [],
      "source": []
    },
    {
      "cell_type": "code",
      "execution_count": null,
      "metadata": {
        "id": "b8zY8pZiQKOR"
      },
      "outputs": [],
      "source": [
        "# function to plot stacked bar chart\n",
        "\n",
        "def stacked_barplot(data, predictor, target):\n",
        "    \"\"\"\n",
        "    Print the category counts and plot a stacked bar chart\n",
        "\n",
        "    data: dataframe\n",
        "    predictor: independent variable\n",
        "    target: target variable\n",
        "    \"\"\"\n",
        "    count = data[predictor].nunique()\n",
        "    sorter = data[target].value_counts().index[-1]\n",
        "    tab1 = pd.crosstab(data[predictor], data[target], margins=True).sort_values(\n",
        "        by=sorter, ascending=False\n",
        "    )\n",
        "    print(tab1)\n",
        "    print(\"-\" * 120)\n",
        "    tab = pd.crosstab(data[predictor], data[target], normalize=\"index\").sort_values(\n",
        "        by=sorter, ascending=False\n",
        "    )\n",
        "    tab.plot(kind=\"bar\", stacked=True, figsize=(count + 1, 5))\n",
        "    plt.legend(\n",
        "        loc=\"lower left\", frameon=False,\n",
        "    )\n",
        "    plt.legend(loc=\"upper left\", bbox_to_anchor=(1, 1))\n",
        "    plt.show()"
      ]
    },
    {
      "cell_type": "code",
      "execution_count": null,
      "metadata": {
        "colab": {
          "base_uri": "https://localhost:8080/",
          "height": 661
        },
        "id": "OatZ7-fRkdZL",
        "outputId": "1c9add69-b663-4d6c-fcf3-bba4076185ed"
      },
      "outputs": [
        {
          "output_type": "stream",
          "name": "stdout",
          "text": [
            "default         0      1    All\n",
            "loan_grade                     \n",
            "All         71045  22129  93174\n",
            "B           19787   7078  26865\n",
            "C           20203   5584  25787\n",
            "A           11281   4253  15534\n",
            "D           11478   3237  14715\n",
            "E            6003   1375   7378\n",
            "F            1862    482   2344\n",
            "G             431    120    551\n",
            "------------------------------------------------------------------------------------------------------------------------\n"
          ]
        },
        {
          "output_type": "display_data",
          "data": {
            "text/plain": [
              "<Figure size 800x500 with 1 Axes>"
            ],
            "image/png": "[encoded data removed]"
          },
          "metadata": {}
        }
      ],
      "source": [
        "stacked_barplot(df, 'loan_grade','default')"
      ]
    },
    {
      "cell_type": "code",
      "execution_count": null,
      "metadata": {
        "colab": {
          "base_uri": "https://localhost:8080/",
          "height": 819
        },
        "id": "0PYVd9AqlHmp",
        "outputId": "0cdfbe18-4037-45d9-d8aa-41ec62a62097"
      },
      "outputs": [
        {
          "output_type": "display_data",
          "data": {
            "text/plain": [
              "<Figure size 1200x800 with 2 Axes>"
            ],
            "image/png": "[encoded data removed]"
          },
          "metadata": {}
        }
      ],
      "source": [
        "df_numeric = df.select_dtypes(include=['number'])\n",
        "f, ax = plt.subplots(figsize=(12, 8))\n",
        "sns.heatmap(df_numeric.corr(), annot=True, cmap=\"Blues\")\n",
        "plt.show()"
      ]
    },
    {
      "cell_type": "markdown",
      "metadata": {
        "id": "v1bi1bYJlrkL"
      },
      "source": [
        "* Total revolving limit and revolving balane are correlated : 0.79"
      ]
    },
    {
      "cell_type": "code",
      "execution_count": null,
      "metadata": {
        "colab": {
          "base_uri": "https://localhost:8080/"
        },
        "id": "sylsBP-clPeW",
        "outputId": "81c0c8bf-db65-4b9a-b50e-7ca130f3a25d"
      },
      "outputs": [
        {
          "output_type": "execute_result",
          "data": {
            "text/plain": [
              "Index(['ID', 'loan_amnt', 'interest_rate', 'annual_income', 'debt_to_income',\n",
              "       'delinq_2yrs', 'public_records', 'revolving_balance', 'total_acc',\n",
              "       'interest_receive', 'last_week_pay', 'total_current_balance',\n",
              "       'total_revolving_limit', 'default'],\n",
              "      dtype='object')"
            ]
          },
          "metadata": {},
          "execution_count": 94
        }
      ],
      "source": [
        "# Check for outliers\n",
        "df_numeric = df.select_dtypes(include=['number'])\n",
        "df_numeric.columns\n"
      ]
    },
    {
      "cell_type": "code",
      "execution_count": null,
      "metadata": {
        "id": "zcwdD5SfY0iY"
      },
      "outputs": [],
      "source": [
        "df_loan = df.copy()"
      ]
    },
    {
      "cell_type": "code",
      "execution_count": null,
      "metadata": {
        "colab": {
          "base_uri": "https://localhost:8080/"
        },
        "id": "2PIJ1JpxFobb",
        "outputId": "174ef719-4ff6-4c34-9430-167a91be9ba2"
      },
      "outputs": [
        {
          "output_type": "execute_result",
          "data": {
            "text/plain": [
              "Index(['ID', 'loan_amnt', 'loan_term', 'interest_rate', 'loan_grade',\n",
              "       'loan_subgrade', 'job_experience', 'home_ownership', 'annual_income',\n",
              "       'income_verification_status', 'loan_purpose', 'state_code',\n",
              "       'debt_to_income', 'delinq_2yrs', 'public_records', 'revolving_balance',\n",
              "       'total_acc', 'interest_receive', 'application_type', 'last_week_pay',\n",
              "       'total_current_balance', 'total_revolving_limit', 'default'],\n",
              "      dtype='object')"
            ]
          },
          "metadata": {},
          "execution_count": 96
        }
      ],
      "source": [
        "df.columns"
      ]
    },
    {
      "cell_type": "code",
      "execution_count": null,
      "metadata": {
        "colab": {
          "base_uri": "https://localhost:8080/"
        },
        "id": "bn1jtYsh4eD7",
        "outputId": "e32271a9-b91f-4232-a8c1-087fb96d86f7"
      },
      "outputs": [
        {
          "output_type": "execute_result",
          "data": {
            "text/plain": [
              "Index(['ID', 'loan_amnt', 'loan_term', 'interest_rate', 'loan_grade',\n",
              "       'loan_subgrade', 'job_experience', 'home_ownership', 'annual_income',\n",
              "       'income_verification_status', 'loan_purpose', 'state_code',\n",
              "       'debt_to_income', 'delinq_2yrs', 'public_records', 'revolving_balance',\n",
              "       'total_acc', 'interest_receive', 'application_type', 'last_week_pay',\n",
              "       'total_current_balance', 'total_revolving_limit', 'default'],\n",
              "      dtype='object')"
            ]
          },
          "metadata": {},
          "execution_count": 97
        }
      ],
      "source": [
        "df_loan.columns"
      ]
    },
    {
      "cell_type": "code",
      "execution_count": null,
      "metadata": {
        "id": "qTFHphnUVsOq"
      },
      "outputs": [],
      "source": [
        "# Split the data into train and validate data.\n",
        "X = df_loan.drop(columns =['default','home_ownership','state_code','total_revolving_limit','loan_subgrade'], axis=1)\n",
        "y = df_loan['default']\n",
        "X_train, X_val, y_train, y_val = train_test_split(X, y, test_size=0.2, random_state=42)\n",
        "\n"
      ]
    },
    {
      "cell_type": "markdown",
      "metadata": {
        "id": "HllZ_F0oZOD0"
      },
      "source": [
        "Impute and scale results"
      ]
    },
    {
      "cell_type": "code",
      "execution_count": null,
      "metadata": {
        "colab": {
          "base_uri": "https://localhost:8080/"
        },
        "id": "Omz8tCF5ZIdD",
        "outputId": "a3537cad-c9bf-45d4-dc03-b8ac00262a84"
      },
      "outputs": [
        {
          "output_type": "stream",
          "name": "stdout",
          "text": [
            "<class 'pandas.core.frame.DataFrame'>\n",
            "Index: 74539 entries, 15521 to 15795\n",
            "Data columns (total 18 columns):\n",
            " #   Column                      Non-Null Count  Dtype  \n",
            "---  ------                      --------------  -----  \n",
            " 0   ID                          74539 non-null  int64  \n",
            " 1   loan_amnt                   74539 non-null  int64  \n",
            " 2   loan_term                   74539 non-null  object \n",
            " 3   interest_rate               74539 non-null  float64\n",
            " 4   loan_grade                  74539 non-null  object \n",
            " 5   job_experience              70793 non-null  object \n",
            " 6   annual_income               74538 non-null  float64\n",
            " 7   income_verification_status  74539 non-null  object \n",
            " 8   loan_purpose                74539 non-null  object \n",
            " 9   debt_to_income              74539 non-null  float64\n",
            " 10  delinq_2yrs                 74537 non-null  float64\n",
            " 11  public_records              74537 non-null  float64\n",
            " 12  revolving_balance           74539 non-null  int64  \n",
            " 13  total_acc                   74537 non-null  float64\n",
            " 14  interest_receive            74539 non-null  float64\n",
            " 15  application_type            74539 non-null  object \n",
            " 16  last_week_pay               72998 non-null  float64\n",
            " 17  total_current_balance       68667 non-null  float64\n",
            "dtypes: float64(9), int64(3), object(6)\n",
            "memory usage: 10.8+ MB\n"
          ]
        }
      ],
      "source": [
        "X_train.info()"
      ]
    },
    {
      "cell_type": "code",
      "execution_count": null,
      "metadata": {
        "id": "SW99xYkaZirK"
      },
      "outputs": [],
      "source": [
        "#Let's impute the missing values\n",
        "# X_train['job_experience'] = X_train['job_experience'].fillna(X_train['job_experience'].mode()[0])\n",
        "# X_train['annual_income'] = X_train['annual_income'].fillna(X_train['annual_income'].mean())\n",
        "# X_train['total_current_balance'] = X_train['total_current_balance'].fillna(X_train['total_current_balance'].mean())\n",
        "# X_train['total_revolving_limit'] = X_train['total_revolving_limit'].fillna(X_train['total_revolving_limit'].mean())\n",
        "# X_train['last_week_pay'] = X_train['last_week_pay'].fillna(X_train['last_week_pay'].mean())\n",
        "\n"
      ]
    },
    {
      "cell_type": "code",
      "execution_count": null,
      "metadata": {
        "id": "ues_DE73aNAj"
      },
      "outputs": [],
      "source": [
        "# Let's impute the missing values\n",
        "imp_mode = SimpleImputer(missing_values=np.nan, strategy=\"most_frequent\")\n",
        "cols_to_impute = [\"job_experience\"]\n",
        "X_train[cols_to_impute] = imp_mode.fit_transform(X_train[cols_to_impute])\n",
        "X_val[cols_to_impute] = imp_mode.transform(X_val[cols_to_impute])\n"
      ]
    },
    {
      "cell_type": "code",
      "execution_count": null,
      "metadata": {
        "id": "WAqS99Onehvs"
      },
      "outputs": [],
      "source": [
        "X_train['annual_income'] = imp_mode.fit_transform(X_train[['annual_income']])\n",
        "X_val['annual_income'] = imp_mode.transform(X_val[['annual_income']])\n",
        "\n",
        "X_train['total_current_balance'] = imp_mode.fit_transform(X_train[['total_current_balance']])\n",
        "X_val['total_current_balance'] = imp_mode.transform(X_val[['total_current_balance']])\n",
        "\n",
        "#X_train['total_revolving_limit'] = imp_mode.fit_transform(X_train[['total_revolving_limit']])\n",
        "#X_val['total_revolving_limit'] = imp_mode.transform(X_val[['total_revolving_limit']])\n",
        "\n",
        "X_train['last_week_pay'] = imp_mode.fit_transform(X_train[['last_week_pay']])\n",
        "X_val['last_week_pay'] = imp_mode.transform(X_val[['last_week_pay']])\n",
        "\n"
      ]
    },
    {
      "cell_type": "code",
      "execution_count": null,
      "metadata": {
        "colab": {
          "base_uri": "https://localhost:8080/"
        },
        "id": "0R3zC9o5vvYJ",
        "outputId": "58cf521e-4170-4ade-c593-42287136b9c4"
      },
      "outputs": [
        {
          "output_type": "execute_result",
          "data": {
            "text/plain": [
              "ID                            0\n",
              "loan_amnt                     0\n",
              "loan_term                     0\n",
              "interest_rate                 0\n",
              "loan_grade                    0\n",
              "job_experience                0\n",
              "annual_income                 0\n",
              "income_verification_status    0\n",
              "loan_purpose                  0\n",
              "debt_to_income                0\n",
              "delinq_2yrs                   0\n",
              "public_records                0\n",
              "revolving_balance             0\n",
              "total_acc                     0\n",
              "interest_receive              0\n",
              "application_type              0\n",
              "last_week_pay                 0\n",
              "total_current_balance         0\n",
              "dtype: int64"
            ]
          },
          "metadata": {},
          "execution_count": 103
        }
      ],
      "source": [
        "X_val.isnull().sum()"
      ]
    },
    {
      "cell_type": "code",
      "execution_count": null,
      "metadata": {
        "id": "R1dPC83nvI7b"
      },
      "outputs": [],
      "source": [
        "# Creating dummy variables for categorical variables\n",
        "X_train = pd.get_dummies(data=X_train, drop_first=True)\n",
        "X_val = pd.get_dummies(data=X_val, drop_first=True)\n"
      ]
    },
    {
      "cell_type": "code",
      "execution_count": null,
      "metadata": {
        "colab": {
          "base_uri": "https://localhost:8080/"
        },
        "id": "-N4rB763Zcm-",
        "outputId": "98737000-194f-49c7-ee26-326c4a24eb93"
      },
      "outputs": [
        {
          "output_type": "execute_result",
          "data": {
            "text/plain": [
              "default\n",
              "0    0.764191\n",
              "1    0.235809\n",
              "Name: count, dtype: float64"
            ]
          },
          "metadata": {},
          "execution_count": 105
        }
      ],
      "source": [
        "y_train.value_counts(0)/y_train.shape[0]\n",
        " #['default'].value_counts()"
      ]
    },
    {
      "cell_type": "code",
      "execution_count": null,
      "metadata": {
        "colab": {
          "base_uri": "https://localhost:8080/"
        },
        "id": "rGogU8pCNcDa",
        "outputId": "dccecf66-fb83-4e47-d3d4-b52234a8a481"
      },
      "outputs": [
        {
          "output_type": "execute_result",
          "data": {
            "text/plain": [
              "(74539, 27)"
            ]
          },
          "metadata": {},
          "execution_count": 106
        }
      ],
      "source": [
        "X_train.shape"
      ]
    },
    {
      "cell_type": "code",
      "execution_count": null,
      "metadata": {
        "colab": {
          "base_uri": "https://localhost:8080/"
        },
        "id": "EKYEZX9WNjGp",
        "outputId": "5d67daaa-a530-4a6e-8536-0252faab4c00"
      },
      "outputs": [
        {
          "output_type": "execute_result",
          "data": {
            "text/plain": [
              "(18635, 27)"
            ]
          },
          "metadata": {},
          "execution_count": 107
        }
      ],
      "source": [
        "X_val.shape"
      ]
    },
    {
      "cell_type": "markdown",
      "metadata": {
        "id": "BDXUQ81LqG7p"
      },
      "source": [
        "### Model Building"
      ]
    },
    {
      "cell_type": "markdown",
      "metadata": {
        "id": "CBw2L00lqT2l"
      },
      "source": [
        "* The nature of predictions made by the classification model will translate as follows:\n",
        "\n",
        "- True positives (TP) are failures correctly predicted by the model.\n",
        "- False negatives (FN) are real failures in a generator where there is no detection by model.\n",
        "- False positives (FP) are failure detections in a generator where there is no failure.\n",
        "\n",
        "Metric : Precision"
      ]
    },
    {
      "cell_type": "code",
      "execution_count": null,
      "metadata": {
        "colab": {
          "base_uri": "https://localhost:8080/"
        },
        "id": "4p7M9X1UVKzr",
        "outputId": "ec3664c5-1747-427d-c0a7-2a1f27bf2159"
      },
      "outputs": [
        {
          "output_type": "stream",
          "name": "stdout",
          "text": [
            "X-Train Shape (74539, 27)\n",
            "X_val Shape (18635, 27)\n"
          ]
        }
      ],
      "source": [
        "print(\"X-Train Shape\",X_train.shape)\n",
        "print(\"X_val Shape\",X_val.shape)\n"
      ]
    },
    {
      "cell_type": "code",
      "execution_count": null,
      "metadata": {
        "colab": {
          "base_uri": "https://localhost:8080/"
        },
        "id": "eY0EkCK6_poC",
        "outputId": "4a28f76e-0a30-48c7-890a-cc42d017e8fc"
      },
      "outputs": [
        {
          "output_type": "execute_result",
          "data": {
            "text/plain": [
              "Index(['ID', 'loan_amnt', 'interest_rate', 'annual_income', 'debt_to_income',\n",
              "       'delinq_2yrs', 'public_records', 'revolving_balance', 'total_acc',\n",
              "       'interest_receive', 'last_week_pay', 'total_current_balance',\n",
              "       'loan_term_5 years', 'loan_grade_B', 'loan_grade_C', 'loan_grade_D',\n",
              "       'loan_grade_E', 'loan_grade_F', 'loan_grade_G',\n",
              "       'job_experience_6-10 years', 'job_experience_<5 Years',\n",
              "       'income_verification_status_Source Verified',\n",
              "       'income_verification_status_Verified',\n",
              "       'loan_purpose_debt_consolidation', 'loan_purpose_home_improvement',\n",
              "       'loan_purpose_other', 'application_type_JOINT'],\n",
              "      dtype='object')"
            ]
          },
          "metadata": {},
          "execution_count": 109
        }
      ],
      "source": [
        "X_train.columns"
      ]
    },
    {
      "cell_type": "markdown",
      "metadata": {
        "id": "ZP16pbDKVOt6"
      },
      "source": [
        "### Do we need to scale ??"
      ]
    },
    {
      "cell_type": "markdown",
      "metadata": {
        "id": "i3zkNYtKmaIv"
      },
      "source": [
        "#### Check for outliers\n",
        "#### Impute null values\n",
        "##### Scale data set"
      ]
    },
    {
      "cell_type": "markdown",
      "metadata": {
        "id": "LcDP-zfYVZgo"
      },
      "source": [
        "#### Data is not balanced"
      ]
    },
    {
      "cell_type": "markdown",
      "metadata": {
        "id": "eae0qDWJYJQc"
      },
      "source": [
        "#### Imputing and transforming missing values"
      ]
    },
    {
      "cell_type": "code",
      "execution_count": null,
      "metadata": {
        "id": "hHfAr3u3tqa4"
      },
      "outputs": [],
      "source": [
        "import sklearn.metrics as metrics\n",
        "import sklearn.model_selection as model_selection\n",
        "\n",
        "from sklearn.metrics import recall_score\n",
        "from sklearn.model_selection import RandomizedSearchCV\n",
        "from sklearn.ensemble import BaggingClassifier\n",
        "from sklearn.ensemble import RandomForestClassifier\n",
        "from sklearn.ensemble import GradientBoostingClassifier\n",
        "from sklearn.ensemble import AdaBoostClassifier\n",
        "\n",
        "from xgboost import XGBClassifier\n",
        "from sklearn.tree import DecisionTreeClassifier\n",
        "from imblearn.over_sampling import SMOTE\n",
        "from imblearn.under_sampling import RandomUnderSampler"
      ]
    },
    {
      "cell_type": "code",
      "execution_count": null,
      "metadata": {
        "id": "yK9o11bYYIV_"
      },
      "outputs": [],
      "source": [
        "# defining a function to compute different metrics to check performance of a classification model built using sklearn\n",
        "# def model_performance_classification_sklearn(model, predictors, target):\n",
        "#     \"\"\"\n",
        "#     Function to compute different metrics to check classification model performance\n",
        "\n",
        "#     model: classifier\n",
        "#     predictors: independent variables\n",
        "#     target: dependent variable\n",
        "#     \"\"\"\n",
        "\n",
        "#     # predicting using the independent variables\n",
        "#     pred = model.predict(predictors)\n",
        "\n",
        "#     acc = accuracy_score(target, pred)  # to compute Accuracy\n",
        "#     recall = recall_score(target, pred)  # to compute Recall\n",
        "#     precision = precision_score(target, pred)  # to compute Precision\n",
        "#     f1 = f1_score(target, pred)  # to compute F1-score\n",
        "\n",
        "#     # creating a dataframe of metrics\n",
        "#     df_perf = pd.DataFrame(\n",
        "#         {\n",
        "#             \"Accuracy\": acc,\n",
        "#             \"Recall\": recall,\n",
        "#             \"Precision\": precision,\n",
        "#             \"F1\": f1\n",
        "\n",
        "#         },\n",
        "#         index=[0],\n",
        "#     )\n",
        "\n",
        "#     return df_perf"
      ]
    },
    {
      "cell_type": "markdown",
      "metadata": {
        "id": "fvKXgyyYun5V"
      },
      "source": [
        "#### model building with original data"
      ]
    },
    {
      "cell_type": "code",
      "execution_count": null,
      "metadata": {
        "id": "GuCePqyVyshm"
      },
      "outputs": [],
      "source": [
        "for df in [X_train, X_val]:\n",
        "    for col in df.columns:\n",
        "        if df[col].dtype != 'object':  # Impute only numerical features\n",
        "            df[col] = df[col].fillna(df[col].median())"
      ]
    },
    {
      "cell_type": "code",
      "execution_count": null,
      "metadata": {
        "id": "BTbGzHGWWEtG"
      },
      "outputs": [],
      "source": [
        "# models = []  # Empty list to store all the models\n",
        "\n",
        "# # Appending models into the list\n",
        "# models.append((\"Bagging\", BaggingClassifier(random_state=1)))\n",
        "# models.append((\"Random forest\", RandomForestClassifier(random_state=1)))\n",
        "\n",
        "# ## Complete the code to append remaining 3 models in the list models\n",
        "# models.append((\"GBM\", GradientBoostingClassifier(random_state=1)))\n",
        "# models.append((\"Adaboost\", AdaBoostClassifier(random_state=1)))\n",
        "# models.append((\"Xgboost\", XGBClassifier(random_state=1, eval_metric=\"logloss\")))\n",
        "# models.append((\"dtree\", DecisionTreeClassifier(random_state=1)))\n",
        "\n",
        "# print(\"\\n\" \"Training Performance:\" \"\\n\")\n",
        "# for name, model in models:\n",
        "\n",
        "#   model.fit(X_train, y_train)\n",
        "#   recall_scores = recall_score(y_train, model.predict(X_train))\n",
        "#   precision_scores = precision_score(y_train, model.predict(X_train))\n",
        "#   accuracy_scores = accuracy_score(y_train, model.predict(X_train))\n",
        "\n",
        "#   recall_scores_val = recall_score(y_val, model.predict(X_val))\n",
        "#   precision_scores_val = precision_score(y_val, model.predict(X_val))\n",
        "#   accuracy_scores_val = accuracy_score(y_val, model.predict(X_val))\n",
        "\n",
        "#   print(\"Model      :{}  Training Score --  Validation Score \".format(model))\n",
        "#   print(\"Recall     : {} -- {}\".format(recall_scores,recall_scores_val))\n",
        "\n",
        "#   print(\"Precision  : {} -- {}\".format(precision_scores,precision_scores_val))\n",
        "\n",
        "#   print(\"Accuracy   : {} -- {}\".format(accuracy_scores,accuracy_scores_val))\n",
        "#   print(\"--------------------------------\")\n"
      ]
    },
    {
      "cell_type": "markdown",
      "metadata": {
        "id": "bMj_laT1mjyw"
      },
      "source": [
        "### Let's try with base model\n"
      ]
    },
    {
      "cell_type": "code",
      "execution_count": null,
      "metadata": {
        "id": "6Xanl_FMmHur"
      },
      "outputs": [],
      "source": [
        "# import pandas as pd\n",
        "# from sklearn.metrics import accuracy_score, recall_score, precision_score, f1_score\n",
        "# import sklearn.metrics as metrics\n",
        "# import sklearn.model_selection as model_selection\n",
        "\n",
        "# from sklearn.metrics import recall_score\n",
        "# from sklearn.model_selection import RandomizedSearchCV\n",
        "# from sklearn.ensemble import BaggingClassifier\n",
        "# from sklearn.ensemble import RandomForestClassifier\n",
        "# from sklearn.ensemble import GradientBoostingClassifier\n",
        "# from sklearn.ensemble import AdaBoostClassifier\n",
        "\n",
        "# from xgboost import XGBClassifier\n",
        "# from sklearn.tree import DecisionTreeClassifier\n",
        "# from imblearn.over_sampling import SMOTE\n",
        "# from imblearn.under_sampling import RandomUnderSampler\n",
        "\n",
        "# # defining a function to compute different metrics to check performance of a classification model built using sklearn\n",
        "# def model_performance_classification_sklearn(model, predictors, target):\n",
        "#     \"\"\"\n",
        "#     Function to compute different metrics to check classification model performance\n",
        "\n",
        "#     model: classifier\n",
        "#     predictors: independent variables\n",
        "#     target: dependent variable\n",
        "#     \"\"\"\n",
        "\n",
        "#     # predicting using the independent variables\n",
        "#     pred = model.predict(predictors)\n",
        "\n",
        "#     acc = accuracy_score(target, pred)  # to compute Accuracy\n",
        "#     recall = recall_score(target, pred)  # to compute Recall\n",
        "#     precision = precision_score(target, pred)  # to compute Precision\n",
        "#     f1 = f1_score(target, pred)  # to compute F1-score\n",
        "\n",
        "#     # creating a dataframe of metrics\n",
        "#     df_perf = pd.DataFrame(\n",
        "#         {\n",
        "#             \"Accuracy\": acc,\n",
        "#             \"Recall\": recall,\n",
        "#             \"Precision\": precision,\n",
        "#             \"F1\": f1\n",
        "\n",
        "#         },\n",
        "#         index=[0],\n",
        "#     )\n",
        "\n",
        "#     return df_perf\n",
        "\n",
        "# models = []  # Empty list to store all the models\n",
        "\n",
        "# # Appending models into the list\n",
        "# models.append((\"Bagging\", BaggingClassifier(random_state=1)))\n",
        "# models.append((\"Random forest\", RandomForestClassifier(random_state=1)))\n",
        "\n",
        "# ## Complete the code to append remaining 3 models in the list models\n",
        "# models.append((\"GBM\", GradientBoostingClassifier(random_state=1)))\n",
        "# models.append((\"Adaboost\", AdaBoostClassifier(random_state=1)))\n",
        "# models.append((\"Xgboost\", XGBClassifier(random_state=1, eval_metric=\"logloss\")))\n",
        "# models.append((\"dtree\", DecisionTreeClassifier(random_state=1)))\n",
        "\n",
        "# # Impute missing values in X_train and X_val (replace with median for numerical features)\n",
        "# for df in [X_train, X_val]:\n",
        "#     for col in df.columns:\n",
        "#         if df[col].dtype != 'object':  # Impute only numerical features\n",
        "#             df[col] = df[col].fillna(df[col].median())\n",
        "\n",
        "# print(\"\\n\" \"Training Performance:\" \"\\n\")\n",
        "# for name, model in models:\n",
        "\n",
        "#   model.fit(X_train, y_train)\n",
        "#   recall_scores = recall_score(y_train, model.predict(X_train))\n",
        "#   precision_scores = precision_score(y_train, model.predict(X_train))\n",
        "#   accuracy_scores = accuracy_score(y_train, model.predict(X_train))\n",
        "\n",
        "#   recall_scores_val = recall_score(y_val, model.predict(X_val))\n",
        "#   precision_scores_val = precision_score(y_val, model.predict(X_val))\n",
        "#   accuracy_scores_val = accuracy_score(y_val, model.predict(X_val))\n",
        "\n",
        "#   print(\"Model      :{}  Training Score --  Validation Score \".format(model))\n",
        "#   print(\"Recall     : {} -- {}\".format(recall_scores,recall_scores_val))\n",
        "\n",
        "#   print(\"Precision  : {} -- {}\".format(precision_scores,precision_scores_val))\n",
        "\n",
        "#   print(\"Accuracy   : {} -- {}\".format(accuracy_scores,accuracy_scores_val))\n",
        "#   print(\"--------------------------------\")\n"
      ]
    },
    {
      "cell_type": "code",
      "execution_count": null,
      "metadata": {
        "id": "5F5OjWoRDCnm"
      },
      "outputs": [],
      "source": [
        "#rename job_experience_<5 Years to job_experience_lt_5_years to 5 years\n",
        "\n",
        "\n",
        "X_train = X_train.rename(columns={'job_experience_<5 Years': 'job_experience_lt_5_years'})\n",
        "X_val = X_val.rename(columns={'job_experience_<5 Years': 'job_experience_lt_5_years'})\n"
      ]
    },
    {
      "cell_type": "code",
      "execution_count": null,
      "metadata": {
        "id": "aurvGb_gE935"
      },
      "outputs": [],
      "source": []
    },
    {
      "cell_type": "code",
      "execution_count": null,
      "metadata": {
        "id": "aRSEFQz8B8d-"
      },
      "outputs": [],
      "source": []
    },
    {
      "cell_type": "code",
      "execution_count": null,
      "metadata": {
        "id": "wIm5c5O-o_Cz"
      },
      "outputs": [],
      "source": []
    },
    {
      "cell_type": "code",
      "execution_count": null,
      "metadata": {
        "colab": {
          "base_uri": "https://localhost:8080/"
        },
        "id": "HnOWNqDaBldL",
        "outputId": "a0429bce-b0ee-4c20-8c65-43be3da10467"
      },
      "outputs": [
        {
          "output_type": "execute_result",
          "data": {
            "text/plain": [
              "Index(['ID', 'loan_amnt', 'interest_rate', 'annual_income', 'debt_to_income',\n",
              "       'delinq_2yrs', 'public_records', 'revolving_balance', 'total_acc',\n",
              "       'interest_receive', 'last_week_pay', 'total_current_balance',\n",
              "       'loan_term_5 years', 'loan_grade_B', 'loan_grade_C', 'loan_grade_D',\n",
              "       'loan_grade_E', 'loan_grade_F', 'loan_grade_G',\n",
              "       'job_experience_6-10 years', 'job_experience_lt_5_years',\n",
              "       'income_verification_status_Source Verified',\n",
              "       'income_verification_status_Verified',\n",
              "       'loan_purpose_debt_consolidation', 'loan_purpose_home_improvement',\n",
              "       'loan_purpose_other', 'application_type_JOINT'],\n",
              "      dtype='object')"
            ]
          },
          "metadata": {},
          "execution_count": 116
        }
      ],
      "source": [
        "X_train.columns"
      ]
    },
    {
      "cell_type": "code",
      "execution_count": null,
      "metadata": {
        "id": "ZnMVrndty8YB"
      },
      "outputs": [],
      "source": [
        "## Second best"
      ]
    },
    {
      "cell_type": "code",
      "execution_count": null,
      "metadata": {
        "id": "O57I0OJqmPqe"
      },
      "outputs": [],
      "source": [
        "# defining a function to compute different metrics to check performance of a classification model built using sklearn\n",
        "# def model_performance_classification_sklearn(model, predictors, target):\n",
        "#     \"\"\"\n",
        "#     Function to compute different metrics to check classification model performance\n",
        "\n",
        "#     model: classifier\n",
        "#     predictors: independent variables\n",
        "#     target: dependent variable\n",
        "#     \"\"\"\n",
        "\n",
        "#     # predicting using the independent variables\n",
        "#     pred = model.predict(predictors)\n",
        "\n",
        "#     acc = accuracy_score(target, pred)  # to compute Accuracy\n",
        "#     recall = recall_score(target, pred)  # to compute Recall\n",
        "#     precision = precision_score(target, pred)  # to compute Precision\n",
        "#     f1 = f1_score(target, pred)  # to compute F1-score\n",
        "\n",
        "#     # creating a dataframe of metrics\n",
        "#     df_perf = pd.DataFrame(\n",
        "#         {\n",
        "#             \"Accuracy\": acc,\n",
        "#             \"Recall\": recall,\n",
        "#             \"Precision\": precision,\n",
        "#             \"F1\": f1\n",
        "\n",
        "#         },\n",
        "#         index=[0],\n",
        "#     )\n",
        "\n",
        "#     return df_perf\n",
        "\n",
        "# models = []  # Empty list to store all the models\n",
        "\n",
        "# # Appending models into the list\n",
        "# models.append((\"Bagging\", BaggingClassifier(random_state=1)))\n",
        "# models.append((\"Random forest\", RandomForestClassifier(random_state=1)))\n",
        "\n",
        "# ## Complete the code to append remaining 3 models in the list models\n",
        "# models.append((\"GBM\", GradientBoostingClassifier(random_state=1)))\n",
        "# models.append((\"Adaboost\", AdaBoostClassifier(random_state=1)))\n",
        "# models.append((\"Xgboost\", XGBClassifier(random_state=1, eval_metric=\"logloss\")))\n",
        "# optimization_dict = {'max_depth': [3,5,7],\n",
        "#                      'learning_rate': [0.1, 0.06, 0.05],\n",
        "#                      'subsample': [0.5, 0.7, 1],\n",
        "\n",
        "#                      'n_estimators': [50,100,200]}\n",
        "\n",
        "# models.append((\"Xgboost_1\",GridSearchCV(XGBClassifier, optimization_dict,cv=5, scoring='accuracy', verbose=1))) # append takes only one argument, changed to add a tuple similar to other models\n",
        "\n",
        "# RandomizedSearchCV(XGBClassifier, param_distributions=optimization_dict, n_iter=10, cv=5, scoring='accuracy')\n",
        "\n",
        "\n",
        "# #models.append((\"Xgboost_1\", XGBClassifier(random_state=1, eval_metric=\"logloss\", n_estimators=200)))\n",
        "# models.append((\"dtree\", DecisionTreeClassifier(random_state=1)))\n",
        "\n",
        "\n",
        "# print(\"\\n\" \"Training Performance:\" \"\\n\")\n",
        "# for name, model in models:\n",
        "#     # Check column names and convert to strings\n",
        "#     X_train.columns = [str(col) for col in X_train.columns]\n",
        "#     X_val.columns = [str(col) for col in X_val.columns]\n",
        "\n",
        "#     model.fit(X_train, y_train)\n",
        "#     recall_scores = recall_score(y_train, model.predict(X_train))\n",
        "#     precision_scores = precision_score(y_train, model.predict(X_train))\n",
        "#     accuracy_scores = accuracy_score(y_train, model.predict(X_train))\n",
        "\n",
        "#     recall_scores_val = recall_score(y_val, model.predict(X_val))\n",
        "#     precision_scores_val = precision_score(y_val, model.predict(X_val))\n",
        "#     accuracy_scores_val = accuracy_score(y_val, model.predict(X_val))\n",
        "\n",
        "#     print(\"Model      :{}  Training Score --  Validation Score \".format(model))\n",
        "#     print(\"Recall     : {} -- {}\".format(recall_scores,recall_scores_val))\n",
        "\n",
        "#     print(\"Precision  : {} -- {}\".format(precision_scores,precision_scores_val))\n",
        "\n",
        "#     print(\"Accuracy   : {} -- {}\".format(accuracy_scores,accuracy_scores_val))\n",
        "#     print(\"--------------------------------\")"
      ]
    },
    {
      "cell_type": "markdown",
      "metadata": {
        "id": "l5XI1s1SJfA4"
      },
      "source": [
        "### XG boost is the classifier\n",
        "Model      :XGBClassifier(base_score=None, booster=None, )  \n",
        "\n",
        "* Metric -Training Score --  Validation Score\n",
        "\n",
        "- Recall     : 0.8950901746600671 -- 0.8391915641476274\n",
        "- Precision  : 0.849055585536967 -- 0.7973283239407222\n",
        "- Accuracy   : 0.9377372918874683 -- 0.9086128253286826"
      ]
    },
    {
      "cell_type": "markdown",
      "metadata": {
        "id": "TNRVYTd9DvQp"
      },
      "source": [
        "### Latest"
      ]
    },
    {
      "cell_type": "code",
      "execution_count": null,
      "metadata": {
        "colab": {
          "base_uri": "https://localhost:8080/",
          "height": 640
        },
        "id": "zooqluvN30Kz",
        "outputId": "fcefb72f-4053-44df-afae-bf5859e91bc2"
      },
      "outputs": [
        {
          "output_type": "stream",
          "name": "stdout",
          "text": [
            "\n",
            "Training Performance:\n",
            "\n",
            "name Bagging_1\n",
            "Model      :GridSearchCV(estimator=BaggingClassifier(estimator=DecisionTreeClassifier(),\n",
            "                                         max_features=0.5, n_estimators=100),\n",
            "             param_grid={'base_estimator__max_depth': [1, 2, 3, 4, 5],\n",
            "                         'max_samples': [0.05, 0.1, 0.2, 0.5]},\n",
            "             scoring='accuracy')  Training Score --  Validation Score \n",
            "Recall     : 0.3558058826876031 -- 0.3563268892794376\n",
            "Precision  : 0.8473106625118547 -- 0.8591101694915254\n",
            "Accuracy   : 0.832973342813829 -- 0.8284947679098471\n",
            "--------------------------------\n"
          ]
        },
        {
          "output_type": "error",
          "ename": "ValueError",
          "evalue": "Invalid parameter 'base_estimator' for estimator RandomForestClassifier(). Valid parameters are: ['bootstrap', 'ccp_alpha', 'class_weight', 'criterion', 'max_depth', 'max_features', 'max_leaf_nodes', 'max_samples', 'min_impurity_decrease', 'min_samples_leaf', 'min_samples_split', 'min_weight_fraction_leaf', 'n_estimators', 'n_jobs', 'oob_score', 'random_state', 'verbose', 'warm_start'].",
          "traceback": [
            "\u001b[0;31m---------------------------------------------------------------------------\u001b[0m",
            "\u001b[0;31mValueError\u001b[0m                                Traceback (most recent call last)",
            "\u001b[0;32m<ipython-input-119-357b88ef803e>\u001b[0m in \u001b[0;36m<cell line: 91>\u001b[0;34m()\u001b[0m\n\u001b[1;32m     94\u001b[0m     \u001b[0mX_val\u001b[0m\u001b[0;34m.\u001b[0m\u001b[0mcolumns\u001b[0m \u001b[0;34m=\u001b[0m \u001b[0;34m[\u001b[0m\u001b[0mstr\u001b[0m\u001b[0;34m(\u001b[0m\u001b[0mcol\u001b[0m\u001b[0;34m)\u001b[0m \u001b[0;32mfor\u001b[0m \u001b[0mcol\u001b[0m \u001b[0;32min\u001b[0m \u001b[0mX_val\u001b[0m\u001b[0;34m.\u001b[0m\u001b[0mcolumns\u001b[0m\u001b[0;34m]\u001b[0m\u001b[0;34m\u001b[0m\u001b[0;34m\u001b[0m\u001b[0m\n\u001b[1;32m     95\u001b[0m \u001b[0;34m\u001b[0m\u001b[0m\n\u001b[0;32m---> 96\u001b[0;31m     \u001b[0mmodel\u001b[0m\u001b[0;34m.\u001b[0m\u001b[0mfit\u001b[0m\u001b[0;34m(\u001b[0m\u001b[0mX_train\u001b[0m\u001b[0;34m,\u001b[0m \u001b[0my_train\u001b[0m\u001b[0;34m)\u001b[0m\u001b[0;34m\u001b[0m\u001b[0;34m\u001b[0m\u001b[0m\n\u001b[0m\u001b[1;32m     97\u001b[0m     \u001b[0mrecall_scores\u001b[0m \u001b[0;34m=\u001b[0m \u001b[0mrecall_score\u001b[0m\u001b[0;34m(\u001b[0m\u001b[0my_train\u001b[0m\u001b[0;34m,\u001b[0m \u001b[0mmodel\u001b[0m\u001b[0;34m.\u001b[0m\u001b[0mpredict\u001b[0m\u001b[0;34m(\u001b[0m\u001b[0mX_train\u001b[0m\u001b[0;34m)\u001b[0m\u001b[0;34m)\u001b[0m\u001b[0;34m\u001b[0m\u001b[0;34m\u001b[0m\u001b[0m\n\u001b[1;32m     98\u001b[0m     \u001b[0mprecision_scores\u001b[0m \u001b[0;34m=\u001b[0m \u001b[0mprecision_score\u001b[0m\u001b[0;34m(\u001b[0m\u001b[0my_train\u001b[0m\u001b[0;34m,\u001b[0m \u001b[0mmodel\u001b[0m\u001b[0;34m.\u001b[0m\u001b[0mpredict\u001b[0m\u001b[0;34m(\u001b[0m\u001b[0mX_train\u001b[0m\u001b[0;34m)\u001b[0m\u001b[0;34m)\u001b[0m\u001b[0;34m\u001b[0m\u001b[0;34m\u001b[0m\u001b[0m\n",
            "\u001b[0;32m/usr/local/lib/python3.10/dist-packages/sklearn/base.py\u001b[0m in \u001b[0;36mwrapper\u001b[0;34m(estimator, *args, **kwargs)\u001b[0m\n\u001b[1;32m   1150\u001b[0m                 )\n\u001b[1;32m   1151\u001b[0m             ):\n\u001b[0;32m-> 1152\u001b[0;31m                 \u001b[0;32mreturn\u001b[0m \u001b[0mfit_method\u001b[0m\u001b[0;34m(\u001b[0m\u001b[0mestimator\u001b[0m\u001b[0;34m,\u001b[0m \u001b[0;34m*\u001b[0m\u001b[0margs\u001b[0m\u001b[0;34m,\u001b[0m \u001b[0;34m**\u001b[0m\u001b[0mkwargs\u001b[0m\u001b[0;34m)\u001b[0m\u001b[0;34m\u001b[0m\u001b[0;34m\u001b[0m\u001b[0m\n\u001b[0m\u001b[1;32m   1153\u001b[0m \u001b[0;34m\u001b[0m\u001b[0m\n\u001b[1;32m   1154\u001b[0m         \u001b[0;32mreturn\u001b[0m \u001b[0mwrapper\u001b[0m\u001b[0;34m\u001b[0m\u001b[0;34m\u001b[0m\u001b[0m\n",
            "\u001b[0;32m/usr/local/lib/python3.10/dist-packages/sklearn/model_selection/_search.py\u001b[0m in \u001b[0;36mfit\u001b[0;34m(self, X, y, groups, **fit_params)\u001b[0m\n\u001b[1;32m    896\u001b[0m                 \u001b[0;32mreturn\u001b[0m \u001b[0mresults\u001b[0m\u001b[0;34m\u001b[0m\u001b[0;34m\u001b[0m\u001b[0m\n\u001b[1;32m    897\u001b[0m \u001b[0;34m\u001b[0m\u001b[0m\n\u001b[0;32m--> 898\u001b[0;31m             \u001b[0mself\u001b[0m\u001b[0;34m.\u001b[0m\u001b[0m_run_search\u001b[0m\u001b[0;34m(\u001b[0m\u001b[0mevaluate_candidates\u001b[0m\u001b[0;34m)\u001b[0m\u001b[0;34m\u001b[0m\u001b[0;34m\u001b[0m\u001b[0m\n\u001b[0m\u001b[1;32m    899\u001b[0m \u001b[0;34m\u001b[0m\u001b[0m\n\u001b[1;32m    900\u001b[0m             \u001b[0;31m# multimetric is determined here because in the case of a callable\u001b[0m\u001b[0;34m\u001b[0m\u001b[0;34m\u001b[0m\u001b[0m\n",
            "\u001b[0;32m/usr/local/lib/python3.10/dist-packages/sklearn/model_selection/_search.py\u001b[0m in \u001b[0;36m_run_search\u001b[0;34m(self, evaluate_candidates)\u001b[0m\n\u001b[1;32m   1420\u001b[0m     \u001b[0;32mdef\u001b[0m \u001b[0m_run_search\u001b[0m\u001b[0;34m(\u001b[0m\u001b[0mself\u001b[0m\u001b[0;34m,\u001b[0m \u001b[0mevaluate_candidates\u001b[0m\u001b[0;34m)\u001b[0m\u001b[0;34m:\u001b[0m\u001b[0;34m\u001b[0m\u001b[0;34m\u001b[0m\u001b[0m\n\u001b[1;32m   1421\u001b[0m         \u001b[0;34m\"\"\"Search all candidates in param_grid\"\"\"\u001b[0m\u001b[0;34m\u001b[0m\u001b[0;34m\u001b[0m\u001b[0m\n\u001b[0;32m-> 1422\u001b[0;31m         \u001b[0mevaluate_candidates\u001b[0m\u001b[0;34m(\u001b[0m\u001b[0mParameterGrid\u001b[0m\u001b[0;34m(\u001b[0m\u001b[0mself\u001b[0m\u001b[0;34m.\u001b[0m\u001b[0mparam_grid\u001b[0m\u001b[0;34m)\u001b[0m\u001b[0;34m)\u001b[0m\u001b[0;34m\u001b[0m\u001b[0;34m\u001b[0m\u001b[0m\n\u001b[0m\u001b[1;32m   1423\u001b[0m \u001b[0;34m\u001b[0m\u001b[0m\n\u001b[1;32m   1424\u001b[0m \u001b[0;34m\u001b[0m\u001b[0m\n",
            "\u001b[0;32m/usr/local/lib/python3.10/dist-packages/sklearn/model_selection/_search.py\u001b[0m in \u001b[0;36mevaluate_candidates\u001b[0;34m(candidate_params, cv, more_results)\u001b[0m\n\u001b[1;32m    843\u001b[0m                     )\n\u001b[1;32m    844\u001b[0m \u001b[0;34m\u001b[0m\u001b[0m\n\u001b[0;32m--> 845\u001b[0;31m                 out = parallel(\n\u001b[0m\u001b[1;32m    846\u001b[0m                     delayed(_fit_and_score)(\n\u001b[1;32m    847\u001b[0m                         \u001b[0mclone\u001b[0m\u001b[0;34m(\u001b[0m\u001b[0mbase_estimator\u001b[0m\u001b[0;34m)\u001b[0m\u001b[0;34m,\u001b[0m\u001b[0;34m\u001b[0m\u001b[0;34m\u001b[0m\u001b[0m\n",
            "\u001b[0;32m/usr/local/lib/python3.10/dist-packages/sklearn/utils/parallel.py\u001b[0m in \u001b[0;36m__call__\u001b[0;34m(self, iterable)\u001b[0m\n\u001b[1;32m     63\u001b[0m             \u001b[0;32mfor\u001b[0m \u001b[0mdelayed_func\u001b[0m\u001b[0;34m,\u001b[0m \u001b[0margs\u001b[0m\u001b[0;34m,\u001b[0m \u001b[0mkwargs\u001b[0m \u001b[0;32min\u001b[0m \u001b[0miterable\u001b[0m\u001b[0;34m\u001b[0m\u001b[0;34m\u001b[0m\u001b[0m\n\u001b[1;32m     64\u001b[0m         )\n\u001b[0;32m---> 65\u001b[0;31m         \u001b[0;32mreturn\u001b[0m \u001b[0msuper\u001b[0m\u001b[0;34m(\u001b[0m\u001b[0;34m)\u001b[0m\u001b[0;34m.\u001b[0m\u001b[0m__call__\u001b[0m\u001b[0;34m(\u001b[0m\u001b[0miterable_with_config\u001b[0m\u001b[0;34m)\u001b[0m\u001b[0;34m\u001b[0m\u001b[0;34m\u001b[0m\u001b[0m\n\u001b[0m\u001b[1;32m     66\u001b[0m \u001b[0;34m\u001b[0m\u001b[0m\n\u001b[1;32m     67\u001b[0m \u001b[0;34m\u001b[0m\u001b[0m\n",
            "\u001b[0;32m/usr/local/lib/python3.10/dist-packages/joblib/parallel.py\u001b[0m in \u001b[0;36m__call__\u001b[0;34m(self, iterable)\u001b[0m\n\u001b[1;32m   1916\u001b[0m             \u001b[0moutput\u001b[0m \u001b[0;34m=\u001b[0m \u001b[0mself\u001b[0m\u001b[0;34m.\u001b[0m\u001b[0m_get_sequential_output\u001b[0m\u001b[0;34m(\u001b[0m\u001b[0miterable\u001b[0m\u001b[0;34m)\u001b[0m\u001b[0;34m\u001b[0m\u001b[0;34m\u001b[0m\u001b[0m\n\u001b[1;32m   1917\u001b[0m             \u001b[0mnext\u001b[0m\u001b[0;34m(\u001b[0m\u001b[0moutput\u001b[0m\u001b[0;34m)\u001b[0m\u001b[0;34m\u001b[0m\u001b[0;34m\u001b[0m\u001b[0m\n\u001b[0;32m-> 1918\u001b[0;31m             \u001b[0;32mreturn\u001b[0m \u001b[0moutput\u001b[0m \u001b[0;32mif\u001b[0m \u001b[0mself\u001b[0m\u001b[0;34m.\u001b[0m\u001b[0mreturn_generator\u001b[0m \u001b[0;32melse\u001b[0m \u001b[0mlist\u001b[0m\u001b[0;34m(\u001b[0m\u001b[0moutput\u001b[0m\u001b[0;34m)\u001b[0m\u001b[0;34m\u001b[0m\u001b[0;34m\u001b[0m\u001b[0m\n\u001b[0m\u001b[1;32m   1919\u001b[0m \u001b[0;34m\u001b[0m\u001b[0m\n\u001b[1;32m   1920\u001b[0m         \u001b[0;31m# Let's create an ID that uniquely identifies the current call. If the\u001b[0m\u001b[0;34m\u001b[0m\u001b[0;34m\u001b[0m\u001b[0m\n",
            "\u001b[0;32m/usr/local/lib/python3.10/dist-packages/joblib/parallel.py\u001b[0m in \u001b[0;36m_get_sequential_output\u001b[0;34m(self, iterable)\u001b[0m\n\u001b[1;32m   1845\u001b[0m                 \u001b[0mself\u001b[0m\u001b[0;34m.\u001b[0m\u001b[0mn_dispatched_batches\u001b[0m \u001b[0;34m+=\u001b[0m \u001b[0;36m1\u001b[0m\u001b[0;34m\u001b[0m\u001b[0;34m\u001b[0m\u001b[0m\n\u001b[1;32m   1846\u001b[0m                 \u001b[0mself\u001b[0m\u001b[0;34m.\u001b[0m\u001b[0mn_dispatched_tasks\u001b[0m \u001b[0;34m+=\u001b[0m \u001b[0;36m1\u001b[0m\u001b[0;34m\u001b[0m\u001b[0;34m\u001b[0m\u001b[0m\n\u001b[0;32m-> 1847\u001b[0;31m                 \u001b[0mres\u001b[0m \u001b[0;34m=\u001b[0m \u001b[0mfunc\u001b[0m\u001b[0;34m(\u001b[0m\u001b[0;34m*\u001b[0m\u001b[0margs\u001b[0m\u001b[0;34m,\u001b[0m \u001b[0;34m**\u001b[0m\u001b[0mkwargs\u001b[0m\u001b[0;34m)\u001b[0m\u001b[0;34m\u001b[0m\u001b[0;34m\u001b[0m\u001b[0m\n\u001b[0m\u001b[1;32m   1848\u001b[0m                 \u001b[0mself\u001b[0m\u001b[0;34m.\u001b[0m\u001b[0mn_completed_tasks\u001b[0m \u001b[0;34m+=\u001b[0m \u001b[0;36m1\u001b[0m\u001b[0;34m\u001b[0m\u001b[0;34m\u001b[0m\u001b[0m\n\u001b[1;32m   1849\u001b[0m                 \u001b[0mself\u001b[0m\u001b[0;34m.\u001b[0m\u001b[0mprint_progress\u001b[0m\u001b[0;34m(\u001b[0m\u001b[0;34m)\u001b[0m\u001b[0;34m\u001b[0m\u001b[0;34m\u001b[0m\u001b[0m\n",
            "\u001b[0;32m/usr/local/lib/python3.10/dist-packages/sklearn/utils/parallel.py\u001b[0m in \u001b[0;36m__call__\u001b[0;34m(self, *args, **kwargs)\u001b[0m\n\u001b[1;32m    125\u001b[0m             \u001b[0mconfig\u001b[0m \u001b[0;34m=\u001b[0m \u001b[0;34m{\u001b[0m\u001b[0;34m}\u001b[0m\u001b[0;34m\u001b[0m\u001b[0;34m\u001b[0m\u001b[0m\n\u001b[1;32m    126\u001b[0m         \u001b[0;32mwith\u001b[0m \u001b[0mconfig_context\u001b[0m\u001b[0;34m(\u001b[0m\u001b[0;34m**\u001b[0m\u001b[0mconfig\u001b[0m\u001b[0;34m)\u001b[0m\u001b[0;34m:\u001b[0m\u001b[0;34m\u001b[0m\u001b[0;34m\u001b[0m\u001b[0m\n\u001b[0;32m--> 127\u001b[0;31m             \u001b[0;32mreturn\u001b[0m \u001b[0mself\u001b[0m\u001b[0;34m.\u001b[0m\u001b[0mfunction\u001b[0m\u001b[0;34m(\u001b[0m\u001b[0;34m*\u001b[0m\u001b[0margs\u001b[0m\u001b[0;34m,\u001b[0m \u001b[0;34m**\u001b[0m\u001b[0mkwargs\u001b[0m\u001b[0;34m)\u001b[0m\u001b[0;34m\u001b[0m\u001b[0;34m\u001b[0m\u001b[0m\n\u001b[0m",
            "\u001b[0;32m/usr/local/lib/python3.10/dist-packages/sklearn/model_selection/_validation.py\u001b[0m in \u001b[0;36m_fit_and_score\u001b[0;34m(estimator, X, y, scorer, train, test, verbose, parameters, fit_params, return_train_score, return_parameters, return_n_test_samples, return_times, return_estimator, split_progress, candidate_progress, error_score)\u001b[0m\n\u001b[1;32m    715\u001b[0m         \u001b[0;31m# estimators in a pipeline.\u001b[0m\u001b[0;34m\u001b[0m\u001b[0;34m\u001b[0m\u001b[0m\n\u001b[1;32m    716\u001b[0m         \u001b[0;31m# ref: https://github.com/scikit-learn/scikit-learn/pull/26786\u001b[0m\u001b[0;34m\u001b[0m\u001b[0;34m\u001b[0m\u001b[0m\n\u001b[0;32m--> 717\u001b[0;31m         \u001b[0mestimator\u001b[0m \u001b[0;34m=\u001b[0m \u001b[0mestimator\u001b[0m\u001b[0;34m.\u001b[0m\u001b[0mset_params\u001b[0m\u001b[0;34m(\u001b[0m\u001b[0;34m**\u001b[0m\u001b[0mclone\u001b[0m\u001b[0;34m(\u001b[0m\u001b[0mparameters\u001b[0m\u001b[0;34m,\u001b[0m \u001b[0msafe\u001b[0m\u001b[0;34m=\u001b[0m\u001b[0;32mFalse\u001b[0m\u001b[0;34m)\u001b[0m\u001b[0;34m)\u001b[0m\u001b[0;34m\u001b[0m\u001b[0;34m\u001b[0m\u001b[0m\n\u001b[0m\u001b[1;32m    718\u001b[0m \u001b[0;34m\u001b[0m\u001b[0m\n\u001b[1;32m    719\u001b[0m     \u001b[0mstart_time\u001b[0m \u001b[0;34m=\u001b[0m \u001b[0mtime\u001b[0m\u001b[0;34m.\u001b[0m\u001b[0mtime\u001b[0m\u001b[0;34m(\u001b[0m\u001b[0;34m)\u001b[0m\u001b[0;34m\u001b[0m\u001b[0;34m\u001b[0m\u001b[0m\n",
            "\u001b[0;32m/usr/local/lib/python3.10/dist-packages/sklearn/base.py\u001b[0m in \u001b[0;36mset_params\u001b[0;34m(self, **params)\u001b[0m\n\u001b[1;32m    228\u001b[0m             \u001b[0;32mif\u001b[0m \u001b[0mkey\u001b[0m \u001b[0;32mnot\u001b[0m \u001b[0;32min\u001b[0m \u001b[0mvalid_params\u001b[0m\u001b[0;34m:\u001b[0m\u001b[0;34m\u001b[0m\u001b[0;34m\u001b[0m\u001b[0m\n\u001b[1;32m    229\u001b[0m                 \u001b[0mlocal_valid_params\u001b[0m \u001b[0;34m=\u001b[0m \u001b[0mself\u001b[0m\u001b[0;34m.\u001b[0m\u001b[0m_get_param_names\u001b[0m\u001b[0;34m(\u001b[0m\u001b[0;34m)\u001b[0m\u001b[0;34m\u001b[0m\u001b[0;34m\u001b[0m\u001b[0m\n\u001b[0;32m--> 230\u001b[0;31m                 raise ValueError(\n\u001b[0m\u001b[1;32m    231\u001b[0m                     \u001b[0;34mf\"Invalid parameter {key!r} for estimator {self}. \"\u001b[0m\u001b[0;34m\u001b[0m\u001b[0;34m\u001b[0m\u001b[0m\n\u001b[1;32m    232\u001b[0m                     \u001b[0;34mf\"Valid parameters are: {local_valid_params!r}.\"\u001b[0m\u001b[0;34m\u001b[0m\u001b[0;34m\u001b[0m\u001b[0m\n",
            "\u001b[0;31mValueError\u001b[0m: Invalid parameter 'base_estimator' for estimator RandomForestClassifier(). Valid parameters are: ['bootstrap', 'ccp_alpha', 'class_weight', 'criterion', 'max_depth', 'max_features', 'max_leaf_nodes', 'max_samples', 'min_impurity_decrease', 'min_samples_leaf', 'min_samples_split', 'min_weight_fraction_leaf', 'n_estimators', 'n_jobs', 'oob_score', 'random_state', 'verbose', 'warm_start']."
          ]
        }
      ],
      "source": [
        "# defining a function to compute different metrics to check performance of a classification model built using sklearn\n",
        "from sklearn.model_selection import GridSearchCV\n",
        "def model_performance_classification_sklearn(model, predictors, target):\n",
        "    \"\"\"\n",
        "    Function to compute different metrics to check classification model performance\n",
        "\n",
        "    model: classifier\n",
        "    predictors: independent variables\n",
        "    target: dependent variable\n",
        "    \"\"\"\n",
        "\n",
        "    # predicting using the independent variables\n",
        "    pred = model.predict(predictors)\n",
        "\n",
        "    acc = accuracy_score(target, pred)  # to compute Accuracy\n",
        "    recall = recall_score(target, pred)  # to compute Recall\n",
        "    precision = precision_score(target, pred)  # to compute Precision\n",
        "    f1 = f1_score(target, pred)  # to compute F1-score\n",
        "\n",
        "    # creating a dataframe of metrics\n",
        "    df_perf = pd.DataFrame(\n",
        "        {\n",
        "            \"Accuracy\": acc,\n",
        "            \"Recall\": recall,\n",
        "            \"Precision\": precision,\n",
        "            \"F1\": f1\n",
        "\n",
        "        },\n",
        "        index=[0],\n",
        "    )\n",
        "\n",
        "    return df_perf\n",
        "\n",
        "models = []  # Empty list to store all the models\n",
        "\n",
        "# Appending models into the list\n",
        "param_grid = {\n",
        "    'base_estimator__max_depth' : [1, 2, 3, 4, 5],\n",
        "    'max_samples' : [0.05, 0.1, 0.2, 0.5]\n",
        "}\n",
        "\n",
        "models.append((\"Bagging_1\", GridSearchCV(BaggingClassifier(DecisionTreeClassifier(),n_estimators=100, max_features=0.5), param_grid,scoring = 'accuracy')))\n",
        "models.append((\"Random forest_1\", GridSearchCV(RandomForestClassifier(), param_grid,scoring = 'accuracy')))\n",
        "\n",
        "\n",
        "models.append((\"Bagging\", BaggingClassifier(random_state=1)))\n",
        "models.append((\"Random forest\", RandomForestClassifier(random_state=1)))\n",
        "\n",
        "## Complete the code to append remaining 3 models in the list models\n",
        "models.append((\"GBM\", GradientBoostingClassifier(random_state=1)))\n",
        "models.append((\"Adaboost\", AdaBoostClassifier(random_state=1)))\n",
        "models.append((\"Xgboost\", XGBClassifier(random_state=1, eval_metric=\"logloss\", max_depath = 8)))\n",
        "optimization_dict = {'max_depth': [3,5,7],\n",
        "                     'learning_rate': [0.1, 0.06, 0.05],\n",
        "                     'subsample': [0.5, 0.7],\n",
        "                     'colsample_bytree': [0.3, 0.5, 0.7, 0.9],\n",
        "\n",
        "                     'n_estimators': [50,100,1000]}\n",
        "\n",
        "# optimization_dict ={\n",
        "\n",
        "#     'learning_rate' : [0.1,0.08],\n",
        "#     'n_estimators' : [10],\n",
        "#     'max_depth': [5],\n",
        "#     'min_child_weight':[2],\n",
        "#     'gamma':[0.1],\n",
        "#     'subsample':[0.85],\n",
        "#     'colsample_bytree':[0.8],\n",
        "#     'objective': ['binary:logistic'],\n",
        "#     'nthread':[4],\n",
        "#     'scale_pos_weight':[1],\n",
        "#     'seed':[27],\n",
        "#     'param_grid' : ['param_test'],\n",
        "#     'scoring':['accuracy'],\n",
        "#     'n_jobs':[4],\n",
        "#     'iid':[False],\n",
        "#     'cv':[2],\n",
        "#     'verbose':[10]}\n",
        "\n",
        "# Changed XGBClassifier to XGBClassifier() to create an instance of the class\n",
        "#models.append((\"Xgboost_1\",GridSearchCV(XGBClassifier(), optimization_dict,cv=5, scoring='accuracy', verbose=1))) # append takes only one argument, changed to add a tuple similar to other models\n",
        "# ----------------------\n",
        "# models.append((\"Xgboost_2\",RandomizedSearchCV(XGBClassifier(), param_distributions=optimization_dict, n_iter=10, cv=5, scoring='accuracy')))\n",
        "\n",
        "\n",
        "# #models.append((\"Xgboost_1\", XGBClassifier(random_state=1, eval_metric=\"logloss\", n_estimators=200)))\n",
        "# models.append((\"dtree\", DecisionTreeClassifier(random_state=1)))\n",
        "\n",
        "\n",
        "# print(\"\\n\" \"Training Performance:\" \"\\n\")\n",
        "# for name, model in models:\n",
        "#     # Check column names and convert to strings\n",
        "#     X_train.columns = [str(col) for col in X_train.columns]\n",
        "#     X_val.columns = [str(col) for col in X_val.columns]\n",
        "\n",
        "#     model.fit(X_train, y_train)\n",
        "#     recall_scores = recall_score(y_train, model.predict(X_train))\n",
        "#     precision_scores = precision_score(y_train, model.predict(X_train))\n",
        "#     accuracy_scores = accuracy_score(y_train, model.predict(X_train))\n",
        "\n",
        "#     recall_scores_val = recall_score(y_val, model.predict(X_val))\n",
        "#     precision_scores_val = precision_score(y_val, model.predict(X_val))\n",
        "#     accuracy_scores_val = accuracy_score(y_val, model.predict(X_val))\n",
        "#     print(\"name\",name)\n",
        "#     print(\"Model      :{}  Training Score --  Validation Score \".format(model))\n",
        "#     print(\"Recall     : {} -- {}\".format(recall_scores,recall_scores_val))\n",
        "\n",
        "#     print(\"Precision  : {} -- {}\".format(precision_scores,precision_scores_val))\n",
        "\n",
        "#     print(\"Accuracy   : {} -- {}\".format(accuracy_scores,accuracy_scores_val))\n",
        "#     print(\"--------------------------------\")"
      ]
    },
    {
      "cell_type": "code",
      "source": [
        "# defining a function to compute different metrics to check performance of a classification model built using sklearn\n",
        "def model_performance_classification_sklearn(model, predictors, target):\n",
        "    \"\"\"\n",
        "    Function to compute different metrics to check classification model performance\n",
        "\n",
        "    model: classifier\n",
        "    predictors: independent variables\n",
        "    target: dependent variable\n",
        "    \"\"\"\n",
        "\n",
        "    # predicting using the independent variables\n",
        "    pred = model.predict(predictors)\n",
        "\n",
        "    acc = accuracy_score(target, pred)  # to compute Accuracy\n",
        "    recall = recall_score(target, pred)  # to compute Recall\n",
        "    precision = precision_score(target, pred)  # to compute Precision\n",
        "    f1 = f1_score(target, pred)  # to compute F1-score\n",
        "\n",
        "    # creating a dataframe of metrics\n",
        "    df_perf = pd.DataFrame(\n",
        "        {\n",
        "            \"Accuracy\": acc,\n",
        "            \"Recall\": recall,\n",
        "            \"Precision\": precision,\n",
        "            \"F1\": f1\n",
        "\n",
        "        },\n",
        "        index=[0],\n",
        "    )\n",
        "\n",
        "    return df_perf\n",
        "\n",
        "models = []  # Empty list to store all the models\n",
        "\n",
        "# Appending models into the list\n",
        "models.append((\"Bagging\", BaggingClassifier(random_state=1))) #0\n",
        "models.append((\"Random forest\", RandomForestClassifier(random_state=1))) #1\n",
        "\n",
        "## Complete the code to append remaining 3 models in the list models\n",
        "models.append((\"GBM\", GradientBoostingClassifier(random_state=1)))  #2\n",
        "models.append((\"Adaboost\", AdaBoostClassifier(random_state=1)))  #3\n",
        "models.append((\"Xgboost\", XGBClassifier(random_state=1, eval_metric=\"logloss\"))) #4\n",
        "\n",
        "models.append((\"Xgboost_1_1\", XGBClassifier(random_state=1, eval_metric=\"logloss\",n_estimators=2000, eta=0.05, subsample=0.5, colsample_bytree=0.5)))\n",
        "#5\n",
        "\n",
        "optimization_dict = {'max_depth': [3,5,6],\n",
        "                     'learning_rate': [0.1, 0.04, 0.05], #005\n",
        "                     'subsample': [0.5, 0.7, 1],\n",
        "\n",
        "                     'n_estimators': [50,200,1000]}  #1000\n",
        "\n",
        "# Changed XGBClassifier to XGBClassifier() to create an instance of the class\n",
        "models.append((\"Xgboost_1\",GridSearchCV(XGBClassifier(), optimization_dict,cv=6, scoring='accuracy', verbose=1))) # append takes only one argument, changed to add a tuple similar to other models\n",
        "#6\n",
        "\n",
        "RandomizedSearchCV(XGBClassifier(), param_distributions=optimization_dict, n_iter=10, cv=5, scoring='accuracy')\n",
        "\n",
        "\n",
        "#models.append((\"Xgboost_1\", XGBClassifier(random_state=1, eval_metric=\"logloss\", n_estimators=200)))\n",
        "#models.append((\"dtree\", DecisionTreeClassifier(random_state=1)))\n",
        "\n",
        "\n",
        "print(\"\\n\" \"Training Performance:\" \"\\n\")\n",
        "for name, model in models:\n",
        "    # Check column names and convert to strings\n",
        "    X_train.columns = [str(col) for col in X_train.columns]\n",
        "    X_val.columns = [str(col) for col in X_val.columns]\n",
        "\n",
        "    model.fit(X_train, y_train)\n",
        "    recall_scores = recall_score(y_train, model.predict(X_train))\n",
        "    precision_scores = precision_score(y_train, model.predict(X_train))\n",
        "    accuracy_scores = accuracy_score(y_train, model.predict(X_train))\n",
        "\n",
        "    recall_scores_val = recall_score(y_val, model.predict(X_val))\n",
        "    precision_scores_val = precision_score(y_val, model.predict(X_val))\n",
        "    accuracy_scores_val = accuracy_score(y_val, model.predict(X_val))\n",
        "\n",
        "    print(\"Model      :{}  Training Score --  Validation Score \".format(model))\n",
        "    print(\"Recall     : {} -- {}\".format(recall_scores,recall_scores_val))\n",
        "\n",
        "    print(\"Precision  : {} -- {}\".format(precision_scores,precision_scores_val))\n",
        "\n",
        "    print(\"Accuracy   : {} -- {}\".format(accuracy_scores,accuracy_scores_val))\n",
        "    print(\"--------------------------------\")"
      ],
      "metadata": {
        "colab": {
          "base_uri": "https://localhost:8080/"
        },
        "id": "E0KzZ_gfC6TL",
        "outputId": "d11f93e8-d953-4914-de6f-b7f001f2661d"
      },
      "execution_count": null,
      "outputs": [
        {
          "output_type": "stream",
          "name": "stdout",
          "text": [
            "\n",
            "Training Performance:\n",
            "\n",
            "Model      :BaggingClassifier(random_state=1)  Training Score --  Validation Score \n",
            "Recall     : 0.9809410024463788 -- 0.7864674868189807\n",
            "Precision  : 0.9924024404282261 -- 0.7899382171226832\n",
            "Accuracy   : 0.9937348233810488 -- 0.896753420982023\n",
            "--------------------------------\n",
            "Model      :RandomForestClassifier(random_state=1)  Training Score --  Validation Score \n",
            "Recall     : 0.9999431074699892 -- 0.7293497363796133\n",
            "Precision  : 1.0 -- 0.8143242580328673\n",
            "Accuracy   : 0.999986584204242 -- 0.8932653608800644\n",
            "--------------------------------\n",
            "Model      :GradientBoostingClassifier(random_state=1)  Training Score --  Validation Score \n",
            "Recall     : 0.7184388689765033 -- 0.7174868189806678\n",
            "Precision  : 0.8055112585316068 -- 0.7987282954267547\n",
            "Accuracy   : 0.8927004655281128 -- 0.8868258653072176\n",
            "--------------------------------\n",
            "Model      :AdaBoostClassifier(random_state=1)  Training Score --  Validation Score \n",
            "Recall     : 0.5355293849917506 -- 0.5322934973637962\n",
            "Precision  : 0.8012427647259108 -- 0.8017868960953011\n",
            "Accuracy   : 0.8591475603375415 -- 0.8536088006439495\n",
            "--------------------------------\n",
            "Model      :XGBClassifier(base_score=None, booster=None, callbacks=None,\n",
            "              colsample_bylevel=None, colsample_bynode=None,\n",
            "              colsample_bytree=None, device=None, early_stopping_rounds=None,\n",
            "              enable_categorical=False, eval_metric='logloss',\n",
            "              feature_types=None, gamma=None, grow_policy=None,\n",
            "              importance_type=None, interaction_constraints=None,\n",
            "              learning_rate=None, max_bin=None, max_cat_threshold=None,\n",
            "              max_cat_to_onehot=None, max_delta_step=None, max_depth=None,\n",
            "              max_leaves=None, min_child_weight=None, missing=nan,\n",
            "              monotone_constraints=None, multi_strategy=None, n_estimators=None,\n",
            "              n_jobs=None, num_parallel_tree=None, random_state=1, ...)  Training Score --  Validation Score \n",
            "Recall     : 0.890652557319224 -- 0.8378734622144113\n",
            "Precision  : 0.8488775620865416 -- 0.7969076473046385\n",
            "Accuracy   : 0.9368250177759294 -- 0.9082371880869332\n",
            "--------------------------------\n",
            "Model      :XGBClassifier(base_score=None, booster=None, callbacks=None,\n",
            "              colsample_bylevel=None, colsample_bynode=None,\n",
            "              colsample_bytree=0.5, device=None, early_stopping_rounds=None,\n",
            "              enable_categorical=False, eta=0.05, eval_metric='logloss',\n",
            "              feature_types=None, gamma=None, grow_policy=None,\n",
            "              importance_type=None, interaction_constraints=None,\n",
            "              learning_rate=None, max_bin=None, max_cat_threshold=None,\n",
            "              max_cat_to_onehot=None, max_delta_step=None, max_depth=None,\n",
            "              max_leaves=None, min_child_weight=None, missing=nan,\n",
            "              monotone_constraints=None, multi_strategy=None, n_estimators=2000,\n",
            "              n_jobs=None, num_parallel_tree=None, ...)  Training Score --  Validation Score \n",
            "Recall     : 0.9505034988905957 -- 0.8264499121265377\n",
            "Precision  : 0.9422480401556595 -- 0.8026456155323235\n",
            "Accuracy   : 0.9745904828344893 -- 0.907968875771398\n",
            "--------------------------------\n",
            "Fitting 6 folds for each of 81 candidates, totalling 486 fits\n",
            "Model      :GridSearchCV(cv=6,\n",
            "             estimator=XGBClassifier(base_score=None, booster=None,\n",
            "                                     callbacks=None, colsample_bylevel=None,\n",
            "                                     colsample_bynode=None,\n",
            "                                     colsample_bytree=None, device=None,\n",
            "                                     early_stopping_rounds=None,\n",
            "                                     enable_categorical=False, eval_metric=None,\n",
            "                                     feature_types=None, gamma=None,\n",
            "                                     grow_policy=None, importance_type=None,\n",
            "                                     interaction_constraints=None,\n",
            "                                     learning_rate=None,...\n",
            "                                     max_delta_step=None, max_depth=None,\n",
            "                                     max_leaves=None, min_child_weight=None,\n",
            "                                     missing=nan, monotone_constraints=None,\n",
            "                                     multi_strategy=None, n_estimators=None,\n",
            "                                     n_jobs=None, num_parallel_tree=None,\n",
            "                                     random_state=None, ...),\n",
            "             param_grid={'learning_rate': [0.1, 0.04, 0.05],\n",
            "                         'max_depth': [3, 5, 8],\n",
            "                         'n_estimators': [50, 200, 2000],\n",
            "                         'subsample': [0.5, 0.7, 1]},\n",
            "             scoring='accuracy', verbose=1)  Training Score --  Validation Score \n",
            "Recall     : 0.8898560618990726 -- 0.8569859402460457\n",
            "Precision  : 0.8252519390070173 -- 0.7924030062969734\n",
            "Accuracy   : 0.9295939038624076 -- 0.9102226992218942\n",
            "--------------------------------\n"
          ]
        }
      ]
    },
    {
      "cell_type": "code",
      "source": [
        "Recall     : 0.8898560618990726 -- 0.8569859402460457\n",
        "Precision  : 0.8252519390070173 -- 0.7924030062969734\n",
        "Accuracy   : 0.9295939038624076 -- 0.9102226992218942"
      ],
      "metadata": {
        "id": "Fd70Yv9MT87V"
      },
      "execution_count": null,
      "outputs": []
    },
    {
      "cell_type": "markdown",
      "metadata": {
        "id": "LLeW_jaqEWnh"
      },
      "source": [
        "\n",
        "Model      :GridSearchCV(cv=5,\n",
        "             estimator=XGBClassifier\n",
        "\n",
        "Recall     : 0.8814928599874836 -- 0.8468804920913884\n",
        "\n",
        "Precision  : 0.8348060344827586 -- 0.7953373220548793\n",
        "\n",
        "Accuracy   : 0.9309220676424422 -- 0.909440998121814"
      ]
    },
    {
      "cell_type": "code",
      "execution_count": null,
      "metadata": {
        "id": "lYxbxaC2UGVw"
      },
      "outputs": [],
      "source": [
        "Recall     : 0.8875234681686295 -- 0.8503954305799648\n",
        "Precision  : 0.8394769412904267 -- 0.797979797979798\n",
        "Accuracy   : 0.9334576530406901 -- 0.910866648779179"
      ]
    },
    {
      "cell_type": "code",
      "execution_count": null,
      "metadata": {
        "id": "OH6IX8MmztL8"
      },
      "outputs": [],
      "source": []
    },
    {
      "cell_type": "code",
      "execution_count": null,
      "metadata": {
        "id": "g7800st_zIms"
      },
      "outputs": [],
      "source": [
        "## name Xgboost_1\n",
        "#Recall     : 0.9096546623428344 -- 0.8499560632688928\n",
        "#Precision  : 0.8607342807924203 -- 0.7955994242237302\n",
        "#Accuracy   : 0.9439890527106616 -- 0.9100080493694661"
      ]
    },
    {
      "cell_type": "markdown",
      "metadata": {
        "id": "yG6EsO7VzMv-"
      },
      "source": []
    },
    {
      "cell_type": "code",
      "execution_count": null,
      "metadata": {
        "id": "vdGz4zvgQ7O_",
        "colab": {
          "base_uri": "https://localhost:8080/",
          "height": 116
        },
        "outputId": "b84bf248-54af-4ba1-c078-a649c473efe2"
      },
      "outputs": [
        {
          "output_type": "execute_result",
          "data": {
            "text/plain": [
              "GridSearchCV(cv=6,\n",
              "             estimator=XGBClassifier(base_score=None, booster=None,\n",
              "                                     callbacks=None, colsample_bylevel=None,\n",
              "                                     colsample_bynode=None,\n",
              "                                     colsample_bytree=None, device=None,\n",
              "                                     early_stopping_rounds=None,\n",
              "                                     enable_categorical=False, eval_metric=None,\n",
              "                                     feature_types=None, gamma=None,\n",
              "                                     grow_policy=None, importance_type=None,\n",
              "                                     interaction_constraints=None,\n",
              "                                     learning_rate=None,...\n",
              "                                     max_delta_step=None, max_depth=None,\n",
              "                                     max_leaves=None, min_child_weight=None,\n",
              "                                     missing=nan, monotone_constraints=None,\n",
              "                                     multi_strategy=None, n_estimators=None,\n",
              "                                     n_jobs=None, num_parallel_tree=None,\n",
              "                                     random_state=None, ...),\n",
              "             param_grid={'learning_rate': [0.1, 0.07, 0.06],\n",
              "                         'max_depth': [3, 5, 8], 'n_estimators': [50, 200, 500],\n",
              "                         'subsample': [0.5, 0.7, 1]},\n",
              "             scoring='accuracy', verbose=1)"
            ],
            "text/html": [
              "<style>#sk-container-id-7 {color: black;}#sk-container-id-7 pre{padding: 0;}#sk-container-id-7 div.sk-toggleable {background-color: white;}#sk-container-id-7 label.sk-toggleable__label {cursor: pointer;display: block;width: 100%;margin-bottom: 0;padding: 0.3em;box-sizing: border-box;text-align: center;}#sk-container-id-7 label.sk-toggleable__label-arrow:before {content: \"▸\";float: left;margin-right: 0.25em;color: #696969;}#sk-container-id-7 label.sk-toggleable__label-arrow:hover:before {color: black;}#sk-container-id-7 div.sk-estimator:hover label.sk-toggleable__label-arrow:before {color: black;}#sk-container-id-7 div.sk-toggleable__content {max-height: 0;max-width: 0;overflow: hidden;text-align: left;background-color: #f0f8ff;}#sk-container-id-7 div.sk-toggleable__content pre {margin: 0.2em;color: black;border-radius: 0.25em;background-color: #f0f8ff;}#sk-container-id-7 input.sk-toggleable__control:checked~div.sk-toggleable__content {max-height: 200px;max-width: 100%;overflow: auto;}#sk-container-id-7 input.sk-toggleable__control:checked~label.sk-toggleable__label-arrow:before {content: \"▾\";}#sk-container-id-7 div.sk-estimator input.sk-toggleable__control:checked~label.sk-toggleable__label {background-color: #d4ebff;}#sk-container-id-7 div.sk-label input.sk-toggleable__control:checked~label.sk-toggleable__label {background-color: #d4ebff;}#sk-container-id-7 input.sk-hidden--visually {border: 0;clip: rect(1px 1px 1px 1px);clip: rect(1px, 1px, 1px, 1px);height: 1px;margin: -1px;overflow: hidden;padding: 0;position: absolute;width: 1px;}#sk-container-id-7 div.sk-estimator {font-family: monospace;background-color: #f0f8ff;border: 1px dotted black;border-radius: 0.25em;box-sizing: border-box;margin-bottom: 0.5em;}#sk-container-id-7 div.sk-estimator:hover {background-color: #d4ebff;}#sk-container-id-7 div.sk-parallel-item::after {content: \"\";width: 100%;border-bottom: 1px solid gray;flex-grow: 1;}#sk-container-id-7 div.sk-label:hover label.sk-toggleable__label {background-color: #d4ebff;}#sk-container-id-7 div.sk-serial::before {content: \"\";position: absolute;border-left: 1px solid gray;box-sizing: border-box;top: 0;bottom: 0;left: 50%;z-index: 0;}#sk-container-id-7 div.sk-serial {display: flex;flex-direction: column;align-items: center;background-color: white;padding-right: 0.2em;padding-left: 0.2em;position: relative;}#sk-container-id-7 div.sk-item {position: relative;z-index: 1;}#sk-container-id-7 div.sk-parallel {display: flex;align-items: stretch;justify-content: center;background-color: white;position: relative;}#sk-container-id-7 div.sk-item::before, #sk-container-id-7 div.sk-parallel-item::before {content: \"\";position: absolute;border-left: 1px solid gray;box-sizing: border-box;top: 0;bottom: 0;left: 50%;z-index: -1;}#sk-container-id-7 div.sk-parallel-item {display: flex;flex-direction: column;z-index: 1;position: relative;background-color: white;}#sk-container-id-7 div.sk-parallel-item:first-child::after {align-self: flex-end;width: 50%;}#sk-container-id-7 div.sk-parallel-item:last-child::after {align-self: flex-start;width: 50%;}#sk-container-id-7 div.sk-parallel-item:only-child::after {width: 0;}#sk-container-id-7 div.sk-dashed-wrapped {border: 1px dashed gray;margin: 0 0.4em 0.5em 0.4em;box-sizing: border-box;padding-bottom: 0.4em;background-color: white;}#sk-container-id-7 div.sk-label label {font-family: monospace;font-weight: bold;display: inline-block;line-height: 1.2em;}#sk-container-id-7 div.sk-label-container {text-align: center;}#sk-container-id-7 div.sk-container {/* jupyter's `normalize.less` sets `[hidden] { display: none; }` but bootstrap.min.css set `[hidden] { display: none !important; }` so we also need the `!important` here to be able to override the default hidden behavior on the sphinx rendered scikit-learn.org. See: https://github.com/scikit-learn/scikit-learn/issues/21755 */display: inline-block !important;position: relative;}#sk-container-id-7 div.sk-text-repr-fallback {display: none;}</style><div id=\"sk-container-id-7\" class=\"sk-top-container\"><div class=\"sk-text-repr-fallback\"><pre>GridSearchCV(cv=6,\n",
              "             estimator=XGBClassifier(base_score=None, booster=None,\n",
              "                                     callbacks=None, colsample_bylevel=None,\n",
              "                                     colsample_bynode=None,\n",
              "                                     colsample_bytree=None, device=None,\n",
              "                                     early_stopping_rounds=None,\n",
              "                                     enable_categorical=False, eval_metric=None,\n",
              "                                     feature_types=None, gamma=None,\n",
              "                                     grow_policy=None, importance_type=None,\n",
              "                                     interaction_constraints=None,\n",
              "                                     learning_rate=None,...\n",
              "                                     max_delta_step=None, max_depth=None,\n",
              "                                     max_leaves=None, min_child_weight=None,\n",
              "                                     missing=nan, monotone_constraints=None,\n",
              "                                     multi_strategy=None, n_estimators=None,\n",
              "                                     n_jobs=None, num_parallel_tree=None,\n",
              "                                     random_state=None, ...),\n",
              "             param_grid={&#x27;learning_rate&#x27;: [0.1, 0.07, 0.06],\n",
              "                         &#x27;max_depth&#x27;: [3, 5, 8], &#x27;n_estimators&#x27;: [50, 200, 500],\n",
              "                         &#x27;subsample&#x27;: [0.5, 0.7, 1]},\n",
              "             scoring=&#x27;accuracy&#x27;, verbose=1)</pre><b>In a Jupyter environment, please rerun this cell to show the HTML representation or trust the notebook. <br />On GitHub, the HTML representation is unable to render, please try loading this page with nbviewer.org.</b></div><div class=\"sk-container\" hidden><div class=\"sk-item sk-dashed-wrapped\"><div class=\"sk-label-container\"><div class=\"sk-label sk-toggleable\"><input class=\"sk-toggleable__control sk-hidden--visually\" id=\"sk-estimator-id-11\" type=\"checkbox\" ><label for=\"sk-estimator-id-11\" class=\"sk-toggleable__label sk-toggleable__label-arrow\">GridSearchCV</label><div class=\"sk-toggleable__content\"><pre>GridSearchCV(cv=6,\n",
              "             estimator=XGBClassifier(base_score=None, booster=None,\n",
              "                                     callbacks=None, colsample_bylevel=None,\n",
              "                                     colsample_bynode=None,\n",
              "                                     colsample_bytree=None, device=None,\n",
              "                                     early_stopping_rounds=None,\n",
              "                                     enable_categorical=False, eval_metric=None,\n",
              "                                     feature_types=None, gamma=None,\n",
              "                                     grow_policy=None, importance_type=None,\n",
              "                                     interaction_constraints=None,\n",
              "                                     learning_rate=None,...\n",
              "                                     max_delta_step=None, max_depth=None,\n",
              "                                     max_leaves=None, min_child_weight=None,\n",
              "                                     missing=nan, monotone_constraints=None,\n",
              "                                     multi_strategy=None, n_estimators=None,\n",
              "                                     n_jobs=None, num_parallel_tree=None,\n",
              "                                     random_state=None, ...),\n",
              "             param_grid={&#x27;learning_rate&#x27;: [0.1, 0.07, 0.06],\n",
              "                         &#x27;max_depth&#x27;: [3, 5, 8], &#x27;n_estimators&#x27;: [50, 200, 500],\n",
              "                         &#x27;subsample&#x27;: [0.5, 0.7, 1]},\n",
              "             scoring=&#x27;accuracy&#x27;, verbose=1)</pre></div></div></div><div class=\"sk-parallel\"><div class=\"sk-parallel-item\"><div class=\"sk-item\"><div class=\"sk-label-container\"><div class=\"sk-label sk-toggleable\"><input class=\"sk-toggleable__control sk-hidden--visually\" id=\"sk-estimator-id-12\" type=\"checkbox\" ><label for=\"sk-estimator-id-12\" class=\"sk-toggleable__label sk-toggleable__label-arrow\">estimator: XGBClassifier</label><div class=\"sk-toggleable__content\"><pre>XGBClassifier(base_score=None, booster=None, callbacks=None,\n",
              "              colsample_bylevel=None, colsample_bynode=None,\n",
              "              colsample_bytree=None, device=None, early_stopping_rounds=None,\n",
              "              enable_categorical=False, eval_metric=None, feature_types=None,\n",
              "              gamma=None, grow_policy=None, importance_type=None,\n",
              "              interaction_constraints=None, learning_rate=None, max_bin=None,\n",
              "              max_cat_threshold=None, max_cat_to_onehot=None,\n",
              "              max_delta_step=None, max_depth=None, max_leaves=None,\n",
              "              min_child_weight=None, missing=nan, monotone_constraints=None,\n",
              "              multi_strategy=None, n_estimators=None, n_jobs=None,\n",
              "              num_parallel_tree=None, random_state=None, ...)</pre></div></div></div><div class=\"sk-serial\"><div class=\"sk-item\"><div class=\"sk-estimator sk-toggleable\"><input class=\"sk-toggleable__control sk-hidden--visually\" id=\"sk-estimator-id-13\" type=\"checkbox\" ><label for=\"sk-estimator-id-13\" class=\"sk-toggleable__label sk-toggleable__label-arrow\">XGBClassifier</label><div class=\"sk-toggleable__content\"><pre>XGBClassifier(base_score=None, booster=None, callbacks=None,\n",
              "              colsample_bylevel=None, colsample_bynode=None,\n",
              "              colsample_bytree=None, device=None, early_stopping_rounds=None,\n",
              "              enable_categorical=False, eval_metric=None, feature_types=None,\n",
              "              gamma=None, grow_policy=None, importance_type=None,\n",
              "              interaction_constraints=None, learning_rate=None, max_bin=None,\n",
              "              max_cat_threshold=None, max_cat_to_onehot=None,\n",
              "              max_delta_step=None, max_depth=None, max_leaves=None,\n",
              "              min_child_weight=None, missing=nan, monotone_constraints=None,\n",
              "              multi_strategy=None, n_estimators=None, n_jobs=None,\n",
              "              num_parallel_tree=None, random_state=None, ...)</pre></div></div></div></div></div></div></div></div></div></div>"
            ]
          },
          "metadata": {},
          "execution_count": 202
        }
      ],
      "source": [
        "models[6][1]"
      ]
    },
    {
      "cell_type": "code",
      "execution_count": null,
      "metadata": {
        "id": "yMfJRY1nJdNc",
        "colab": {
          "base_uri": "https://localhost:8080/",
          "height": 248
        },
        "outputId": "ba03e85e-84f3-4270-9044-9764629f911d"
      },
      "outputs": [
        {
          "output_type": "execute_result",
          "data": {
            "text/plain": [
              "XGBClassifier(base_score=None, booster=None, callbacks=None,\n",
              "              colsample_bylevel=None, colsample_bynode=None,\n",
              "              colsample_bytree=None, device=None, early_stopping_rounds=None,\n",
              "              enable_categorical=False, eval_metric=None, feature_types=None,\n",
              "              gamma=None, grow_policy=None, importance_type=None,\n",
              "              interaction_constraints=None, learning_rate=0.1, max_bin=None,\n",
              "              max_cat_threshold=None, max_cat_to_onehot=None,\n",
              "              max_delta_step=None, max_depth=8, max_leaves=None,\n",
              "              min_child_weight=None, missing=nan, monotone_constraints=None,\n",
              "              multi_strategy=None, n_estimators=50, n_jobs=None,\n",
              "              num_parallel_tree=None, random_state=None, ...)"
            ],
            "text/html": [
              "<style>#sk-container-id-8 {color: black;}#sk-container-id-8 pre{padding: 0;}#sk-container-id-8 div.sk-toggleable {background-color: white;}#sk-container-id-8 label.sk-toggleable__label {cursor: pointer;display: block;width: 100%;margin-bottom: 0;padding: 0.3em;box-sizing: border-box;text-align: center;}#sk-container-id-8 label.sk-toggleable__label-arrow:before {content: \"▸\";float: left;margin-right: 0.25em;color: #696969;}#sk-container-id-8 label.sk-toggleable__label-arrow:hover:before {color: black;}#sk-container-id-8 div.sk-estimator:hover label.sk-toggleable__label-arrow:before {color: black;}#sk-container-id-8 div.sk-toggleable__content {max-height: 0;max-width: 0;overflow: hidden;text-align: left;background-color: #f0f8ff;}#sk-container-id-8 div.sk-toggleable__content pre {margin: 0.2em;color: black;border-radius: 0.25em;background-color: #f0f8ff;}#sk-container-id-8 input.sk-toggleable__control:checked~div.sk-toggleable__content {max-height: 200px;max-width: 100%;overflow: auto;}#sk-container-id-8 input.sk-toggleable__control:checked~label.sk-toggleable__label-arrow:before {content: \"▾\";}#sk-container-id-8 div.sk-estimator input.sk-toggleable__control:checked~label.sk-toggleable__label {background-color: #d4ebff;}#sk-container-id-8 div.sk-label input.sk-toggleable__control:checked~label.sk-toggleable__label {background-color: #d4ebff;}#sk-container-id-8 input.sk-hidden--visually {border: 0;clip: rect(1px 1px 1px 1px);clip: rect(1px, 1px, 1px, 1px);height: 1px;margin: -1px;overflow: hidden;padding: 0;position: absolute;width: 1px;}#sk-container-id-8 div.sk-estimator {font-family: monospace;background-color: #f0f8ff;border: 1px dotted black;border-radius: 0.25em;box-sizing: border-box;margin-bottom: 0.5em;}#sk-container-id-8 div.sk-estimator:hover {background-color: #d4ebff;}#sk-container-id-8 div.sk-parallel-item::after {content: \"\";width: 100%;border-bottom: 1px solid gray;flex-grow: 1;}#sk-container-id-8 div.sk-label:hover label.sk-toggleable__label {background-color: #d4ebff;}#sk-container-id-8 div.sk-serial::before {content: \"\";position: absolute;border-left: 1px solid gray;box-sizing: border-box;top: 0;bottom: 0;left: 50%;z-index: 0;}#sk-container-id-8 div.sk-serial {display: flex;flex-direction: column;align-items: center;background-color: white;padding-right: 0.2em;padding-left: 0.2em;position: relative;}#sk-container-id-8 div.sk-item {position: relative;z-index: 1;}#sk-container-id-8 div.sk-parallel {display: flex;align-items: stretch;justify-content: center;background-color: white;position: relative;}#sk-container-id-8 div.sk-item::before, #sk-container-id-8 div.sk-parallel-item::before {content: \"\";position: absolute;border-left: 1px solid gray;box-sizing: border-box;top: 0;bottom: 0;left: 50%;z-index: -1;}#sk-container-id-8 div.sk-parallel-item {display: flex;flex-direction: column;z-index: 1;position: relative;background-color: white;}#sk-container-id-8 div.sk-parallel-item:first-child::after {align-self: flex-end;width: 50%;}#sk-container-id-8 div.sk-parallel-item:last-child::after {align-self: flex-start;width: 50%;}#sk-container-id-8 div.sk-parallel-item:only-child::after {width: 0;}#sk-container-id-8 div.sk-dashed-wrapped {border: 1px dashed gray;margin: 0 0.4em 0.5em 0.4em;box-sizing: border-box;padding-bottom: 0.4em;background-color: white;}#sk-container-id-8 div.sk-label label {font-family: monospace;font-weight: bold;display: inline-block;line-height: 1.2em;}#sk-container-id-8 div.sk-label-container {text-align: center;}#sk-container-id-8 div.sk-container {/* jupyter's `normalize.less` sets `[hidden] { display: none; }` but bootstrap.min.css set `[hidden] { display: none !important; }` so we also need the `!important` here to be able to override the default hidden behavior on the sphinx rendered scikit-learn.org. See: https://github.com/scikit-learn/scikit-learn/issues/21755 */display: inline-block !important;position: relative;}#sk-container-id-8 div.sk-text-repr-fallback {display: none;}</style><div id=\"sk-container-id-8\" class=\"sk-top-container\"><div class=\"sk-text-repr-fallback\"><pre>XGBClassifier(base_score=None, booster=None, callbacks=None,\n",
              "              colsample_bylevel=None, colsample_bynode=None,\n",
              "              colsample_bytree=None, device=None, early_stopping_rounds=None,\n",
              "              enable_categorical=False, eval_metric=None, feature_types=None,\n",
              "              gamma=None, grow_policy=None, importance_type=None,\n",
              "              interaction_constraints=None, learning_rate=0.1, max_bin=None,\n",
              "              max_cat_threshold=None, max_cat_to_onehot=None,\n",
              "              max_delta_step=None, max_depth=8, max_leaves=None,\n",
              "              min_child_weight=None, missing=nan, monotone_constraints=None,\n",
              "              multi_strategy=None, n_estimators=50, n_jobs=None,\n",
              "              num_parallel_tree=None, random_state=None, ...)</pre><b>In a Jupyter environment, please rerun this cell to show the HTML representation or trust the notebook. <br />On GitHub, the HTML representation is unable to render, please try loading this page with nbviewer.org.</b></div><div class=\"sk-container\" hidden><div class=\"sk-item\"><div class=\"sk-estimator sk-toggleable\"><input class=\"sk-toggleable__control sk-hidden--visually\" id=\"sk-estimator-id-14\" type=\"checkbox\" checked><label for=\"sk-estimator-id-14\" class=\"sk-toggleable__label sk-toggleable__label-arrow\">XGBClassifier</label><div class=\"sk-toggleable__content\"><pre>XGBClassifier(base_score=None, booster=None, callbacks=None,\n",
              "              colsample_bylevel=None, colsample_bynode=None,\n",
              "              colsample_bytree=None, device=None, early_stopping_rounds=None,\n",
              "              enable_categorical=False, eval_metric=None, feature_types=None,\n",
              "              gamma=None, grow_policy=None, importance_type=None,\n",
              "              interaction_constraints=None, learning_rate=0.1, max_bin=None,\n",
              "              max_cat_threshold=None, max_cat_to_onehot=None,\n",
              "              max_delta_step=None, max_depth=8, max_leaves=None,\n",
              "              min_child_weight=None, missing=nan, monotone_constraints=None,\n",
              "              multi_strategy=None, n_estimators=50, n_jobs=None,\n",
              "              num_parallel_tree=None, random_state=None, ...)</pre></div></div></div></div></div>"
            ]
          },
          "metadata": {},
          "execution_count": 203
        }
      ],
      "source": [
        "models[6][1].best_estimator_\n",
        "#"
      ]
    },
    {
      "cell_type": "markdown",
      "metadata": {
        "id": "p_UrnNt8RvzN"
      },
      "source": []
    },
    {
      "cell_type": "code",
      "execution_count": null,
      "metadata": {
        "id": "zM6CeBVPTPVU"
      },
      "outputs": [],
      "source": []
    },
    {
      "cell_type": "code",
      "execution_count": null,
      "metadata": {
        "id": "JmW2BjsXUani",
        "colab": {
          "base_uri": "https://localhost:8080/"
        },
        "outputId": "33b7fc0b-57de-433f-ee50-88d1a7fb3d5f"
      },
      "outputs": [
        {
          "output_type": "execute_result",
          "data": {
            "text/plain": [
              "Index(['ID', 'loan_amnt', 'loan_term', 'interest_rate', 'loan_grade',\n",
              "       'loan_subgrade', 'job_experience', 'home_ownership', 'annual_income',\n",
              "       'income_verification_status', 'loan_purpose', 'state_code',\n",
              "       'debt_to_income', 'delinq_2yrs', 'public_records', 'revolving_balance',\n",
              "       'total_acc', 'interest_receive', 'application_type', 'last_week_pay',\n",
              "       'total_current_balance', 'total_revolving_limit'],\n",
              "      dtype='object')"
            ]
          },
          "metadata": {},
          "execution_count": 204
        }
      ],
      "source": [
        "df_test.columns"
      ]
    },
    {
      "cell_type": "code",
      "source": [
        "df_test['state_code'].unique()"
      ],
      "metadata": {
        "colab": {
          "base_uri": "https://localhost:8080/"
        },
        "id": "MU2NY67GZkHg",
        "outputId": "c829c8a1-fcf6-4cde-d325-efeb768bfdb8"
      },
      "execution_count": null,
      "outputs": [
        {
          "output_type": "execute_result",
          "data": {
            "text/plain": [
              "array(['CA', 'VA', 'TX', 'NJ', 'OK', 'MA', 'KS', 'AL', 'NY', 'WA', 'NV',\n",
              "       'OH', 'IL', 'UT', 'CO', 'FL', 'MS', 'MI', 'MD', 'WI', 'OR', 'HI',\n",
              "       'MT', 'IN', 'KY', 'GA', 'PA', 'SC', 'LA', 'AZ', 'CT', 'NC', 'MO',\n",
              "       'MN', 'AR', 'NM', 'NH', 'TN', 'NE', 'AK', 'RI', 'WV', 'VT', 'DE',\n",
              "       'SD', 'ND', 'ME', 'WY', 'DC', 'ID'], dtype=object)"
            ]
          },
          "metadata": {},
          "execution_count": 205
        }
      ]
    },
    {
      "cell_type": "markdown",
      "metadata": {
        "id": "CQ9NK0T7PCY-"
      },
      "source": [
        "### Score Test data"
      ]
    },
    {
      "cell_type": "code",
      "execution_count": null,
      "metadata": {
        "id": "VfFBbchJUNNW"
      },
      "outputs": [],
      "source": []
    },
    {
      "cell_type": "code",
      "execution_count": null,
      "metadata": {
        "id": "YbM9_1tERtew"
      },
      "outputs": [],
      "source": [
        "X_test = df_test.drop(columns =['home_ownership','state_code','total_revolving_limit','loan_subgrade'], axis=1)\n",
        "# X = df_loan.drop(columns =['default','home_ownership','state_code','total_revolving_limit','loan_subgrade'], axis=1)"
      ]
    },
    {
      "cell_type": "code",
      "execution_count": null,
      "metadata": {
        "id": "SmwyJg3XVBUE"
      },
      "outputs": [],
      "source": [
        "# load data from drive\n",
        "#df = pd.read_csv('/content/drive/MyDrive/AI_ML_Texas/Hackathon/data/Train_set_(1)_(2).csv')"
      ]
    },
    {
      "cell_type": "code",
      "execution_count": null,
      "metadata": {
        "id": "rUlmruE6SCot"
      },
      "outputs": [],
      "source": [
        "# # defining a function to compute different metrics to check performance of a classification model built using sklearn\n",
        "# model = GradientBoostingClassifier(random_state=1)\n",
        "\n",
        "# model.fit(X_test, y_test)\n",
        "\n",
        "# recall_scores_val = recall_score(y_test, model.predict(X_test))\n",
        "# precision_scores_val = precision_score(y_test, model.predict(X_test))\n",
        "# accuracy_scores_val = accuracy_score(y_test, model.predict(X_test))\n",
        "\n",
        "# print(\"Model      :{}  Training Score --  Validation Score \".format(model))\n",
        "# print(\"Recall     : {} -- {}\".format(recall_scores,recall_scores_val))\n",
        "\n",
        "# print(\"Precision  : {} -- {}\".format(precision_scores,precision_scores_val))\n",
        "\n",
        "# print(\"Accuracy   : {} -- {}\".format(accuracy_scores,accuracy_scores_val))\n",
        "# print(\"--------------------------------\")"
      ]
    },
    {
      "cell_type": "code",
      "execution_count": null,
      "metadata": {
        "id": "PwIc2qQNWpFi"
      },
      "outputs": [],
      "source": []
    },
    {
      "cell_type": "code",
      "execution_count": null,
      "metadata": {
        "id": "ZB00nH8VO4c1"
      },
      "outputs": [],
      "source": [
        "#X_test = df_test.drop(columns =['home_ownership','state_code','total_revolving_limit'], axis=1)\n"
      ]
    },
    {
      "cell_type": "code",
      "execution_count": null,
      "metadata": {
        "id": "3qMw7MEAWsqT",
        "colab": {
          "base_uri": "https://localhost:8080/"
        },
        "outputId": "4a2fbbf6-8f47-451a-f947-d6bbc3383424"
      },
      "outputs": [
        {
          "output_type": "execute_result",
          "data": {
            "text/plain": [
              "Index(['ID', 'loan_amnt', 'loan_term', 'interest_rate', 'loan_grade',\n",
              "       'job_experience', 'annual_income', 'income_verification_status',\n",
              "       'loan_purpose', 'debt_to_income', 'delinq_2yrs', 'public_records',\n",
              "       'revolving_balance', 'total_acc', 'interest_receive',\n",
              "       'application_type', 'last_week_pay', 'total_current_balance'],\n",
              "      dtype='object')"
            ]
          },
          "metadata": {},
          "execution_count": 210
        }
      ],
      "source": [
        "X_test.columns"
      ]
    },
    {
      "cell_type": "markdown",
      "metadata": {
        "id": "55JfsRWSRf1f"
      },
      "source": []
    },
    {
      "cell_type": "markdown",
      "metadata": {
        "id": "7idwGHXDVUCQ"
      },
      "source": [
        "#### Impute test data"
      ]
    },
    {
      "cell_type": "code",
      "execution_count": null,
      "metadata": {
        "id": "GgvCHv9uVO7l"
      },
      "outputs": [],
      "source": [
        "# Let's impute the missing values\n",
        "# imp_mode = SimpleImputer(missing_values=np.nan, strategy=\"most_frequent\")\n",
        "# cols_to_impute = [\"job_experience\"]\n",
        "X_test[cols_to_impute] = imp_mode.fit_transform(X_test[cols_to_impute])\n",
        "\n"
      ]
    },
    {
      "cell_type": "markdown",
      "metadata": {
        "id": "iRy6GAsQW8oZ"
      },
      "source": [
        "#Fit and Transform test data"
      ]
    },
    {
      "cell_type": "code",
      "execution_count": null,
      "metadata": {
        "id": "reTsCBLBWCDN"
      },
      "outputs": [],
      "source": [
        "X_test['annual_income'] = imp_mode.fit_transform(X_test[['annual_income']])\n",
        "\n",
        "X_test['total_current_balance'] = imp_mode.fit_transform(X_test[['total_current_balance']])\n",
        "\n",
        "#X_test['total_revolving_limit'] = imp_mode.fit_transform(X_test[['total_revolving_limit']])\n",
        "\n",
        "X_test['last_week_pay'] = imp_mode.fit_transform(X_test[['last_week_pay']])"
      ]
    },
    {
      "cell_type": "markdown",
      "metadata": {
        "id": "joa0lRpyXIgf"
      },
      "source": [
        "# Creating dummy variables for categorical variables\n",
        "X_teat = pd.get_dummies(data=X_test, drop_first=True)"
      ]
    },
    {
      "cell_type": "code",
      "execution_count": null,
      "metadata": {
        "id": "J8Cq73gZXCRE"
      },
      "outputs": [],
      "source": [
        "X_test = pd.get_dummies(data=X_test, drop_first=True)"
      ]
    },
    {
      "cell_type": "code",
      "execution_count": null,
      "metadata": {
        "id": "dqJseVYlXwEF"
      },
      "outputs": [],
      "source": [
        "for df in [X_test]:\n",
        "    for col in df.columns:\n",
        "        if df[col].dtype != 'object':  # Impute only numerical features\n",
        "            df[col] = df[col].fillna(df[col].median())"
      ]
    },
    {
      "cell_type": "code",
      "execution_count": null,
      "metadata": {
        "id": "enyUW72Kh-lp"
      },
      "outputs": [],
      "source": [
        "# Creating dummy variables for categorical variables\n",
        "X_test = pd.get_dummies(data=X_test, drop_first=True)"
      ]
    },
    {
      "cell_type": "code",
      "execution_count": null,
      "metadata": {
        "id": "TuqOZHX3YF0b"
      },
      "outputs": [],
      "source": [
        "X_test = X_test.rename(columns={'job_experience_<5 Years': 'job_experience_lt_5_years'})"
      ]
    },
    {
      "cell_type": "code",
      "execution_count": null,
      "metadata": {
        "id": "eShdH_FBYtN0",
        "colab": {
          "base_uri": "https://localhost:8080/"
        },
        "outputId": "fb1ad6f3-cbd0-4738-fce8-56bee98b6d8c"
      },
      "outputs": [
        {
          "output_type": "execute_result",
          "data": {
            "text/plain": [
              "Index(['ID', 'loan_amnt', 'interest_rate', 'annual_income', 'debt_to_income',\n",
              "       'delinq_2yrs', 'public_records', 'revolving_balance', 'total_acc',\n",
              "       'interest_receive', 'last_week_pay', 'total_current_balance',\n",
              "       'loan_term_5 years', 'loan_grade_B', 'loan_grade_C', 'loan_grade_D',\n",
              "       'loan_grade_E', 'loan_grade_F', 'loan_grade_G',\n",
              "       'job_experience_6-10 years', 'job_experience_lt_5_years',\n",
              "       'income_verification_status_Source Verified',\n",
              "       'income_verification_status_Verified',\n",
              "       'loan_purpose_debt_consolidation', 'loan_purpose_home_improvement',\n",
              "       'loan_purpose_other', 'application_type_JOINT'],\n",
              "      dtype='object')"
            ]
          },
          "metadata": {},
          "execution_count": 217
        }
      ],
      "source": [
        "X_test.columns"
      ]
    },
    {
      "cell_type": "code",
      "execution_count": null,
      "metadata": {
        "id": "8bGWtjR8yPBu",
        "colab": {
          "base_uri": "https://localhost:8080/"
        },
        "outputId": "43bea797-00d5-404b-cf5d-5629012df376"
      },
      "outputs": [
        {
          "output_type": "execute_result",
          "data": {
            "text/plain": [
              "Index(['ID', 'loan_amnt', 'interest_rate', 'annual_income', 'debt_to_income',\n",
              "       'delinq_2yrs', 'public_records', 'revolving_balance', 'total_acc',\n",
              "       'interest_receive', 'last_week_pay', 'total_current_balance',\n",
              "       'loan_term_5 years', 'loan_grade_B', 'loan_grade_C', 'loan_grade_D',\n",
              "       'loan_grade_E', 'loan_grade_F', 'loan_grade_G',\n",
              "       'job_experience_6-10 years', 'job_experience_lt_5_years',\n",
              "       'income_verification_status_Source Verified',\n",
              "       'income_verification_status_Verified',\n",
              "       'loan_purpose_debt_consolidation', 'loan_purpose_home_improvement',\n",
              "       'loan_purpose_other', 'application_type_JOINT'],\n",
              "      dtype='object')"
            ]
          },
          "metadata": {},
          "execution_count": 218
        }
      ],
      "source": [
        "X_test.columns"
      ]
    },
    {
      "cell_type": "code",
      "execution_count": null,
      "metadata": {
        "id": "M_sKijWedMhS",
        "colab": {
          "base_uri": "https://localhost:8080/"
        },
        "outputId": "7f63c09a-481c-4180-819c-22dda5f4c318"
      },
      "outputs": [
        {
          "output_type": "execute_result",
          "data": {
            "text/plain": [
              "[('Bagging', BaggingClassifier(random_state=1)),\n",
              " ('Random forest', RandomForestClassifier(random_state=1)),\n",
              " ('GBM', GradientBoostingClassifier(random_state=1)),\n",
              " ('Adaboost', AdaBoostClassifier(random_state=1)),\n",
              " ('Xgboost',\n",
              "  XGBClassifier(base_score=None, booster=None, callbacks=None,\n",
              "                colsample_bylevel=None, colsample_bynode=None,\n",
              "                colsample_bytree=None, device=None, early_stopping_rounds=None,\n",
              "                enable_categorical=False, eval_metric='logloss',\n",
              "                feature_types=None, gamma=None, grow_policy=None,\n",
              "                importance_type=None, interaction_constraints=None,\n",
              "                learning_rate=None, max_bin=None, max_cat_threshold=None,\n",
              "                max_cat_to_onehot=None, max_delta_step=None, max_depth=None,\n",
              "                max_leaves=None, min_child_weight=None, missing=nan,\n",
              "                monotone_constraints=None, multi_strategy=None, n_estimators=None,\n",
              "                n_jobs=None, num_parallel_tree=None, random_state=1, ...)),\n",
              " ('Xgboost_1_1',\n",
              "  XGBClassifier(base_score=None, booster=None, callbacks=None,\n",
              "                colsample_bylevel=None, colsample_bynode=None,\n",
              "                colsample_bytree=0.5, device=None, early_stopping_rounds=None,\n",
              "                enable_categorical=False, eta=0.05, eval_metric='logloss',\n",
              "                feature_types=None, gamma=None, grow_policy=None,\n",
              "                importance_type=None, interaction_constraints=None,\n",
              "                learning_rate=None, max_bin=None, max_cat_threshold=None,\n",
              "                max_cat_to_onehot=None, max_delta_step=None, max_depth=None,\n",
              "                max_leaves=None, min_child_weight=None, missing=nan,\n",
              "                monotone_constraints=None, multi_strategy=None, n_estimators=2000,\n",
              "                n_jobs=None, num_parallel_tree=None, ...)),\n",
              " ('Xgboost_1',\n",
              "  GridSearchCV(cv=6,\n",
              "               estimator=XGBClassifier(base_score=None, booster=None,\n",
              "                                       callbacks=None, colsample_bylevel=None,\n",
              "                                       colsample_bynode=None,\n",
              "                                       colsample_bytree=None, device=None,\n",
              "                                       early_stopping_rounds=None,\n",
              "                                       enable_categorical=False, eval_metric=None,\n",
              "                                       feature_types=None, gamma=None,\n",
              "                                       grow_policy=None, importance_type=None,\n",
              "                                       interaction_constraints=None,\n",
              "                                       learning_rate=None,...\n",
              "                                       max_delta_step=None, max_depth=None,\n",
              "                                       max_leaves=None, min_child_weight=None,\n",
              "                                       missing=nan, monotone_constraints=None,\n",
              "                                       multi_strategy=None, n_estimators=None,\n",
              "                                       n_jobs=None, num_parallel_tree=None,\n",
              "                                       random_state=None, ...),\n",
              "               param_grid={'learning_rate': [0.1, 0.07, 0.06],\n",
              "                           'max_depth': [3, 5, 8], 'n_estimators': [50, 200, 500],\n",
              "                           'subsample': [0.5, 0.7, 1]},\n",
              "               scoring='accuracy', verbose=1))]"
            ]
          },
          "metadata": {},
          "execution_count": 219
        }
      ],
      "source": [
        "models"
      ]
    },
    {
      "cell_type": "code",
      "execution_count": null,
      "metadata": {
        "id": "J0u4yaqHdg0k",
        "colab": {
          "base_uri": "https://localhost:8080/"
        },
        "outputId": "9755d927-d9d1-49a2-865d-a75fd74bbff4"
      },
      "outputs": [
        {
          "output_type": "execute_result",
          "data": {
            "text/plain": [
              "('Xgboost_1',\n",
              " GridSearchCV(cv=6,\n",
              "              estimator=XGBClassifier(base_score=None, booster=None,\n",
              "                                      callbacks=None, colsample_bylevel=None,\n",
              "                                      colsample_bynode=None,\n",
              "                                      colsample_bytree=None, device=None,\n",
              "                                      early_stopping_rounds=None,\n",
              "                                      enable_categorical=False, eval_metric=None,\n",
              "                                      feature_types=None, gamma=None,\n",
              "                                      grow_policy=None, importance_type=None,\n",
              "                                      interaction_constraints=None,\n",
              "                                      learning_rate=None,...\n",
              "                                      max_delta_step=None, max_depth=None,\n",
              "                                      max_leaves=None, min_child_weight=None,\n",
              "                                      missing=nan, monotone_constraints=None,\n",
              "                                      multi_strategy=None, n_estimators=None,\n",
              "                                      n_jobs=None, num_parallel_tree=None,\n",
              "                                      random_state=None, ...),\n",
              "              param_grid={'learning_rate': [0.1, 0.07, 0.06],\n",
              "                          'max_depth': [3, 5, 8], 'n_estimators': [50, 200, 500],\n",
              "                          'subsample': [0.5, 0.7, 1]},\n",
              "              scoring='accuracy', verbose=1))"
            ]
          },
          "metadata": {},
          "execution_count": 220
        }
      ],
      "source": [
        "models[6]"
      ]
    },
    {
      "cell_type": "code",
      "execution_count": null,
      "metadata": {
        "id": "bJrLeRQ1efQZ"
      },
      "outputs": [],
      "source": []
    },
    {
      "cell_type": "code",
      "execution_count": null,
      "metadata": {
        "id": "QZ8bZPrQaUYF"
      },
      "outputs": [],
      "source": [
        "X_test.columns = [str(col) for col in X_test.columns]\n",
        "\n"
      ]
    },
    {
      "cell_type": "code",
      "execution_count": null,
      "metadata": {
        "id": "bBj-hca5Y_Hc"
      },
      "outputs": [],
      "source": [
        "\n",
        "final_model = models[6][1]"
      ]
    },
    {
      "cell_type": "code",
      "execution_count": null,
      "metadata": {
        "id": "I6QV0TwTRez6",
        "colab": {
          "base_uri": "https://localhost:8080/",
          "height": 248
        },
        "outputId": "6650a6c5-c560-446f-e382-503b4faf0b90"
      },
      "outputs": [
        {
          "output_type": "execute_result",
          "data": {
            "text/plain": [
              "XGBClassifier(base_score=None, booster=None, callbacks=None,\n",
              "              colsample_bylevel=None, colsample_bynode=None,\n",
              "              colsample_bytree=None, device=None, early_stopping_rounds=None,\n",
              "              enable_categorical=False, eval_metric=None, feature_types=None,\n",
              "              gamma=None, grow_policy=None, importance_type=None,\n",
              "              interaction_constraints=None, learning_rate=0.1, max_bin=None,\n",
              "              max_cat_threshold=None, max_cat_to_onehot=None,\n",
              "              max_delta_step=None, max_depth=8, max_leaves=None,\n",
              "              min_child_weight=None, missing=nan, monotone_constraints=None,\n",
              "              multi_strategy=None, n_estimators=50, n_jobs=None,\n",
              "              num_parallel_tree=None, random_state=None, ...)"
            ],
            "text/html": [
              "<style>#sk-container-id-9 {color: black;}#sk-container-id-9 pre{padding: 0;}#sk-container-id-9 div.sk-toggleable {background-color: white;}#sk-container-id-9 label.sk-toggleable__label {cursor: pointer;display: block;width: 100%;margin-bottom: 0;padding: 0.3em;box-sizing: border-box;text-align: center;}#sk-container-id-9 label.sk-toggleable__label-arrow:before {content: \"▸\";float: left;margin-right: 0.25em;color: #696969;}#sk-container-id-9 label.sk-toggleable__label-arrow:hover:before {color: black;}#sk-container-id-9 div.sk-estimator:hover label.sk-toggleable__label-arrow:before {color: black;}#sk-container-id-9 div.sk-toggleable__content {max-height: 0;max-width: 0;overflow: hidden;text-align: left;background-color: #f0f8ff;}#sk-container-id-9 div.sk-toggleable__content pre {margin: 0.2em;color: black;border-radius: 0.25em;background-color: #f0f8ff;}#sk-container-id-9 input.sk-toggleable__control:checked~div.sk-toggleable__content {max-height: 200px;max-width: 100%;overflow: auto;}#sk-container-id-9 input.sk-toggleable__control:checked~label.sk-toggleable__label-arrow:before {content: \"▾\";}#sk-container-id-9 div.sk-estimator input.sk-toggleable__control:checked~label.sk-toggleable__label {background-color: #d4ebff;}#sk-container-id-9 div.sk-label input.sk-toggleable__control:checked~label.sk-toggleable__label {background-color: #d4ebff;}#sk-container-id-9 input.sk-hidden--visually {border: 0;clip: rect(1px 1px 1px 1px);clip: rect(1px, 1px, 1px, 1px);height: 1px;margin: -1px;overflow: hidden;padding: 0;position: absolute;width: 1px;}#sk-container-id-9 div.sk-estimator {font-family: monospace;background-color: #f0f8ff;border: 1px dotted black;border-radius: 0.25em;box-sizing: border-box;margin-bottom: 0.5em;}#sk-container-id-9 div.sk-estimator:hover {background-color: #d4ebff;}#sk-container-id-9 div.sk-parallel-item::after {content: \"\";width: 100%;border-bottom: 1px solid gray;flex-grow: 1;}#sk-container-id-9 div.sk-label:hover label.sk-toggleable__label {background-color: #d4ebff;}#sk-container-id-9 div.sk-serial::before {content: \"\";position: absolute;border-left: 1px solid gray;box-sizing: border-box;top: 0;bottom: 0;left: 50%;z-index: 0;}#sk-container-id-9 div.sk-serial {display: flex;flex-direction: column;align-items: center;background-color: white;padding-right: 0.2em;padding-left: 0.2em;position: relative;}#sk-container-id-9 div.sk-item {position: relative;z-index: 1;}#sk-container-id-9 div.sk-parallel {display: flex;align-items: stretch;justify-content: center;background-color: white;position: relative;}#sk-container-id-9 div.sk-item::before, #sk-container-id-9 div.sk-parallel-item::before {content: \"\";position: absolute;border-left: 1px solid gray;box-sizing: border-box;top: 0;bottom: 0;left: 50%;z-index: -1;}#sk-container-id-9 div.sk-parallel-item {display: flex;flex-direction: column;z-index: 1;position: relative;background-color: white;}#sk-container-id-9 div.sk-parallel-item:first-child::after {align-self: flex-end;width: 50%;}#sk-container-id-9 div.sk-parallel-item:last-child::after {align-self: flex-start;width: 50%;}#sk-container-id-9 div.sk-parallel-item:only-child::after {width: 0;}#sk-container-id-9 div.sk-dashed-wrapped {border: 1px dashed gray;margin: 0 0.4em 0.5em 0.4em;box-sizing: border-box;padding-bottom: 0.4em;background-color: white;}#sk-container-id-9 div.sk-label label {font-family: monospace;font-weight: bold;display: inline-block;line-height: 1.2em;}#sk-container-id-9 div.sk-label-container {text-align: center;}#sk-container-id-9 div.sk-container {/* jupyter's `normalize.less` sets `[hidden] { display: none; }` but bootstrap.min.css set `[hidden] { display: none !important; }` so we also need the `!important` here to be able to override the default hidden behavior on the sphinx rendered scikit-learn.org. See: https://github.com/scikit-learn/scikit-learn/issues/21755 */display: inline-block !important;position: relative;}#sk-container-id-9 div.sk-text-repr-fallback {display: none;}</style><div id=\"sk-container-id-9\" class=\"sk-top-container\"><div class=\"sk-text-repr-fallback\"><pre>XGBClassifier(base_score=None, booster=None, callbacks=None,\n",
              "              colsample_bylevel=None, colsample_bynode=None,\n",
              "              colsample_bytree=None, device=None, early_stopping_rounds=None,\n",
              "              enable_categorical=False, eval_metric=None, feature_types=None,\n",
              "              gamma=None, grow_policy=None, importance_type=None,\n",
              "              interaction_constraints=None, learning_rate=0.1, max_bin=None,\n",
              "              max_cat_threshold=None, max_cat_to_onehot=None,\n",
              "              max_delta_step=None, max_depth=8, max_leaves=None,\n",
              "              min_child_weight=None, missing=nan, monotone_constraints=None,\n",
              "              multi_strategy=None, n_estimators=50, n_jobs=None,\n",
              "              num_parallel_tree=None, random_state=None, ...)</pre><b>In a Jupyter environment, please rerun this cell to show the HTML representation or trust the notebook. <br />On GitHub, the HTML representation is unable to render, please try loading this page with nbviewer.org.</b></div><div class=\"sk-container\" hidden><div class=\"sk-item\"><div class=\"sk-estimator sk-toggleable\"><input class=\"sk-toggleable__control sk-hidden--visually\" id=\"sk-estimator-id-15\" type=\"checkbox\" checked><label for=\"sk-estimator-id-15\" class=\"sk-toggleable__label sk-toggleable__label-arrow\">XGBClassifier</label><div class=\"sk-toggleable__content\"><pre>XGBClassifier(base_score=None, booster=None, callbacks=None,\n",
              "              colsample_bylevel=None, colsample_bynode=None,\n",
              "              colsample_bytree=None, device=None, early_stopping_rounds=None,\n",
              "              enable_categorical=False, eval_metric=None, feature_types=None,\n",
              "              gamma=None, grow_policy=None, importance_type=None,\n",
              "              interaction_constraints=None, learning_rate=0.1, max_bin=None,\n",
              "              max_cat_threshold=None, max_cat_to_onehot=None,\n",
              "              max_delta_step=None, max_depth=8, max_leaves=None,\n",
              "              min_child_weight=None, missing=nan, monotone_constraints=None,\n",
              "              multi_strategy=None, n_estimators=50, n_jobs=None,\n",
              "              num_parallel_tree=None, random_state=None, ...)</pre></div></div></div></div></div>"
            ]
          },
          "metadata": {},
          "execution_count": 223
        }
      ],
      "source": [
        "final_model.best_estimator_"
      ]
    },
    {
      "cell_type": "code",
      "execution_count": null,
      "metadata": {
        "id": "8-Zga0RG50yS"
      },
      "outputs": [],
      "source": [
        "y_pred = final_model.predict(X_test)"
      ]
    },
    {
      "cell_type": "code",
      "execution_count": null,
      "metadata": {
        "id": "HnQrnWK373yK",
        "colab": {
          "base_uri": "https://localhost:8080/"
        },
        "outputId": "47cae821-e1ba-4ffa-8bef-a7be71836265"
      },
      "outputs": [
        {
          "output_type": "execute_result",
          "data": {
            "text/plain": [
              "array([1, 0, 1, ..., 0, 0, 0])"
            ]
          },
          "metadata": {},
          "execution_count": 225
        }
      ],
      "source": [
        "y_pred\n"
      ]
    },
    {
      "cell_type": "code",
      "execution_count": null,
      "metadata": {
        "id": "wQPSlCzVEMv0"
      },
      "outputs": [],
      "source": [
        "#y_pred.columns"
      ]
    },
    {
      "cell_type": "code",
      "execution_count": null,
      "metadata": {
        "id": "5XdbA68t74Wl",
        "colab": {
          "base_uri": "https://localhost:8080/"
        },
        "outputId": "48eb406d-ee59-4b24-d584-b9787c028535"
      },
      "outputs": [
        {
          "output_type": "execute_result",
          "data": {
            "text/plain": [
              "numpy.ndarray"
            ]
          },
          "metadata": {},
          "execution_count": 227
        }
      ],
      "source": [
        "type(y_pred)"
      ]
    },
    {
      "cell_type": "markdown",
      "metadata": {
        "id": "IqceXcnd8yWy"
      },
      "source": []
    },
    {
      "cell_type": "code",
      "execution_count": null,
      "metadata": {
        "id": "3sYGNV0Q8hWa"
      },
      "outputs": [],
      "source": [
        "y_pred = pd.DataFrame(y_pred, columns=['default'])"
      ]
    },
    {
      "cell_type": "code",
      "execution_count": null,
      "metadata": {
        "id": "SKyx-cFiD7Tv",
        "colab": {
          "base_uri": "https://localhost:8080/"
        },
        "outputId": "3ad24618-2bd6-4465-fca7-65520ba072fb"
      },
      "outputs": [
        {
          "output_type": "execute_result",
          "data": {
            "text/plain": [
              "Index(['default'], dtype='object')"
            ]
          },
          "metadata": {},
          "execution_count": 229
        }
      ],
      "source": [
        "y_pred.columns"
      ]
    },
    {
      "cell_type": "code",
      "execution_count": null,
      "metadata": {
        "id": "pO_7oXq586pF",
        "colab": {
          "base_uri": "https://localhost:8080/",
          "height": 362
        },
        "outputId": "86f8848b-8680-49aa-d6e2-df70baa2ee05"
      },
      "outputs": [
        {
          "output_type": "execute_result",
          "data": {
            "text/plain": [
              "   default\n",
              "0        1\n",
              "1        0\n",
              "2        1\n",
              "3        0\n",
              "4        0\n",
              "5        1\n",
              "6        1\n",
              "7        1\n",
              "8        0\n",
              "9        0"
            ],
            "text/html": [
              "\n",
              "  <div id=\"df-fac1a34e-4abd-4827-ad41-aaaa6bfa7cc7\" class=\"colab-df-container\">\n",
              "    <div>\n",
              "<style scoped>\n",
              "    .dataframe tbody tr th:only-of-type {\n",
              "        vertical-align: middle;\n",
              "    }\n",
              "\n",
              "    .dataframe tbody tr th {\n",
              "        vertical-align: top;\n",
              "    }\n",
              "\n",
              "    .dataframe thead th {\n",
              "        text-align: right;\n",
              "    }\n",
              "</style>\n",
              "<table border=\"1\" class=\"dataframe\">\n",
              "  <thead>\n",
              "    <tr style=\"text-align: right;\">\n",
              "      <th></th>\n",
              "      <th>default</th>\n",
              "    </tr>\n",
              "  </thead>\n",
              "  <tbody>\n",
              "    <tr>\n",
              "      <th>0</th>\n",
              "      <td>1</td>\n",
              "    </tr>\n",
              "    <tr>\n",
              "      <th>1</th>\n",
              "      <td>0</td>\n",
              "    </tr>\n",
              "    <tr>\n",
              "      <th>2</th>\n",
              "      <td>1</td>\n",
              "    </tr>\n",
              "    <tr>\n",
              "      <th>3</th>\n",
              "      <td>0</td>\n",
              "    </tr>\n",
              "    <tr>\n",
              "      <th>4</th>\n",
              "      <td>0</td>\n",
              "    </tr>\n",
              "    <tr>\n",
              "      <th>5</th>\n",
              "      <td>1</td>\n",
              "    </tr>\n",
              "    <tr>\n",
              "      <th>6</th>\n",
              "      <td>1</td>\n",
              "    </tr>\n",
              "    <tr>\n",
              "      <th>7</th>\n",
              "      <td>1</td>\n",
              "    </tr>\n",
              "    <tr>\n",
              "      <th>8</th>\n",
              "      <td>0</td>\n",
              "    </tr>\n",
              "    <tr>\n",
              "      <th>9</th>\n",
              "      <td>0</td>\n",
              "    </tr>\n",
              "  </tbody>\n",
              "</table>\n",
              "</div>\n",
              "    <div class=\"colab-df-buttons\">\n",
              "\n",
              "  <div class=\"colab-df-container\">\n",
              "    <button class=\"colab-df-convert\" onclick=\"convertToInteractive('df-fac1a34e-4abd-4827-ad41-aaaa6bfa7cc7')\"\n",
              "            title=\"Convert this dataframe to an interactive table.\"\n",
              "            style=\"display:none;\">\n",
              "\n",
              "  <svg xmlns=\"http://www.w3.org/2000/svg\" height=\"24px\" viewBox=\"0 -960 960 960\">\n",
              "    <path d=\"M120-120v-720h720v720H120Zm60-500h600v-160H180v160Zm220 220h160v-160H400v160Zm0 220h160v-160H400v160ZM180-400h160v-160H180v160Zm440 0h160v-160H620v160ZM180-180h160v-160H180v160Zm440 0h160v-160H620v160Z\"/>\n",
              "  </svg>\n",
              "    </button>\n",
              "\n",
              "  <style>\n",
              "    .colab-df-container {\n",
              "      display:flex;\n",
              "      gap: 12px;\n",
              "    }\n",
              "\n",
              "    .colab-df-convert {\n",
              "      background-color: #E8F0FE;\n",
              "      border: none;\n",
              "      border-radius: 50%;\n",
              "      cursor: pointer;\n",
              "      display: none;\n",
              "      fill: #1967D2;\n",
              "      height: 32px;\n",
              "      padding: 0 0 0 0;\n",
              "      width: 32px;\n",
              "    }\n",
              "\n",
              "    .colab-df-convert:hover {\n",
              "      background-color: #E2EBFA;\n",
              "      box-shadow: 0px 1px 2px rgba(60, 64, 67, 0.3), 0px 1px 3px 1px rgba(60, 64, 67, 0.15);\n",
              "      fill: #174EA6;\n",
              "    }\n",
              "\n",
              "    .colab-df-buttons div {\n",
              "      margin-bottom: 4px;\n",
              "    }\n",
              "\n",
              "    [theme=dark] .colab-df-convert {\n",
              "      background-color: #3B4455;\n",
              "      fill: #D2E3FC;\n",
              "    }\n",
              "\n",
              "    [theme=dark] .colab-df-convert:hover {\n",
              "      background-color: #434B5C;\n",
              "      box-shadow: 0px 1px 3px 1px rgba(0, 0, 0, 0.15);\n",
              "      filter: drop-shadow(0px 1px 2px rgba(0, 0, 0, 0.3));\n",
              "      fill: #FFFFFF;\n",
              "    }\n",
              "  </style>\n",
              "\n",
              "    <script>\n",
              "      const buttonEl =\n",
              "        document.querySelector('#df-fac1a34e-4abd-4827-ad41-aaaa6bfa7cc7 button.colab-df-convert');\n",
              "      buttonEl.style.display =\n",
              "        google.colab.kernel.accessAllowed ? 'block' : 'none';\n",
              "\n",
              "      async function convertToInteractive(key) {\n",
              "        const element = document.querySelector('#df-fac1a34e-4abd-4827-ad41-aaaa6bfa7cc7');\n",
              "        const dataTable =\n",
              "          await google.colab.kernel.invokeFunction('convertToInteractive',\n",
              "                                                    [key], {});\n",
              "        if (!dataTable) return;\n",
              "\n",
              "        const docLinkHtml = 'Like what you see? Visit the ' +\n",
              "          '<a target=\"_blank\" href=https://colab.research.google.com/notebooks/data_table.ipynb>data table notebook</a>'\n",
              "          + ' to learn more about interactive tables.';\n",
              "        element.innerHTML = '';\n",
              "        dataTable['output_type'] = 'display_data';\n",
              "        await google.colab.output.renderOutput(dataTable, element);\n",
              "        const docLink = document.createElement('div');\n",
              "        docLink.innerHTML = docLinkHtml;\n",
              "        element.appendChild(docLink);\n",
              "      }\n",
              "    </script>\n",
              "  </div>\n",
              "\n",
              "\n",
              "<div id=\"df-cd870f6e-2634-49b9-91bb-05c816df463a\">\n",
              "  <button class=\"colab-df-quickchart\" onclick=\"quickchart('df-cd870f6e-2634-49b9-91bb-05c816df463a')\"\n",
              "            title=\"Suggest charts\"\n",
              "            style=\"display:none;\">\n",
              "\n",
              "<svg xmlns=\"http://www.w3.org/2000/svg\" height=\"24px\"viewBox=\"0 0 24 24\"\n",
              "     width=\"24px\">\n",
              "    <g>\n",
              "        <path d=\"M19 3H5c-1.1 0-2 .9-2 2v14c0 1.1.9 2 2 2h14c1.1 0 2-.9 2-2V5c0-1.1-.9-2-2-2zM9 17H7v-7h2v7zm4 0h-2V7h2v10zm4 0h-2v-4h2v4z\"/>\n",
              "    </g>\n",
              "</svg>\n",
              "  </button>\n",
              "\n",
              "<style>\n",
              "  .colab-df-quickchart {\n",
              "      --bg-color: #E8F0FE;\n",
              "      --fill-color: #1967D2;\n",
              "      --hover-bg-color: #E2EBFA;\n",
              "      --hover-fill-color: #174EA6;\n",
              "      --disabled-fill-color: #AAA;\n",
              "      --disabled-bg-color: #DDD;\n",
              "  }\n",
              "\n",
              "  [theme=dark] .colab-df-quickchart {\n",
              "      --bg-color: #3B4455;\n",
              "      --fill-color: #D2E3FC;\n",
              "      --hover-bg-color: #434B5C;\n",
              "      --hover-fill-color: #FFFFFF;\n",
              "      --disabled-bg-color: #3B4455;\n",
              "      --disabled-fill-color: #666;\n",
              "  }\n",
              "\n",
              "  .colab-df-quickchart {\n",
              "    background-color: var(--bg-color);\n",
              "    border: none;\n",
              "    border-radius: 50%;\n",
              "    cursor: pointer;\n",
              "    display: none;\n",
              "    fill: var(--fill-color);\n",
              "    height: 32px;\n",
              "    padding: 0;\n",
              "    width: 32px;\n",
              "  }\n",
              "\n",
              "  .colab-df-quickchart:hover {\n",
              "    background-color: var(--hover-bg-color);\n",
              "    box-shadow: 0 1px 2px rgba(60, 64, 67, 0.3), 0 1px 3px 1px rgba(60, 64, 67, 0.15);\n",
              "    fill: var(--button-hover-fill-color);\n",
              "  }\n",
              "\n",
              "  .colab-df-quickchart-complete:disabled,\n",
              "  .colab-df-quickchart-complete:disabled:hover {\n",
              "    background-color: var(--disabled-bg-color);\n",
              "    fill: var(--disabled-fill-color);\n",
              "    box-shadow: none;\n",
              "  }\n",
              "\n",
              "  .colab-df-spinner {\n",
              "    border: 2px solid var(--fill-color);\n",
              "    border-color: transparent;\n",
              "    border-bottom-color: var(--fill-color);\n",
              "    animation:\n",
              "      spin 1s steps(1) infinite;\n",
              "  }\n",
              "\n",
              "  @keyframes spin {\n",
              "    0% {\n",
              "      border-color: transparent;\n",
              "      border-bottom-color: var(--fill-color);\n",
              "      border-left-color: var(--fill-color);\n",
              "    }\n",
              "    20% {\n",
              "      border-color: transparent;\n",
              "      border-left-color: var(--fill-color);\n",
              "      border-top-color: var(--fill-color);\n",
              "    }\n",
              "    30% {\n",
              "      border-color: transparent;\n",
              "      border-left-color: var(--fill-color);\n",
              "      border-top-color: var(--fill-color);\n",
              "      border-right-color: var(--fill-color);\n",
              "    }\n",
              "    40% {\n",
              "      border-color: transparent;\n",
              "      border-right-color: var(--fill-color);\n",
              "      border-top-color: var(--fill-color);\n",
              "    }\n",
              "    60% {\n",
              "      border-color: transparent;\n",
              "      border-right-color: var(--fill-color);\n",
              "    }\n",
              "    80% {\n",
              "      border-color: transparent;\n",
              "      border-right-color: var(--fill-color);\n",
              "      border-bottom-color: var(--fill-color);\n",
              "    }\n",
              "    90% {\n",
              "      border-color: transparent;\n",
              "      border-bottom-color: var(--fill-color);\n",
              "    }\n",
              "  }\n",
              "</style>\n",
              "\n",
              "  <script>\n",
              "    async function quickchart(key) {\n",
              "      const quickchartButtonEl =\n",
              "        document.querySelector('#' + key + ' button');\n",
              "      quickchartButtonEl.disabled = true;  // To prevent multiple clicks.\n",
              "      quickchartButtonEl.classList.add('colab-df-spinner');\n",
              "      try {\n",
              "        const charts = await google.colab.kernel.invokeFunction(\n",
              "            'suggestCharts', [key], {});\n",
              "      } catch (error) {\n",
              "        console.error('Error during call to suggestCharts:', error);\n",
              "      }\n",
              "      quickchartButtonEl.classList.remove('colab-df-spinner');\n",
              "      quickchartButtonEl.classList.add('colab-df-quickchart-complete');\n",
              "    }\n",
              "    (() => {\n",
              "      let quickchartButtonEl =\n",
              "        document.querySelector('#df-cd870f6e-2634-49b9-91bb-05c816df463a button');\n",
              "      quickchartButtonEl.style.display =\n",
              "        google.colab.kernel.accessAllowed ? 'block' : 'none';\n",
              "    })();\n",
              "  </script>\n",
              "</div>\n",
              "\n",
              "    </div>\n",
              "  </div>\n"
            ],
            "application/vnd.google.colaboratory.intrinsic+json": {
              "type": "dataframe",
              "variable_name": "y_pred",
              "summary": "{\n  \"name\": \"y_pred\",\n  \"rows\": 39933,\n  \"fields\": [\n    {\n      \"column\": \"default\",\n      \"properties\": {\n        \"dtype\": \"number\",\n        \"std\": 0,\n        \"min\": 0,\n        \"max\": 1,\n        \"num_unique_values\": 2,\n        \"samples\": [\n          0,\n          1\n        ],\n        \"semantic_type\": \"\",\n        \"description\": \"\"\n      }\n    }\n  ]\n}"
            }
          },
          "metadata": {},
          "execution_count": 230
        }
      ],
      "source": [
        "# check the rows in y_pred\n",
        "y_pred.head(10)\n"
      ]
    },
    {
      "cell_type": "code",
      "execution_count": null,
      "metadata": {
        "id": "Z4A_UAlkQJzm"
      },
      "outputs": [],
      "source": [
        "#insert column names to y_pred as id and default\n",
        "y_pred.insert(0, 'ID', df_test['ID'])\n",
        "#y_pred.insert(1, 'default', y_pred)"
      ]
    },
    {
      "cell_type": "code",
      "execution_count": null,
      "metadata": {
        "id": "N3yz5wSbSOnO",
        "colab": {
          "base_uri": "https://localhost:8080/",
          "height": 206
        },
        "outputId": "ad872719-1e8c-4682-e979-6006a09c6926"
      },
      "outputs": [
        {
          "output_type": "execute_result",
          "data": {
            "text/plain": [
              "         ID  default\n",
              "0   4855329        1\n",
              "1  66862420        0\n",
              "2   3637416        1\n",
              "3  53682249        0\n",
              "4  53937165        0"
            ],
            "text/html": [
              "\n",
              "  <div id=\"df-07e2aea9-b57e-4c25-914c-173dbe2a6282\" class=\"colab-df-container\">\n",
              "    <div>\n",
              "<style scoped>\n",
              "    .dataframe tbody tr th:only-of-type {\n",
              "        vertical-align: middle;\n",
              "    }\n",
              "\n",
              "    .dataframe tbody tr th {\n",
              "        vertical-align: top;\n",
              "    }\n",
              "\n",
              "    .dataframe thead th {\n",
              "        text-align: right;\n",
              "    }\n",
              "</style>\n",
              "<table border=\"1\" class=\"dataframe\">\n",
              "  <thead>\n",
              "    <tr style=\"text-align: right;\">\n",
              "      <th></th>\n",
              "      <th>ID</th>\n",
              "      <th>default</th>\n",
              "    </tr>\n",
              "  </thead>\n",
              "  <tbody>\n",
              "    <tr>\n",
              "      <th>0</th>\n",
              "      <td>4855329</td>\n",
              "      <td>1</td>\n",
              "    </tr>\n",
              "    <tr>\n",
              "      <th>1</th>\n",
              "      <td>66862420</td>\n",
              "      <td>0</td>\n",
              "    </tr>\n",
              "    <tr>\n",
              "      <th>2</th>\n",
              "      <td>3637416</td>\n",
              "      <td>1</td>\n",
              "    </tr>\n",
              "    <tr>\n",
              "      <th>3</th>\n",
              "      <td>53682249</td>\n",
              "      <td>0</td>\n",
              "    </tr>\n",
              "    <tr>\n",
              "      <th>4</th>\n",
              "      <td>53937165</td>\n",
              "      <td>0</td>\n",
              "    </tr>\n",
              "  </tbody>\n",
              "</table>\n",
              "</div>\n",
              "    <div class=\"colab-df-buttons\">\n",
              "\n",
              "  <div class=\"colab-df-container\">\n",
              "    <button class=\"colab-df-convert\" onclick=\"convertToInteractive('df-07e2aea9-b57e-4c25-914c-173dbe2a6282')\"\n",
              "            title=\"Convert this dataframe to an interactive table.\"\n",
              "            style=\"display:none;\">\n",
              "\n",
              "  <svg xmlns=\"http://www.w3.org/2000/svg\" height=\"24px\" viewBox=\"0 -960 960 960\">\n",
              "    <path d=\"M120-120v-720h720v720H120Zm60-500h600v-160H180v160Zm220 220h160v-160H400v160Zm0 220h160v-160H400v160ZM180-400h160v-160H180v160Zm440 0h160v-160H620v160ZM180-180h160v-160H180v160Zm440 0h160v-160H620v160Z\"/>\n",
              "  </svg>\n",
              "    </button>\n",
              "\n",
              "  <style>\n",
              "    .colab-df-container {\n",
              "      display:flex;\n",
              "      gap: 12px;\n",
              "    }\n",
              "\n",
              "    .colab-df-convert {\n",
              "      background-color: #E8F0FE;\n",
              "      border: none;\n",
              "      border-radius: 50%;\n",
              "      cursor: pointer;\n",
              "      display: none;\n",
              "      fill: #1967D2;\n",
              "      height: 32px;\n",
              "      padding: 0 0 0 0;\n",
              "      width: 32px;\n",
              "    }\n",
              "\n",
              "    .colab-df-convert:hover {\n",
              "      background-color: #E2EBFA;\n",
              "      box-shadow: 0px 1px 2px rgba(60, 64, 67, 0.3), 0px 1px 3px 1px rgba(60, 64, 67, 0.15);\n",
              "      fill: #174EA6;\n",
              "    }\n",
              "\n",
              "    .colab-df-buttons div {\n",
              "      margin-bottom: 4px;\n",
              "    }\n",
              "\n",
              "    [theme=dark] .colab-df-convert {\n",
              "      background-color: #3B4455;\n",
              "      fill: #D2E3FC;\n",
              "    }\n",
              "\n",
              "    [theme=dark] .colab-df-convert:hover {\n",
              "      background-color: #434B5C;\n",
              "      box-shadow: 0px 1px 3px 1px rgba(0, 0, 0, 0.15);\n",
              "      filter: drop-shadow(0px 1px 2px rgba(0, 0, 0, 0.3));\n",
              "      fill: #FFFFFF;\n",
              "    }\n",
              "  </style>\n",
              "\n",
              "    <script>\n",
              "      const buttonEl =\n",
              "        document.querySelector('#df-07e2aea9-b57e-4c25-914c-173dbe2a6282 button.colab-df-convert');\n",
              "      buttonEl.style.display =\n",
              "        google.colab.kernel.accessAllowed ? 'block' : 'none';\n",
              "\n",
              "      async function convertToInteractive(key) {\n",
              "        const element = document.querySelector('#df-07e2aea9-b57e-4c25-914c-173dbe2a6282');\n",
              "        const dataTable =\n",
              "          await google.colab.kernel.invokeFunction('convertToInteractive',\n",
              "                                                    [key], {});\n",
              "        if (!dataTable) return;\n",
              "\n",
              "        const docLinkHtml = 'Like what you see? Visit the ' +\n",
              "          '<a target=\"_blank\" href=https://colab.research.google.com/notebooks/data_table.ipynb>data table notebook</a>'\n",
              "          + ' to learn more about interactive tables.';\n",
              "        element.innerHTML = '';\n",
              "        dataTable['output_type'] = 'display_data';\n",
              "        await google.colab.output.renderOutput(dataTable, element);\n",
              "        const docLink = document.createElement('div');\n",
              "        docLink.innerHTML = docLinkHtml;\n",
              "        element.appendChild(docLink);\n",
              "      }\n",
              "    </script>\n",
              "  </div>\n",
              "\n",
              "\n",
              "<div id=\"df-5453da2e-aaef-4293-86e9-10c8d16f60cb\">\n",
              "  <button class=\"colab-df-quickchart\" onclick=\"quickchart('df-5453da2e-aaef-4293-86e9-10c8d16f60cb')\"\n",
              "            title=\"Suggest charts\"\n",
              "            style=\"display:none;\">\n",
              "\n",
              "<svg xmlns=\"http://www.w3.org/2000/svg\" height=\"24px\"viewBox=\"0 0 24 24\"\n",
              "     width=\"24px\">\n",
              "    <g>\n",
              "        <path d=\"M19 3H5c-1.1 0-2 .9-2 2v14c0 1.1.9 2 2 2h14c1.1 0 2-.9 2-2V5c0-1.1-.9-2-2-2zM9 17H7v-7h2v7zm4 0h-2V7h2v10zm4 0h-2v-4h2v4z\"/>\n",
              "    </g>\n",
              "</svg>\n",
              "  </button>\n",
              "\n",
              "<style>\n",
              "  .colab-df-quickchart {\n",
              "      --bg-color: #E8F0FE;\n",
              "      --fill-color: #1967D2;\n",
              "      --hover-bg-color: #E2EBFA;\n",
              "      --hover-fill-color: #174EA6;\n",
              "      --disabled-fill-color: #AAA;\n",
              "      --disabled-bg-color: #DDD;\n",
              "  }\n",
              "\n",
              "  [theme=dark] .colab-df-quickchart {\n",
              "      --bg-color: #3B4455;\n",
              "      --fill-color: #D2E3FC;\n",
              "      --hover-bg-color: #434B5C;\n",
              "      --hover-fill-color: #FFFFFF;\n",
              "      --disabled-bg-color: #3B4455;\n",
              "      --disabled-fill-color: #666;\n",
              "  }\n",
              "\n",
              "  .colab-df-quickchart {\n",
              "    background-color: var(--bg-color);\n",
              "    border: none;\n",
              "    border-radius: 50%;\n",
              "    cursor: pointer;\n",
              "    display: none;\n",
              "    fill: var(--fill-color);\n",
              "    height: 32px;\n",
              "    padding: 0;\n",
              "    width: 32px;\n",
              "  }\n",
              "\n",
              "  .colab-df-quickchart:hover {\n",
              "    background-color: var(--hover-bg-color);\n",
              "    box-shadow: 0 1px 2px rgba(60, 64, 67, 0.3), 0 1px 3px 1px rgba(60, 64, 67, 0.15);\n",
              "    fill: var(--button-hover-fill-color);\n",
              "  }\n",
              "\n",
              "  .colab-df-quickchart-complete:disabled,\n",
              "  .colab-df-quickchart-complete:disabled:hover {\n",
              "    background-color: var(--disabled-bg-color);\n",
              "    fill: var(--disabled-fill-color);\n",
              "    box-shadow: none;\n",
              "  }\n",
              "\n",
              "  .colab-df-spinner {\n",
              "    border: 2px solid var(--fill-color);\n",
              "    border-color: transparent;\n",
              "    border-bottom-color: var(--fill-color);\n",
              "    animation:\n",
              "      spin 1s steps(1) infinite;\n",
              "  }\n",
              "\n",
              "  @keyframes spin {\n",
              "    0% {\n",
              "      border-color: transparent;\n",
              "      border-bottom-color: var(--fill-color);\n",
              "      border-left-color: var(--fill-color);\n",
              "    }\n",
              "    20% {\n",
              "      border-color: transparent;\n",
              "      border-left-color: var(--fill-color);\n",
              "      border-top-color: var(--fill-color);\n",
              "    }\n",
              "    30% {\n",
              "      border-color: transparent;\n",
              "      border-left-color: var(--fill-color);\n",
              "      border-top-color: var(--fill-color);\n",
              "      border-right-color: var(--fill-color);\n",
              "    }\n",
              "    40% {\n",
              "      border-color: transparent;\n",
              "      border-right-color: var(--fill-color);\n",
              "      border-top-color: var(--fill-color);\n",
              "    }\n",
              "    60% {\n",
              "      border-color: transparent;\n",
              "      border-right-color: var(--fill-color);\n",
              "    }\n",
              "    80% {\n",
              "      border-color: transparent;\n",
              "      border-right-color: var(--fill-color);\n",
              "      border-bottom-color: var(--fill-color);\n",
              "    }\n",
              "    90% {\n",
              "      border-color: transparent;\n",
              "      border-bottom-color: var(--fill-color);\n",
              "    }\n",
              "  }\n",
              "</style>\n",
              "\n",
              "  <script>\n",
              "    async function quickchart(key) {\n",
              "      const quickchartButtonEl =\n",
              "        document.querySelector('#' + key + ' button');\n",
              "      quickchartButtonEl.disabled = true;  // To prevent multiple clicks.\n",
              "      quickchartButtonEl.classList.add('colab-df-spinner');\n",
              "      try {\n",
              "        const charts = await google.colab.kernel.invokeFunction(\n",
              "            'suggestCharts', [key], {});\n",
              "      } catch (error) {\n",
              "        console.error('Error during call to suggestCharts:', error);\n",
              "      }\n",
              "      quickchartButtonEl.classList.remove('colab-df-spinner');\n",
              "      quickchartButtonEl.classList.add('colab-df-quickchart-complete');\n",
              "    }\n",
              "    (() => {\n",
              "      let quickchartButtonEl =\n",
              "        document.querySelector('#df-5453da2e-aaef-4293-86e9-10c8d16f60cb button');\n",
              "      quickchartButtonEl.style.display =\n",
              "        google.colab.kernel.accessAllowed ? 'block' : 'none';\n",
              "    })();\n",
              "  </script>\n",
              "</div>\n",
              "\n",
              "    </div>\n",
              "  </div>\n"
            ],
            "application/vnd.google.colaboratory.intrinsic+json": {
              "type": "dataframe",
              "variable_name": "y_pred",
              "summary": "{\n  \"name\": \"y_pred\",\n  \"rows\": 39933,\n  \"fields\": [\n    {\n      \"column\": \"ID\",\n      \"properties\": {\n        \"dtype\": \"number\",\n        \"std\": 24217502,\n        \"min\": 74301,\n        \"max\": 73519693,\n        \"num_unique_values\": 39933,\n        \"samples\": [\n          45271496,\n          12430098,\n          10718053\n        ],\n        \"semantic_type\": \"\",\n        \"description\": \"\"\n      }\n    },\n    {\n      \"column\": \"default\",\n      \"properties\": {\n        \"dtype\": \"number\",\n        \"std\": 0,\n        \"min\": 0,\n        \"max\": 1,\n        \"num_unique_values\": 2,\n        \"samples\": [\n          0,\n          1\n        ],\n        \"semantic_type\": \"\",\n        \"description\": \"\"\n      }\n    }\n  ]\n}"
            }
          },
          "metadata": {},
          "execution_count": 232
        }
      ],
      "source": [
        "y_pred.head()"
      ]
    },
    {
      "cell_type": "code",
      "execution_count": null,
      "metadata": {
        "id": "l_WEoSiNFh3V"
      },
      "outputs": [],
      "source": [
        "y_pred.to_csv('/content/drive/MyDrive/AI_ML_Texas/Hackathon/data/submission_7.csv', index=False)\n",
        "\n",
        "#y_pred.to_csv('/content/drive/MyDrive/AI_ML_Texas/Hackathon/data/submission_1.csv', index=False)\n",
        "\n"
      ]
    },
    {
      "cell_type": "code",
      "execution_count": null,
      "metadata": {
        "id": "8Kh3wO1kHDdU",
        "colab": {
          "base_uri": "https://localhost:8080/"
        },
        "outputId": "b1d9e9c7-575a-46db-a7eb-c92aaa7fb0ad"
      },
      "outputs": [
        {
          "output_type": "execute_result",
          "data": {
            "text/plain": [
              "0         4855329\n",
              "1        66862420\n",
              "2         3637416\n",
              "3        53682249\n",
              "4        53937165\n",
              "           ...   \n",
              "39928    57779318\n",
              "39929    59742362\n",
              "39930    72657145\n",
              "39931    15220189\n",
              "39932    21810584\n",
              "Name: ID, Length: 39933, dtype: int64"
            ]
          },
          "metadata": {},
          "execution_count": 234
        }
      ],
      "source": [
        "y_pred.ID"
      ]
    },
    {
      "cell_type": "markdown",
      "metadata": {
        "id": "C30iFhAY9BxB"
      },
      "source": []
    },
    {
      "cell_type": "code",
      "execution_count": null,
      "metadata": {
        "id": "NrN1qJZZ87EM"
      },
      "outputs": [],
      "source": []
    },
    {
      "cell_type": "code",
      "execution_count": null,
      "metadata": {
        "id": "J244gmgZfy11"
      },
      "outputs": [],
      "source": [
        "#y_pred.to_csv('submission.csv', index=False)\n"
      ]
    },
    {
      "cell_type": "code",
      "execution_count": null,
      "metadata": {
        "id": "55dFnWZya4SL"
      },
      "outputs": [],
      "source": [
        "# path of submission.csv\n",
        "# '/content/drive/MyDrive/AI_ML_Texas/Hackathon/data/submission.csv'\n"
      ]
    },
    {
      "cell_type": "code",
      "execution_count": null,
      "metadata": {
        "id": "Nh31tJDWDPbM"
      },
      "outputs": [],
      "source": [
        "#insert column names to y_pred as id and default\n",
        "#y_pred.insert(0, 'ID', df_test['ID'])\n",
        "#y_pred.insert(1, 'default', y_pred)\n",
        "\n",
        "\n"
      ]
    },
    {
      "cell_type": "code",
      "execution_count": null,
      "metadata": {
        "id": "pHLIKXUjfNp4"
      },
      "outputs": [],
      "source": [
        "# import pandas as pd # Import the pandas library\n",
        "\n",
        "# # # Assuming your categorical columns are: 'loan_term', 'loan_grade', 'loan_subgrade', 'job_experience', 'income_verification_status', 'loan_purpose', 'application_type'\n",
        "# # categorical_cols = ['loan_term', 'loan_grade', 'loan_subgrade', 'job_experience',\n",
        "# #                    'income_verification_status', 'loan_purpose', 'application_type']\n",
        "\n",
        "# # # Convert these columns to categorical type\n",
        "# # for col in categorical_cols:\n",
        "# #     X_test[col] = X_test[col].astype('category')\n",
        "\n",
        "# # Now you can try running your prediction again\n",
        "# y_pred = final_model.predict(X_test)"
      ]
    },
    {
      "cell_type": "code",
      "execution_count": null,
      "metadata": {
        "id": "V16aBW8YaDFo"
      },
      "outputs": [],
      "source": [
        "#y_pred = final_model.predict(X_test)"
      ]
    },
    {
      "cell_type": "code",
      "execution_count": null,
      "metadata": {
        "id": "8iangImcaPIO"
      },
      "outputs": [],
      "source": []
    }
  ],
  "metadata": {
    "colab": {
      "provenance": [],
      "authorship_tag": "ABX9TyPcNipCQVMo5qo2U/68KjFZ",
      "include_colab_link": true
    },
    "kernelspec": {
      "display_name": "Python 3",
      "name": "python3"
    },
    "language_info": {
      "name": "python"
    }
  },
  "nbformat": 4,
  "nbformat_minor": 0
}
